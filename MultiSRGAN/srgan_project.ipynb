{
  "cells": [
    {
      "cell_type": "code",
      "metadata": {
        "jukit_cell_id": "b3gT8SQ8Mb"
      },
      "source": [
        "from pathlib import Path\n",
        "\n",
        "import torch\n",
        "from model_tester import ModelTester\n",
        "from statistics_utils import PlotProcessor\n",
        "from train import Trainer"
      ],
      "outputs": [],
      "execution_count": null
    },
    {
      "cell_type": "code",
      "metadata": {
        "jukit_cell_id": "tGSm6kvzm1"
      },
      "source": [
        "train_dir = Path('data/compressed_max_full_hd/DIV2K_train_LR_bicubic/')\n",
        "eval_dir = Path('data/compressed_max_full_hd/DIV2K_valid_LR_bicubic/')"
      ],
      "outputs": [],
      "execution_count": null
    },
    {
      "cell_type": "markdown",
      "metadata": {
        "jukit_cell_id": "4slkQrszNN"
      },
      "source": [
        "run 0"
      ]
    },
    {
      "cell_type": "code",
      "metadata": {
        "jukit_cell_id": "rqd82dY2Uz"
      },
      "source": [
        "gen_optimizer = torch.optim.Adam\n",
        "disc_optimizer = torch.optim.Adam\n",
        "gen_optimizer_params = {'lr': 3e-4}\n",
        "disc_optimizer_params = {'lr': 1e-4}\n",
        "g_name = None\n",
        "d_name = None\n",
        "trainer = Trainer(crop_size=100, epochs=100, gen_optimizer=gen_optimizer,\n",
        "                  disc_optimizer=disc_optimizer,\n",
        "                  gen_optimizer_params=gen_optimizer_params,\n",
        "                  disc_optimizer_params=disc_optimizer_params,\n",
        "                  gen_model_name=g_name,\n",
        "                  disc_model_name=d_name,\n",
        "                  save_interval=25)\n",
        "trainer.fit(train_dir, eval_dir, batch_size=48,\n",
        "            data_augmentation_type='photo',\n",
        "            model_tag='run0', save_g_as='generator_run0',\n",
        "            save_d_as='discriminator_run0')"
      ],
      "outputs": [],
      "execution_count": null
    },
    {
      "cell_type": "markdown",
      "metadata": {
        "jukit_cell_id": "XqpiGNaHCH"
      },
      "source": [
        "run1"
      ]
    },
    {
      "cell_type": "code",
      "metadata": {
        "jukit_cell_id": "FaiJpSOxOC"
      },
      "source": [
        "gen_optimizer = torch.optim.Adam\n",
        "disc_optimizer = torch.optim.Adam\n",
        "gen_optimizer_params = {'lr': 3e-4}\n",
        "disc_optimizer_params = {'lr': 1e-4}\n",
        "loss_coeffs = (1, 0.03, 0.04)\n",
        "g_name = 'models/generator_run0.pt'\n",
        "d_name = 'models/discriminator_run0.pt'\n",
        "trainer = Trainer(crop_size=100, epochs=80, gen_optimizer=gen_optimizer,\n",
        "                  disc_optimizer=disc_optimizer,\n",
        "                  gen_optimizer_params=gen_optimizer_params,\n",
        "                  disc_optimizer_params=disc_optimizer_params,\n",
        "                  gen_model_name=g_name,\n",
        "                  disc_model_name=d_name,\n",
        "                  save_interval=20)\n",
        "trainer.fit(train_dir, eval_dir, batch_size=48,\n",
        "            data_augmentation_type='photo',\n",
        "            model_tag='run1', save_g_as='generator_run1',\n",
        "            save_d_as='discriminator_run1')"
      ],
      "outputs": [],
      "execution_count": null
    },
    {
      "cell_type": "markdown",
      "metadata": {
        "jukit_cell_id": "3vCQdC9l4e"
      },
      "source": [
        "run2"
      ]
    },
    {
      "cell_type": "code",
      "metadata": {
        "jukit_cell_id": "jVibzlw25C"
      },
      "source": [
        "gen_optimizer = torch.optim.Adam\n",
        "disc_optimizer = torch.optim.Adam\n",
        "gen_optimizer_params = {'lr': 4e-4}\n",
        "disc_optimizer_params = {'lr': 1e-4}\n",
        "loss_coeffs = (1, 0.04, 0.1)\n",
        "g_name = 'models/generator_run1.pt'\n",
        "d_name = 'models/discriminator_run1.pt'\n",
        "trainer = Trainer(crop_size=100, epochs=60, gen_optimizer=gen_optimizer,\n",
        "                  disc_optimizer=disc_optimizer,\n",
        "                  gen_optimizer_params=gen_optimizer_params,\n",
        "                  disc_optimizer_params=disc_optimizer_params,\n",
        "                  gen_model_name=g_name,\n",
        "                  disc_model_name=d_name,\n",
        "                  save_interval=15,\n",
        "                  loss_coeffs=loss_coeffs)\n",
        "trainer.fit(train_dir, eval_dir, batch_size=48,\n",
        "            data_augmentation_type='photo',\n",
        "            model_tag='run2', save_g_as='generator_run2',\n",
        "            save_d_as='discriminator_run2')"
      ],
      "outputs": [],
      "execution_count": null
    },
    {
      "cell_type": "markdown",
      "metadata": {
        "jukit_cell_id": "H8d995Z2Mf"
      },
      "source": [
        "run 3"
      ]
    },
    {
      "cell_type": "code",
      "metadata": {
        "jukit_cell_id": "sTvK26oaZw"
      },
      "source": [
        "gen_optimizer = torch.optim.Adam\n",
        "disc_optimizer = torch.optim.Adam\n",
        "gen_optimizer_params = {'lr': 3e-4}\n",
        "disc_optimizer_params = {'lr': 1e-4}\n",
        "loss_coeffs = (1, 0.02, 0.06)\n",
        "g_name = 'models/generator_run2.pt'\n",
        "d_name = 'models/discriminator_run2.pt'\n",
        "trainer = Trainer(crop_size=100, epochs=40, gen_optimizer=gen_optimizer,\n",
        "                  disc_optimizer=disc_optimizer,\n",
        "                  gen_optimizer_params=gen_optimizer_params,\n",
        "                  disc_optimizer_params=disc_optimizer_params,\n",
        "                  gen_model_name=g_name,\n",
        "                  disc_model_name=d_name,\n",
        "                  save_interval=10,\n",
        "                  loss_coeffs=loss_coeffs)\n",
        "trainer.fit(train_dir, eval_dir, batch_size=48,\n",
        "            data_augmentation_type='photo',\n",
        "            model_tag='run3', save_g_as='generator_run3',\n",
        "            save_d_as='discriminator_run3')"
      ],
      "outputs": [],
      "execution_count": null
    },
    {
      "cell_type": "markdown",
      "metadata": {
        "jukit_cell_id": "20RuzaMx2x"
      },
      "source": [
        "Now let's rerun old gan-only model with better parameters"
      ]
    },
    {
      "cell_type": "code",
      "metadata": {
        "jukit_cell_id": "yk7u2rAbYW"
      },
      "source": [
        "gen_optimizer = torch.optim.Adam\n",
        "disc_optimizer = torch.optim.AdamW\n",
        "gen_optimizer_params = {'lr': 3e-4}\n",
        "disc_optimizer_params = {'lr': 5e-5}\n",
        "loss_coeffs = (0.3, 0.2, 0.2)\n",
        "trainer = Trainer(crop_size=100, epochs=120, gen_optimizer=gen_optimizer,\n",
        "                  disc_optimizer=disc_optimizer,\n",
        "                  gen_optimizer_params=gen_optimizer_params,\n",
        "                  disc_optimizer_params=disc_optimizer_params,\n",
        "                  save_interval=20,\n",
        "                  loss_coeffs=loss_coeffs,\n",
        "                  model_type='gan')\n",
        "trainer.fit(train_dir, eval_dir, batch_size=40,\n",
        "            data_augmentation_type='plain',\n",
        "            model_tag='gan_only')"
      ],
      "outputs": [],
      "execution_count": null
    },
    {
      "cell_type": "markdown",
      "metadata": {
        "jukit_cell_id": "GTZj40ZLXE"
      },
      "source": [
        "augmentations training with new parameters"
      ]
    },
    {
      "cell_type": "code",
      "metadata": {
        "jukit_cell_id": "jbYbwxfqjW"
      },
      "source": [
        "gen_optimizer = torch.optim.Adam\n",
        "disc_optimizer = torch.optim.Adam\n",
        "gen_optimizer_params = {'lr': 3e-4}\n",
        "disc_optimizer_params = {'lr': 9e-5}\n",
        "loss_coeffs = (1, 0.02, 0.5)\n",
        "trainer = Trainer(crop_size=120, epochs=250, gen_optimizer=gen_optimizer,\n",
        "                  disc_optimizer=disc_optimizer,\n",
        "                  gen_optimizer_params=gen_optimizer_params,\n",
        "                  disc_optimizer_params=disc_optimizer_params,\n",
        "                  save_interval=30,\n",
        "                  model_type='full')\n",
        "trainer.fit(train_dir, eval_dir, batch_size=20,\n",
        "            data_augmentation_type='photo',\n",
        "            model_tag='photo_aug')"
      ],
      "outputs": [],
      "execution_count": null
    },
    {
      "cell_type": "markdown",
      "metadata": {
        "jukit_cell_id": "tTBIONYabV"
      },
      "source": [
        "final model training"
      ]
    },
    {
      "cell_type": "code",
      "metadata": {
        "jukit_cell_id": "5tk3SqwS7a"
      },
      "source": [
        "gen_optimizer = torch.optim.Adam\n",
        "disc_optimizer = torch.optim.Adam\n",
        "gen_optimizer_params = {'lr': 2e-4}\n",
        "disc_optimizer_params = {'lr': 1e-5}\n",
        "loss_coeffs = (1, 0.011, 0.008)\n",
        "# g_name = None\n",
        "# d_name = None\n",
        "g_name = 'generator_run6.pt'\n",
        "d_name = 'discriminator_run6.pt'\n",
        "total_epochs = 120\n",
        "trainer = Trainer(crop_size=140, epochs=130, gen_optimizer=gen_optimizer,\n",
        "                  disc_optimizer=disc_optimizer,\n",
        "                  gen_optimizer_params=gen_optimizer_params,\n",
        "                  disc_optimizer_params=disc_optimizer_params,\n",
        "                  save_interval=10,\n",
        "                  gen_model_name=g_name,\n",
        "                  disc_model_name=d_name,\n",
        "                  loss_coeffs=loss_coeffs,\n",
        "                  model_type='full')\n",
        "trainer.fit(train_dir, eval_dir, batch_size=24,\n",
        "            data_augmentation_type='photo',\n",
        "            model_tag='run6')"
      ],
      "outputs": [],
      "execution_count": null
    },
    {
      "cell_type": "markdown",
      "metadata": {
        "jukit_cell_id": "41dWctqjY4"
      },
      "source": [
        "test models"
      ]
    },
    {
      "cell_type": "code",
      "metadata": {
        "jukit_cell_id": "YkuKtHcAp3"
      },
      "source": [
        "model_dir = Path('models/favorites/for_presentation/')\n",
        "\n",
        "image_dir = Path('test_input/for_presentation/')\n",
        "for model_path in model_dir.iterdir():\n",
        "    tester = ModelTester(model_path, model_tag=model_path.name)\n",
        "    for image_path in image_dir.iterdir():\n",
        "        if image_path.is_dir():\n",
        "            for image in image_path.iterdir():\n",
        "                tester.run_on_image(hr_image=image, save_bicubic=True)\n",
        "        else:\n",
        "            tester.run_on_image(hr_image=image_path, save_bicubic=True)"
      ],
      "outputs": [],
      "execution_count": null
    },
    {
      "cell_type": "markdown",
      "metadata": {
        "jukit_cell_id": "fpAq03cLHQ"
      },
      "source": [
        "test final model"
      ]
    },
    {
      "cell_type": "code",
      "metadata": {
        "jukit_cell_id": "383PCM5JRV"
      },
      "source": [
        "model_path = Path('models/favorites/for_presentation/SRGAN-photo-250.pt')\n",
        "image_dir = Path(\n",
        "    '/run/media/dvarkless/LinuxData/Files/\u0423\u0447\u0435\u0431\u0430/Data_Science_Course/InnopolisDS/MultiSRGAN/test_output/for_presentation/original/')\n",
        "tester = ModelTester(model_path, model_tag='SRGAN')\n",
        "for image_path in image_dir.iterdir():\n",
        "    if image_path.is_dir():\n",
        "        for image in image_path.iterdir():\n",
        "            tester.run_on_image(hr_image=image)\n",
        "    else:\n",
        "        tester.run_on_image(hr_image=image_path)"
      ],
      "outputs": [],
      "execution_count": null
    }
  ],
  "metadata": {
    "anaconda-cloud": {},
    "kernelspec": {
      "display_name": "python",
      "language": "python",
      "name": "python3"
    }
  },
  "nbformat": 4,
  "nbformat_minor": 4
}