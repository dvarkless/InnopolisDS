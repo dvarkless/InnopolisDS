{
 "cells": [
  {
   "cell_type": "markdown",
   "metadata": {},
   "source": []
  },
  {
   "cell_type": "code",
   "execution_count": 1,
   "metadata": {
    "jukit_cell_id": "NONE"
   },
   "outputs": [],
   "source": [
    "import numpy as np\n",
    "import matplotlib.pyplot as plt\n",
    "%matplotlib inline\n",
    "\n",
    "from model_knn import KnnModel\n",
    "from model_svm import SVM_Model\n",
    "from model_multilog import MultilogRegression\n",
    "from model_bayes import BayesianClassifier\n",
    "from model_decisiontree import DecisionTreeClassifier\n",
    "from metrics import return_precision, show_metrics_matrix, return_accuracy, return_recall, return_f1\n",
    "from image_feature_detector import PCA_transform, get_features, get_plain_data\n",
    "from model_runner import ModelRunner"
   ]
  },
  {
   "cell_type": "code",
   "execution_count": 2,
   "metadata": {
    "jukit_cell_id": "NONE"
   },
   "outputs": [],
   "source": [
    "# Data\n",
    "training_data = np.genfromtxt(\"datasets/medium-train.csv\",\n",
    "                            delimiter=\",\", filling_values=0)\n",
    "evaluation_data = np.genfromtxt(\n",
    "    \"datasets/medium-test.csv\", delimiter=\",\", filling_values=0)\n",
    "\n",
    "evaluation_input = evaluation_data[:, 1:]\n",
    "evaluation_answers = evaluation_data[:, 0]\n",
    "\n",
    "my_metrics = [return_accuracy, return_recall, return_precision, return_f1]"
   ]
  },
  {
   "cell_type": "markdown",
   "metadata": {},
   "source": [
    "# Сравнение моделей уменьшения размерности данных"
   ]
  },
  {
   "cell_type": "code",
   "execution_count": 3,
   "metadata": {},
   "outputs": [],
   "source": [
    "# PCA\n",
    "PCA_extreme = PCA_transform(24).fit(training_data) # x32\n",
    "\n",
    "PCA_severe = PCA_transform(49).fit(training_data) # x16\n",
    "\n",
    "PCA_rought = PCA_transform(98).fit(training_data) # x8\n",
    "\n",
    "PCA_medium = PCA_transform(196).fit(training_data) # x4\n",
    "\n",
    "PCA_fine = PCA_transform(392).fit(training_data) # x2\n",
    "\n",
    "params_to_change = {\n",
    "    'data_converter': [get_plain_data, get_features, PCA_extreme, PCA_severe, PCA_rought, PCA_medium, PCA_fine]\n",
    "}"
   ]
  },
  {
   "cell_type": "code",
   "execution_count": 4,
   "metadata": {},
   "outputs": [
    {
     "name": "stdout",
     "output_type": "stream",
     "text": [
      "on 0: -----With parameters-----                                                                                         \n",
      "on 0: data_converter = <function get_plain_data at 0x7f3ef7198700>                                                      \n",
      "on 0: ~fit complete in 242.437s                                                                                         \n",
      "on 0: ~eval complete in 0.170s                                                                                          \n",
      "on 0:     return_accuracy = 0.551                                                                                       \n",
      "on 0:     return_recall = 0.676                                                                                         \n",
      "on 0:     return_precision = 0.478                                                                                      \n",
      "on 0:     return_f1 = 0.424                                                                                             \n",
      "on 0: -----End with-----                                                                                                \n",
      "on 1: -----With parameters-----                                                                                         \n",
      "on 1: data_converter = <function get_features at 0x7f3ef7198670>                                                        \n",
      "on 1: ~fit complete in 68.414s                                                                                          \n",
      "on 1: ~eval complete in 2.756s                                                                                          \n",
      "on 1:     return_accuracy = 0.208                                                                                       \n",
      "on 1:     return_recall = 0.372                                                                                         \n",
      "on 1:     return_precision = 0.274                                                                                      \n",
      "on 1:     return_f1 = 0.135                                                                                             \n",
      "on 1: -----End with-----                                                                                                \n",
      "on 2: -----With parameters-----                                                                                         \n",
      "on 2: data_converter = PCA_transform(23);vector:(784, 23)                                                               \n",
      "on 2: ~fit complete in 66.923s                                                                                          \n",
      "on 2: ~eval complete in 0.200s                                                                                          \n",
      "on 2:     return_accuracy = 0.491                                                                                       \n",
      "on 2:     return_recall = 0.635                                                                                         \n",
      "on 2:     return_precision = 0.457                                                                                      \n",
      "on 2:     return_f1 = 0.376                                                                                             \n",
      "on 2: -----End with-----                                                                                                \n",
      "on 3: -----With parameters-----                                                                                         \n",
      "on 3: data_converter = PCA_transform(48);vector:(784, 48)                                                               \n",
      "on 3: ~fit complete in 67.386s                                                                                          \n",
      "on 3: ~eval complete in 0.169s                                                                                          \n",
      "on 3:     return_accuracy = 0.539                                                                                       \n",
      "on 3:     return_recall = 0.670                                                                                         \n",
      "on 3:     return_precision = 0.480                                                                                      \n",
      "on 3:     return_f1 = 0.417                                                                                             \n",
      "on 3: -----End with-----                                                                                                \n",
      "on 4: -----With parameters-----                                                                                         \n",
      "on 4: data_converter = PCA_transform(97);vector:(784, 97)                                                               \n",
      "on 4: ~fit complete in 69.693s                                                                                          \n",
      "on 4: ~eval complete in 0.182s                                                                                          \n",
      "on 4:     return_accuracy = 0.530                                                                                       \n",
      "on 4:     return_recall = 0.663                                                                                         \n",
      "on 4:     return_precision = 0.471                                                                                      \n",
      "on 4:     return_f1 = 0.407                                                                                             \n",
      "on 4: -----End with-----                                                                                                \n",
      "on 5: -----With parameters-----                                                                                         \n",
      "on 5: data_converter = PCA_transform(195);vector:(784, 195)                                                             \n",
      "on 5: ~fit complete in 101.053s                                                                                         \n",
      "on 5: ~eval complete in 1.051s                                                                                          \n",
      "on 5:     return_accuracy = 0.509                                                                                       \n",
      "on 5:     return_recall = 0.648                                                                                         \n",
      "on 5:     return_precision = 0.455                                                                                      \n",
      "on 5:     return_f1 = 0.396                                                                                             \n",
      "on 5: -----End with-----                                                                                                \n",
      "on 6: -----With parameters-----                                                                                         \n",
      "on 6: data_converter = PCA_transform(391);vector:(784, 391)                                                             \n",
      "on 6: ~fit complete in 208.119s                                                                                         \n",
      "on 6: ~eval complete in 0.361s                                                                                          \n",
      "on 6:     return_accuracy = 0.477                                                                                       \n",
      "on 6:     return_recall = 0.625                                                                                         \n",
      "on 6:     return_precision = 0.424                                                                                      \n",
      "on 6:     return_f1 = 0.372                                                                                             \n",
      "on 6: -----End with-----                                                                                                \n",
      "Проверка модели MultilogRegression |████████████████████████████████████████| 7/7 [100%] in 13:49.1 (0.01/s)            \n",
      "===============RESULTS=================\n",
      "On iteration 0:\n",
      "With hyperparameters: [<function get_plain_data at 0x7f3ef7198700>]\n",
      "Got metrics: [0.5506, 0.6757359631332723, 0.4783888268603554, 0.42375700884988604]\n"
     ]
    }
   ],
   "source": [
    "# Logistic\n",
    "\n",
    "hp = {\n",
    "    'data_converter': get_plain_data,\n",
    "    'normalization': True,\n",
    "    'shift_column': True,\n",
    "    'learning_rate': 0.05,\n",
    "    'batch_size': 500,\n",
    "    'epochs': 300,\n",
    "    'num_classes': 26,\n",
    "    'reg': 'l1',\n",
    "    'reg_w': 0.01,\n",
    "}\n",
    "\n",
    "\n",
    "MultilogRunner = ModelRunner(MultilogRegression, defaults=hp, metrics=my_metrics)\n",
    "MultilogRunner.run(training_data, evaluation_input, evaluation_answers, params_to_change, one_vs_one=True)"
   ]
  },
  {
   "cell_type": "code",
   "execution_count": 5,
   "metadata": {
    "scrolled": true
   },
   "outputs": [
    {
     "name": "stdout",
     "output_type": "stream",
     "text": [
      "on 0: -----With parameters-----                                                                                         \n",
      "on 0: data_converter = <function get_plain_data at 0x7f3ef7198700>                                                      \n",
      "on 0: ~fit complete in 0.028s                                                                                           \n",
      "on 0: ~eval complete in 43.362s                                                                                         \n",
      "on 0:     return_accuracy = 0.346                                                                                       \n",
      "on 0:     return_recall = 0.516                                                                                         \n",
      "on 0:     return_precision = 0.407                                                                                      \n",
      "on 0:     return_f1 = 0.256                                                                                             \n",
      "on 0: -----End with-----                                                                                                \n",
      "on 1: -----With parameters-----                                                                                         \n",
      "on 1: data_converter = <function get_features at 0x7f3ef7198670>                                                        \n",
      "on 1: ~fit complete in 5.069s                                                                                           \n",
      "on 1: ~eval complete in 15.187s                                                                                         \n",
      "on 1:     return_accuracy = 0.314                                                                                       \n",
      "on 1:     return_recall = 0.494                                                                                         \n",
      "on 1:     return_precision = 0.255                                                                                      \n",
      "on 1:     return_f1 = 0.231                                                                                             \n",
      "on 1: -----End with-----                                                                                                \n",
      "on 2: -----With parameters-----                                                                                         \n",
      "on 2: data_converter = PCA_transform(23);vector:(784, 23)                                                               \n",
      "on 2: ~fit complete in 0.136s                                                                                           \n",
      "on 2: ~eval complete in 13.665s                                                                                         \n",
      "on 2:     return_accuracy = 0.779                                                                                       \n",
      "on 2:     return_recall = 0.840                                                                                         \n",
      "on 2:     return_precision = 0.585                                                                                      \n",
      "on 2:     return_f1 = 0.577                                                                                             \n",
      "on 2: -----End with-----                                                                                                \n",
      "on 3: -----With parameters-----                                                                                         \n",
      "on 3: data_converter = PCA_transform(48);vector:(784, 48)                                                               \n",
      "on 3: ~fit complete in 0.189s                                                                                           \n",
      "on 3: ~eval complete in 17.625s                                                                                         \n",
      "on 3:     return_accuracy = 0.779                                                                                       \n",
      "on 3:     return_recall = 0.840                                                                                         \n",
      "on 3:     return_precision = 0.587                                                                                      \n",
      "on 3:     return_f1 = 0.577                                                                                             \n",
      "on 3: -----End with-----                                                                                                \n",
      "on 4: -----With parameters-----                                                                                         \n",
      "on 4: data_converter = PCA_transform(97);vector:(784, 97)                                                               \n",
      "on 4: ~fit complete in 0.182s                                                                                           \n",
      "on 4: ~eval complete in 25.890s                                                                                         \n",
      "on 4:     return_accuracy = 0.771                                                                                       \n",
      "on 4:     return_recall = 0.835                                                                                         \n",
      "on 4:     return_precision = 0.583                                                                                      \n",
      "on 4:     return_f1 = 0.571                                                                                             \n",
      "on 4: -----End with-----                                                                                                \n",
      "on 5: -----With parameters-----                                                                                         \n",
      "on 5: data_converter = PCA_transform(195);vector:(784, 195)                                                             \n",
      "on 5: ~fit complete in 0.316s                                                                                           \n",
      "on 5: ~eval complete in 46.487s                                                                                         \n",
      "on 5:     return_accuracy = 0.764                                                                                       \n",
      "on 5:     return_recall = 0.831                                                                                         \n",
      "on 5:     return_precision = 0.580                                                                                      \n",
      "on 5:     return_f1 = 0.566                                                                                             \n",
      "on 5: -----End with-----                                                                                                \n",
      "on 6: -----With parameters-----                                                                                         \n",
      "on 6: data_converter = PCA_transform(391);vector:(784, 391)                                                             \n",
      "on 6: ~fit complete in 0.419s                                                                                           \n",
      "on 6: ~eval complete in 83.744s                                                                                         \n",
      "on 6:     return_accuracy = 0.762                                                                                       \n",
      "on 6:     return_recall = 0.829                                                                                         \n",
      "on 6:     return_precision = 0.580                                                                                      \n",
      "on 6:     return_f1 = 0.565                                                                                             \n",
      "on 6: -----End with-----                                                                                                \n",
      "Проверка модели KnnModel |████████████████████████████████████████| 7/7 [100%] in 4:12.5 (0.03/s)                       \n",
      "===============RESULTS=================\n",
      "On iteration 3:\n",
      "With hyperparameters: [PCA_transform(48);vector:(784, 48)]\n",
      "Got metrics: [0.7788, 0.840243113005908, 0.5870589023687682, 0.5765442205498185]\n"
     ]
    }
   ],
   "source": [
    "# KNN\n",
    "hp = {\n",
    "    'data_converter': get_plain_data,\n",
    "    'k': 3,\n",
    "}\n",
    "\n",
    "\n",
    "KNNrunner = ModelRunner(KnnModel, defaults=hp, metrics=my_metrics)\n",
    "KNNrunner.run(training_data, evaluation_input, evaluation_answers, params_to_change, one_vs_one=True)"
   ]
  },
  {
   "cell_type": "code",
   "execution_count": 6,
   "metadata": {},
   "outputs": [
    {
     "name": "stdout",
     "output_type": "stream",
     "text": [
      "on 0: -----With parameters-----                                                                                         \n",
      "on 0: data_converter = <function get_plain_data at 0x7f3ef7198700>                                                      \n",
      "on 0: ~fit complete in 25.596s                                                                                          \n",
      "on 0: ~eval complete in 0.072s                                                                                          \n",
      "on 0:     return_accuracy = 0.361                                                                                       \n",
      "on 0:     return_recall = 0.518                                                                                         \n",
      "on 0:     return_precision = 0.466                                                                                      \n",
      "on 0:     return_f1 = 0.277                                                                                             \n",
      "on 0: -----End with-----                                                                                                \n",
      "on 1: -----With parameters-----                                                                                         \n",
      "on 1: data_converter = <function get_features at 0x7f3ef7198670>                                                        \n",
      "on 1: ~fit complete in 18.292s                                                                                          \n",
      "on 1: ~eval complete in 2.471s                                                                                          \n",
      "on 1:     return_accuracy = 0.236                                                                                       \n",
      "on 1:     return_recall = 0.418                                                                                         \n",
      "on 1:     return_precision = 0.214                                                                                      \n",
      "on 1:     return_f1 = 0.155                                                                                             \n",
      "on 1: -----End with-----                                                                                                \n",
      "on 2: -----With parameters-----                                                                                         \n",
      "on 2: data_converter = PCA_transform(23);vector:(784, 23)                                                               \n",
      "on 2: ~fit complete in 12.894s                                                                                          \n",
      "on 2: ~eval complete in 0.083s                                                                                          \n",
      "on 2:     return_accuracy = 0.525                                                                                       \n",
      "on 2:     return_recall = 0.659                                                                                         \n",
      "on 2:     return_precision = 0.460                                                                                      \n",
      "on 2:     return_f1 = 0.401                                                                                             \n",
      "on 2: -----End with-----                                                                                                \n",
      "on 3: -----With parameters-----                                                                                         \n",
      "on 3: data_converter = PCA_transform(48);vector:(784, 48)                                                               \n",
      "on 3: ~fit complete in 13.053s                                                                                          \n",
      "on 3: ~eval complete in 0.092s                                                                                          \n",
      "on 3:     return_accuracy = 0.556                                                                                       \n",
      "on 3:     return_recall = 0.682                                                                                         \n",
      "on 3:     return_precision = 0.475                                                                                      \n",
      "on 3:     return_f1 = 0.425                                                                                             \n",
      "on 3: -----End with-----                                                                                                \n",
      "on 4: -----With parameters-----                                                                                         \n",
      "on 4: data_converter = PCA_transform(97);vector:(784, 97)                                                               \n",
      "on 4: ~fit complete in 13.856s                                                                                          \n",
      "on 4: ~eval complete in 0.105s                                                                                          \n",
      "on 4:     return_accuracy = 0.557                                                                                       \n",
      "on 4:     return_recall = 0.682                                                                                         \n",
      "on 4:     return_precision = 0.470                                                                                      \n",
      "on 4:     return_f1 = 0.427                                                                                             \n",
      "on 4: -----End with-----                                                                                                \n",
      "on 5: -----With parameters-----                                                                                         \n",
      "on 5: data_converter = PCA_transform(195);vector:(784, 195)                                                             \n",
      "on 5: ~fit complete in 15.183s                                                                                          \n",
      "on 5: ~eval complete in 0.145s                                                                                          \n",
      "on 5:     return_accuracy = 0.550                                                                                       \n",
      "on 5:     return_recall = 0.678                                                                                         \n",
      "on 5:     return_precision = 0.464                                                                                      \n",
      "on 5:     return_f1 = 0.424                                                                                             \n",
      "on 5: -----End with-----                                                                                                \n",
      "on 6: -----With parameters-----                                                                                         \n",
      "on 6: data_converter = PCA_transform(391);vector:(784, 391)                                                             \n",
      "on 6: ~fit complete in 18.105s                                                                                          \n",
      "on 6: ~eval complete in 0.246s                                                                                          \n",
      "on 6:     return_accuracy = 0.536                                                                                       \n",
      "on 6:     return_recall = 0.668                                                                                         \n",
      "on 6:     return_precision = 0.449                                                                                      \n",
      "on 6:     return_f1 = 0.412                                                                                             \n",
      "on 6: -----End with-----                                                                                                \n",
      "Проверка модели SVM_Model |████████████████████████████████████████| 7/7 [100%] in 2:00.4 (0.06/s)                      \n",
      "===============RESULTS=================\n",
      "On iteration 3:\n",
      "With hyperparameters: [PCA_transform(48);vector:(784, 48)]\n",
      "Got metrics: [0.5556, 0.6815265784576805, 0.4745334013946161, 0.4251960238616167]\n"
     ]
    }
   ],
   "source": [
    "# SVM\n",
    "hp = {\n",
    "    'data_converter': PCA_rought,\n",
    "    'num_classes': 26,\n",
    "    'epochs': 100,\n",
    "    'batch_size': 1000,\n",
    "    'learning_rate': 0.01,\n",
    "    'regularization': 0.0005,\n",
    "    'normalization': True,\n",
    "    'shift_column': True,\n",
    "}\n",
    "\n",
    "\n",
    "SVMRunner = ModelRunner(SVM_Model, defaults=hp, metrics=my_metrics)\n",
    "SVMRunner.run(training_data, evaluation_input, evaluation_answers, params_to_change, one_vs_one=True)"
   ]
  },
  {
   "cell_type": "code",
   "execution_count": 7,
   "metadata": {
    "scrolled": true
   },
   "outputs": [
    {
     "name": "stdout",
     "output_type": "stream",
     "text": [
      "on 0: -----With parameters-----                                                                                         \n",
      "on 0: data_converter = <function get_plain_data at 0x7f3ef7198700>                                                      \n",
      "on 0: ~fit complete in 0.087s                                                                                           \n",
      "on 0: ~eval complete in 0.127s                                                                                          \n",
      "on 0:     return_accuracy = 0.368                                                                                       \n",
      "on 0:     return_recall = 0.509                                                                                         \n",
      "on 0:     return_precision = 0.507                                                                                      \n",
      "on 0:     return_f1 = 0.267                                                                                             \n",
      "on 0: -----End with-----                                                                                                \n",
      "                                                                                                                        \r"
     ]
    },
    {
     "name": "stderr",
     "output_type": "stream",
     "text": [
      "on 0: /run/media/dvarkless/LinuxData/Files/Учеба/Data_Science_Course/InnopolisDS/summer-finals/model_bayes.py:39: RuntimeWarning: divide by zero encountered in power\n",
      "        prob_inverse = np.power(prob_in, -1)/10000\n"
     ]
    },
    {
     "name": "stdout",
     "output_type": "stream",
     "text": [
      "on 1: -----With parameters-----                                                                                         \n",
      "on 1: data_converter = <function get_features at 0x7f3ef7198670>                                                        \n",
      "on 1: ~fit complete in 5.071s                                                                                           \n",
      "on 1: ~eval complete in 2.604s                                                                                          \n",
      "on 1:     return_accuracy = 0.055                                                                                       \n",
      "on 1:     return_recall = 0.101                                                                                         \n",
      "on 1:     return_precision = 0.757                                                                                      \n",
      "on 1:     return_f1 = 0.008                                                                                             \n",
      "on 1: -----End with-----                                                                                                \n",
      "on 2: -----With parameters-----                                                                                         \n",
      "on 2: data_converter = PCA_transform(23);vector:(784, 23)                                                               \n",
      "on 2: ~fit complete in 0.189s                                                                                           \n",
      "on 2: ~eval complete in 0.179s                                                                                          \n",
      "on 2:     return_accuracy = 0.039                                                                                       \n",
      "on 2:     return_recall = 0.271                                                                                         \n",
      "on 2:     return_precision = 0.077                                                                                      \n",
      "on 2:     return_f1 = 0.025                                                                                             \n",
      "on 2: -----End with-----                                                                                                \n",
      "on 3: -----With parameters-----                                                                                         \n",
      "on 3: data_converter = PCA_transform(48);vector:(784, 48)                                                               \n",
      "on 3: ~fit complete in 0.221s                                                                                           \n",
      "on 3: ~eval complete in 0.180s                                                                                          \n",
      "on 3:     return_accuracy = 0.041                                                                                       \n",
      "on 3:     return_recall = 0.273                                                                                         \n",
      "on 3:     return_precision = 0.084                                                                                      \n",
      "on 3:     return_f1 = 0.031                                                                                             \n",
      "on 3: -----End with-----                                                                                                \n",
      "on 4: -----With parameters-----                                                                                         \n",
      "on 4: data_converter = PCA_transform(97);vector:(784, 97)                                                               \n",
      "on 4: ~fit complete in 0.302s                                                                                           \n",
      "on 4: ~eval complete in 0.189s                                                                                          \n",
      "on 4:     return_accuracy = 0.046                                                                                       \n",
      "on 4:     return_recall = 0.276                                                                                         \n",
      "on 4:     return_precision = 0.055                                                                                      \n",
      "on 4:     return_f1 = 0.037                                                                                             \n",
      "on 4: -----End with-----                                                                                                \n",
      "on 5: -----With parameters-----                                                                                         \n",
      "on 5: data_converter = PCA_transform(195);vector:(784, 195)                                                             \n",
      "on 5: ~fit complete in 0.324s                                                                                           \n",
      "on 5: ~eval complete in 0.355s                                                                                          \n",
      "on 5:     return_accuracy = 0.045                                                                                       \n",
      "on 5:     return_recall = 0.302                                                                                         \n",
      "on 5:     return_precision = 0.050                                                                                      \n",
      "on 5:     return_f1 = 0.035                                                                                             \n",
      "on 5: -----End with-----                                                                                                \n",
      "on 6: -----With parameters-----                                                                                         \n",
      "on 6: data_converter = PCA_transform(391);vector:(784, 391)                                                             \n",
      "on 6: ~fit complete in 0.545s                                                                                           \n",
      "on 6: ~eval complete in 0.309s                                                                                          \n",
      "on 6:     return_accuracy = 0.046                                                                                       \n",
      "on 6:     return_recall = 0.303                                                                                         \n",
      "on 6:     return_precision = 0.057                                                                                      \n",
      "on 6:     return_f1 = 0.035                                                                                             \n",
      "on 6: -----End with-----                                                                                                \n",
      "Проверка модели BayesianClassifier |████████████████████████████████████████| 7/7 [100%] in 10.9s (0.64/s)              \n",
      "===============RESULTS=================\n",
      "On iteration 0:\n",
      "With hyperparameters: [<function get_plain_data at 0x7f3ef7198700>]\n",
      "Got metrics: [0.3676, 0.5092690198817595, 0.5070240534597827, 0.26677881250854013]\n"
     ]
    }
   ],
   "source": [
    "# Bayes\n",
    "\n",
    "hp = {\n",
    "    'data_converter': PCA_rought,\n",
    "    'num_classes': 26,\n",
    "}\n",
    "\n",
    "\n",
    "BayesRunner = ModelRunner(BayesianClassifier, defaults=hp, metrics=my_metrics)\n",
    "BayesRunner.run(training_data, evaluation_input, evaluation_answers, params_to_change, one_vs_one=True)"
   ]
  },
  {
   "cell_type": "code",
   "execution_count": 8,
   "metadata": {},
   "outputs": [
    {
     "ename": "AssertionError",
     "evalue": "",
     "output_type": "error",
     "traceback": [
      "\u001b[0;31m---------------------------------------------------------------------------\u001b[0m",
      "\u001b[0;31mAssertionError\u001b[0m                            Traceback (most recent call last)",
      "Input \u001b[0;32mIn [8]\u001b[0m, in \u001b[0;36m<cell line: 1>\u001b[0;34m()\u001b[0m\n\u001b[0;32m----> 1\u001b[0m \u001b[38;5;28;01massert\u001b[39;00m(\u001b[38;5;28;01mFalse\u001b[39;00m)\n",
      "\u001b[0;31mAssertionError\u001b[0m: "
     ]
    }
   ],
   "source": [
    "assert(False)"
   ]
  },
  {
   "cell_type": "markdown",
   "metadata": {},
   "source": [
    "# Поиск оптимальных гиперпараметров моделей"
   ]
  },
  {
   "cell_type": "code",
   "execution_count": null,
   "metadata": {},
   "outputs": [],
   "source": [
    "# Data\n",
    "\n",
    "training_data = np.genfromtxt(\"datasets/emnist-letters-train.csv\",\n",
    "                           delimiter=\",\", filling_values=0)\n",
    "evaluation_data = np.genfromtxt(\n",
    "   \"datasets/emnist-letters-test.csv\", delimiter=\",\", filling_values=0)\n",
    "evaluation_input = evaluation_data[:, 1:]\n",
    "evaluation_answers = evaluation_data[:, 0]\n",
    "\n",
    "my_metrics = [return_accuracy, return_recall, return_precision, return_f1]"
   ]
  },
  {
   "cell_type": "code",
   "execution_count": null,
   "metadata": {
    "jukit_cell_id": "NONE"
   },
   "outputs": [],
   "source": [
    "# Logistic\n",
    "\n",
    "hp = {\n",
    "    'data_converter': get_plain_data,\n",
    "    'normalization': True,\n",
    "    'shift_column': True,\n",
    "    'learning_rate': 0.02,\n",
    "    'batch_size': 500,\n",
    "    'epochs': 300,\n",
    "    'num_classes': 26,\n",
    "    'reg': 'l1',\n",
    "    'reg_w': 0.01,\n",
    "}\n",
    "\n",
    "\n",
    "MultilogRunner = ModelRunner(MultilogRegression, defaults=hp, metrics=my_metrics)\n",
    "params_to_change = {\n",
    "    'learning_rate': [0.01, 0.02, 0.05],\n",
    "    'epochs': [300, 200, 100],\n",
    "}\n",
    "MultilogRunner.run(training_data, evaluation_input, evaluation_answers, params_to_change, one_vs_one=True)"
   ]
  },
  {
   "cell_type": "code",
   "execution_count": null,
   "metadata": {
    "scrolled": true
   },
   "outputs": [],
   "source": [
    "params_to_change = {\n",
    "    'reg': [None, 'l1', 'l2'],\n",
    "    'reg_w': [0.01],\n",
    "}\n",
    "MultilogRunner.run(training_data, evaluation_input, evaluation_answers, params_to_change, one_vs_one=False)"
   ]
  },
  {
   "cell_type": "code",
   "execution_count": null,
   "metadata": {
    "jukit_cell_id": "NONE"
   },
   "outputs": [],
   "source": [
    "# KNN\n",
    "hp = {\n",
    "    'data_converter': get_plain_data,\n",
    "    'k': 3,\n",
    "}\n",
    "\n",
    "\n",
    "KNNrunner = ModelRunner(KnnModel, defaults=hp, metrics=my_metrics)\n",
    "params_to_change = {\n",
    "    'k': [1,3,5,7,10]\n",
    "}\n",
    "KNNrunner.run(training_data, evaluation_input, evaluation_answers, params_to_change, one_vs_one=True)"
   ]
  },
  {
   "cell_type": "code",
   "execution_count": null,
   "metadata": {
    "jukit_cell_id": "NONE"
   },
   "outputs": [],
   "source": [
    "# Bayes\n",
    "\n",
    "hp = {\n",
    "    'data_converter': get_plain_data,\n",
    "    'num_classes': 26,\n",
    "}\n",
    "\n",
    "\n",
    "BayesRunner = ModelRunner(BayessianClassifier, defaults=hp, metrics=my_metrics)\n",
    "\n",
    "BayesRunner.run(training_data, evaluation_input, evaluation_answers, hp, one_vs_one=True)"
   ]
  },
  {
   "cell_type": "code",
   "execution_count": null,
   "metadata": {
    "jukit_cell_id": "NONE"
   },
   "outputs": [],
   "source": [
    "# SVM\n",
    "\n",
    "hp = {\n",
    "    'data_converter': get_plain_data,\n",
    "    'num_classes': 26,\n",
    "    'epochs': 200,\n",
    "    'batch_size': 1000,\n",
    "    'learning_rate': 0.01,\n",
    "    'regularization': 0.01,\n",
    "    'normalization': True,\n",
    "    'shift_column': True,\n",
    "}\n",
    "\n",
    "\n",
    "SVMRunner = ModelRunner(SVM_Model, defaults=hp, metrics=my_metrics)\n",
    "params_to_change = {\n",
    "    'learning_rate': [0.001, 0.01, 0.05],\n",
    "    'epochs': [100, 200, 300],\n",
    "}\n",
    "SVMRunner.run(training_data, evaluation_input, evaluation_answers, params_to_change, one_vs_one=True)"
   ]
  },
  {
   "cell_type": "code",
   "execution_count": 4,
   "metadata": {},
   "outputs": [
    {
     "name": "stdout",
     "output_type": "stream",
     "text": [
      "on 0: -----With parameters-----                                                                                         \n",
      "on 0: data_converter = <PCA_transform(24);vector:(784, 24)>                                                             \n",
      "on 0: ~fit complete in                                                                                                  \n",
      "                                                                                                                        \r"
     ]
    },
    {
     "name": "stderr",
     "output_type": "stream",
     "text": [
      "on 0: /run/media/dvarkless/LinuxData/Files/Учеба/Data_Science_Course/Finals1/venv/lib/python3.10/site-packages/numpy/core/function_base.py:423: RuntimeWarning: invalid value encountered in log10\n",
      "        log_start = _nx.log10(start)\n",
      "/run/media/dvarkless/LinuxData/Files/Учеба/Data_Science_Course/InnopolisDS/summer-finals/model_decisiontree.py:36: RuntimeWarning: Mean of empty slice.\n",
      "        self.right_mean = data[is_true][:, -1].mean()\n",
      "/run/media/dvarkless/LinuxData/Files/Учеба/Data_Science_Course/Finals1/venv/lib/python3.10/site-packages/numpy/core/_methods.py:190: RuntimeWarning: invalid value encountered in double_scalars\n",
      "        ret = ret.dtype.type(ret / rcount)\n",
      "/run/media/dvarkless/LinuxData/Files/Учеба/Data_Science_Course/InnopolisDS/summer-finals/model_decisiontree.py:39: RuntimeWarning: Mean of empty slice.\n",
      "        self.left_mean = data[is_false][:, -1].mean()\n"
     ]
    },
    {
     "name": "stdout",
     "output_type": "stream",
     "text": [
      "Проверка модели DecisionTreeClassifier |⚠︎                                       | (!) 0/3 [0%] in 45:45.5 (0.00/s)      \n"
     ]
    },
    {
     "ename": "KeyboardInterrupt",
     "evalue": "",
     "output_type": "error",
     "traceback": [
      "\u001b[0;31m---------------------------------------------------------------------------\u001b[0m",
      "\u001b[0;31mKeyboardInterrupt\u001b[0m                         Traceback (most recent call last)",
      "Input \u001b[0;32mIn [4]\u001b[0m, in \u001b[0;36m<cell line: 18>\u001b[0;34m()\u001b[0m\n\u001b[1;32m     13\u001b[0m TreeRunner \u001b[38;5;241m=\u001b[39m ModelRunner(DecisionTreeClassifier,\n\u001b[1;32m     14\u001b[0m                          defaults\u001b[38;5;241m=\u001b[39mhp, metrics\u001b[38;5;241m=\u001b[39mmy_metrics)\n\u001b[1;32m     15\u001b[0m params_to_change \u001b[38;5;241m=\u001b[39m {\n\u001b[1;32m     16\u001b[0m     \u001b[38;5;124m'\u001b[39m\u001b[38;5;124mdata_converter\u001b[39m\u001b[38;5;124m'\u001b[39m: [PCA_extreme, PCA_severe, PCA_rought]\n\u001b[1;32m     17\u001b[0m }\n\u001b[0;32m---> 18\u001b[0m \u001b[43mTreeRunner\u001b[49m\u001b[38;5;241;43m.\u001b[39;49m\u001b[43mrun\u001b[49m\u001b[43m(\u001b[49m\u001b[43mtraining_data\u001b[49m\u001b[43m,\u001b[49m\u001b[43m \u001b[49m\u001b[43mevaluation_input\u001b[49m\u001b[43m,\u001b[49m\n\u001b[1;32m     19\u001b[0m \u001b[43m               \u001b[49m\u001b[43mevaluation_answers\u001b[49m\u001b[43m,\u001b[49m\u001b[43m \u001b[49m\u001b[43mparams_to_change\u001b[49m\u001b[43m,\u001b[49m\u001b[43m \u001b[49m\u001b[43mone_vs_one\u001b[49m\u001b[38;5;241;43m=\u001b[39;49m\u001b[38;5;28;43;01mFalse\u001b[39;49;00m\u001b[43m)\u001b[49m\n",
      "File \u001b[0;32m/run/media/dvarkless/LinuxData/Files/Учеба/Data_Science_Course/InnopolisDS/summer-finals/model_runner.py:127\u001b[0m, in \u001b[0;36mModelRunner.run\u001b[0;34m(self, train, eval_input, eval_ans, params, one_vs_one)\u001b[0m\n\u001b[1;32m    124\u001b[0m     \u001b[38;5;28mprint\u001b[39m(\u001b[38;5;124mf\u001b[39m\u001b[38;5;124m'\u001b[39m\u001b[38;5;132;01m{\u001b[39;00mkey\u001b[38;5;132;01m}\u001b[39;00m\u001b[38;5;124m = \u001b[39m\u001b[38;5;132;01m{\u001b[39;00mval\u001b[38;5;132;01m}\u001b[39;00m\u001b[38;5;124m'\u001b[39m)\n\u001b[1;32m    126\u001b[0m \u001b[38;5;28mself\u001b[39m\u001b[38;5;241m.\u001b[39m_parameters_data\u001b[38;5;241m.\u001b[39mappend(\u001b[38;5;28mlist\u001b[39m(curr_params\u001b[38;5;241m.\u001b[39mvalues()))\n\u001b[0;32m--> 127\u001b[0m \u001b[38;5;28;43mself\u001b[39;49m\u001b[38;5;241;43m.\u001b[39;49m\u001b[43m_run_method\u001b[49m\u001b[43m(\u001b[49m\u001b[43mtrain\u001b[49m\u001b[43m,\u001b[49m\u001b[43m \u001b[49m\u001b[43meval_input\u001b[49m\u001b[43m,\u001b[49m\u001b[43m \u001b[49m\u001b[43meval_ans\u001b[49m\u001b[43m,\u001b[49m\u001b[43m \u001b[49m\u001b[43mcurr_params\u001b[49m\u001b[43m)\u001b[49m\n\u001b[1;32m    128\u001b[0m bar()\n\u001b[1;32m    129\u001b[0m \u001b[38;5;28mprint\u001b[39m(\u001b[38;5;124m'\u001b[39m\u001b[38;5;124m-----End with-----\u001b[39m\u001b[38;5;124m'\u001b[39m)\n",
      "File \u001b[0;32m/run/media/dvarkless/LinuxData/Files/Учеба/Data_Science_Course/InnopolisDS/summer-finals/model_runner.py:154\u001b[0m, in \u001b[0;36mModelRunner._run_method\u001b[0;34m(self, train, eval_input, eval_ans, params)\u001b[0m\n\u001b[1;32m    151\u001b[0m \u001b[38;5;28mself\u001b[39m\u001b[38;5;241m.\u001b[39mmodel \u001b[38;5;241m=\u001b[39m \u001b[38;5;28mself\u001b[39m\u001b[38;5;241m.\u001b[39mmodel_class(params_to_pass)\n\u001b[1;32m    153\u001b[0m \u001b[38;5;28mprint\u001b[39m(\u001b[38;5;124m'\u001b[39m\u001b[38;5;124m~fit complete in \u001b[39m\u001b[38;5;124m'\u001b[39m, end\u001b[38;5;241m=\u001b[39m\u001b[38;5;124m'\u001b[39m\u001b[38;5;124m'\u001b[39m)\n\u001b[0;32m--> 154\u001b[0m \u001b[38;5;28;43mself\u001b[39;49m\u001b[38;5;241;43m.\u001b[39;49m\u001b[43m_run_train\u001b[49m\u001b[43m(\u001b[49m\u001b[43mtrain\u001b[49m\u001b[43m)\u001b[49m\n\u001b[1;32m    156\u001b[0m \u001b[38;5;28mprint\u001b[39m(\u001b[38;5;124m'\u001b[39m\u001b[38;5;124m~eval complete in \u001b[39m\u001b[38;5;124m'\u001b[39m, end\u001b[38;5;241m=\u001b[39m\u001b[38;5;124m'\u001b[39m\u001b[38;5;124m'\u001b[39m)\n\u001b[1;32m    157\u001b[0m answer \u001b[38;5;241m=\u001b[39m \u001b[38;5;28mself\u001b[39m\u001b[38;5;241m.\u001b[39m_run_eval(eval_input)\n",
      "File \u001b[0;32m/run/media/dvarkless/LinuxData/Files/Учеба/Data_Science_Course/InnopolisDS/summer-finals/model_runner.py:18\u001b[0m, in \u001b[0;36mtimer.<locals>._wrapper\u001b[0;34m(self, *args, **kwargs)\u001b[0m\n\u001b[1;32m     15\u001b[0m \u001b[38;5;129m@functools\u001b[39m\u001b[38;5;241m.\u001b[39mwraps(attr)\n\u001b[1;32m     16\u001b[0m \u001b[38;5;28;01mdef\u001b[39;00m \u001b[38;5;21m_wrapper\u001b[39m(\u001b[38;5;28mself\u001b[39m, \u001b[38;5;241m*\u001b[39margs, \u001b[38;5;241m*\u001b[39m\u001b[38;5;241m*\u001b[39mkwargs):\n\u001b[1;32m     17\u001b[0m     start \u001b[38;5;241m=\u001b[39m time\u001b[38;5;241m.\u001b[39mperf_counter()\n\u001b[0;32m---> 18\u001b[0m     result \u001b[38;5;241m=\u001b[39m \u001b[43mattr\u001b[49m\u001b[43m(\u001b[49m\u001b[38;5;28;43mself\u001b[39;49m\u001b[43m,\u001b[49m\u001b[43m \u001b[49m\u001b[38;5;241;43m*\u001b[39;49m\u001b[43margs\u001b[49m\u001b[43m,\u001b[49m\u001b[43m \u001b[49m\u001b[38;5;241;43m*\u001b[39;49m\u001b[38;5;241;43m*\u001b[39;49m\u001b[43mkwargs\u001b[49m\u001b[43m)\u001b[49m\n\u001b[1;32m     19\u001b[0m     runtime \u001b[38;5;241m=\u001b[39m time\u001b[38;5;241m.\u001b[39mperf_counter() \u001b[38;5;241m-\u001b[39m start\n\u001b[1;32m     20\u001b[0m     \u001b[38;5;28mprint\u001b[39m(\u001b[38;5;124mf\u001b[39m\u001b[38;5;124m'\u001b[39m\u001b[38;5;132;01m{\u001b[39;00mruntime\u001b[38;5;132;01m:\u001b[39;00m\u001b[38;5;124m.3f\u001b[39m\u001b[38;5;132;01m}\u001b[39;00m\u001b[38;5;124ms\u001b[39m\u001b[38;5;124m'\u001b[39m)\n",
      "File \u001b[0;32m/run/media/dvarkless/LinuxData/Files/Учеба/Data_Science_Course/InnopolisDS/summer-finals/model_runner.py:247\u001b[0m, in \u001b[0;36mModelRunner._run_train\u001b[0;34m(self, train)\u001b[0m\n\u001b[1;32m    236\u001b[0m \u001b[38;5;129m@timer\u001b[39m\n\u001b[1;32m    237\u001b[0m \u001b[38;5;28;01mdef\u001b[39;00m \u001b[38;5;21m_run_train\u001b[39m(\u001b[38;5;28mself\u001b[39m, train: np\u001b[38;5;241m.\u001b[39mndarray):\n\u001b[1;32m    238\u001b[0m     \u001b[38;5;124;03m\"\"\"\u001b[39;00m\n\u001b[1;32m    239\u001b[0m \u001b[38;5;124;03m        Внутренний метод для запуска процесса \u001b[39;00m\n\u001b[1;32m    240\u001b[0m \u001b[38;5;124;03m        тренировки модели.\u001b[39;00m\n\u001b[0;32m   (...)\u001b[0m\n\u001b[1;32m    245\u001b[0m \u001b[38;5;124;03m        this method\u001b[39;00m\n\u001b[1;32m    246\u001b[0m \u001b[38;5;124;03m    \"\"\"\u001b[39;00m\n\u001b[0;32m--> 247\u001b[0m     \u001b[38;5;28;43mself\u001b[39;49m\u001b[38;5;241;43m.\u001b[39;49m\u001b[43mmodel\u001b[49m\u001b[38;5;241;43m.\u001b[39;49m\u001b[43mfit\u001b[49m\u001b[43m(\u001b[49m\u001b[43mtrain\u001b[49m\u001b[43m)\u001b[49m\n",
      "File \u001b[0;32m/run/media/dvarkless/LinuxData/Files/Учеба/Data_Science_Course/InnopolisDS/summer-finals/model_decisiontree.py:104\u001b[0m, in \u001b[0;36mDecisionTreeClassifier.fit\u001b[0;34m(self, dataset)\u001b[0m\n\u001b[1;32m    102\u001b[0m \u001b[38;5;28;01mfor\u001b[39;00m i \u001b[38;5;129;01min\u001b[39;00m \u001b[38;5;28mrange\u001b[39m(\u001b[38;5;28mself\u001b[39m\u001b[38;5;241m.\u001b[39my\u001b[38;5;241m.\u001b[39mshape[\u001b[38;5;241m1\u001b[39m]):\n\u001b[1;32m    103\u001b[0m     data \u001b[38;5;241m=\u001b[39m np\u001b[38;5;241m.\u001b[39mhstack((\u001b[38;5;28mself\u001b[39m\u001b[38;5;241m.\u001b[39mx, \u001b[38;5;28mself\u001b[39m\u001b[38;5;241m.\u001b[39my[:, i][:, np\u001b[38;5;241m.\u001b[39mnewaxis]))\n\u001b[0;32m--> 104\u001b[0m     \u001b[38;5;28mself\u001b[39m\u001b[38;5;241m.\u001b[39mtree_root\u001b[38;5;241m.\u001b[39mappend(\u001b[38;5;28;43mself\u001b[39;49m\u001b[38;5;241;43m.\u001b[39;49m\u001b[43mbuild_tree\u001b[49m\u001b[43m(\u001b[49m\u001b[38;5;241;43m0\u001b[39;49m\u001b[43m,\u001b[49m\u001b[43m \u001b[49m\u001b[43mdata\u001b[49m\u001b[43m)\u001b[49m)\n",
      "File \u001b[0;32m/run/media/dvarkless/LinuxData/Files/Учеба/Data_Science_Course/InnopolisDS/summer-finals/model_decisiontree.py:132\u001b[0m, in \u001b[0;36mDecisionTreeClassifier.build_tree\u001b[0;34m(self, level, data)\u001b[0m\n\u001b[1;32m    128\u001b[0m     \u001b[38;5;28;01mreturn\u001b[39;00m Leaf(level, data)\n\u001b[1;32m    130\u001b[0m left, right \u001b[38;5;241m=\u001b[39m my_question\u001b[38;5;241m.\u001b[39msplit_by_question(data)\n\u001b[0;32m--> 132\u001b[0m left_branch \u001b[38;5;241m=\u001b[39m \u001b[38;5;28;43mself\u001b[39;49m\u001b[38;5;241;43m.\u001b[39;49m\u001b[43mbuild_tree\u001b[49m\u001b[43m(\u001b[49m\u001b[43mlevel\u001b[49m\u001b[38;5;241;43m+\u001b[39;49m\u001b[38;5;241;43m1\u001b[39;49m\u001b[43m,\u001b[49m\u001b[43m \u001b[49m\u001b[43mleft\u001b[49m\u001b[43m)\u001b[49m\n\u001b[1;32m    133\u001b[0m right_branch \u001b[38;5;241m=\u001b[39m \u001b[38;5;28mself\u001b[39m\u001b[38;5;241m.\u001b[39mbuild_tree(level\u001b[38;5;241m+\u001b[39m\u001b[38;5;241m1\u001b[39m, right)\n\u001b[1;32m    135\u001b[0m \u001b[38;5;28;01mreturn\u001b[39;00m my_question\u001b[38;5;241m.\u001b[39mhold_branches(left_branch, right_branch)\n",
      "File \u001b[0;32m/run/media/dvarkless/LinuxData/Files/Учеба/Data_Science_Course/InnopolisDS/summer-finals/model_decisiontree.py:133\u001b[0m, in \u001b[0;36mDecisionTreeClassifier.build_tree\u001b[0;34m(self, level, data)\u001b[0m\n\u001b[1;32m    130\u001b[0m left, right \u001b[38;5;241m=\u001b[39m my_question\u001b[38;5;241m.\u001b[39msplit_by_question(data)\n\u001b[1;32m    132\u001b[0m left_branch \u001b[38;5;241m=\u001b[39m \u001b[38;5;28mself\u001b[39m\u001b[38;5;241m.\u001b[39mbuild_tree(level\u001b[38;5;241m+\u001b[39m\u001b[38;5;241m1\u001b[39m, left)\n\u001b[0;32m--> 133\u001b[0m right_branch \u001b[38;5;241m=\u001b[39m \u001b[38;5;28;43mself\u001b[39;49m\u001b[38;5;241;43m.\u001b[39;49m\u001b[43mbuild_tree\u001b[49m\u001b[43m(\u001b[49m\u001b[43mlevel\u001b[49m\u001b[38;5;241;43m+\u001b[39;49m\u001b[38;5;241;43m1\u001b[39;49m\u001b[43m,\u001b[49m\u001b[43m \u001b[49m\u001b[43mright\u001b[49m\u001b[43m)\u001b[49m\n\u001b[1;32m    135\u001b[0m \u001b[38;5;28;01mreturn\u001b[39;00m my_question\u001b[38;5;241m.\u001b[39mhold_branches(left_branch, right_branch)\n",
      "File \u001b[0;32m/run/media/dvarkless/LinuxData/Files/Учеба/Data_Science_Course/InnopolisDS/summer-finals/model_decisiontree.py:132\u001b[0m, in \u001b[0;36mDecisionTreeClassifier.build_tree\u001b[0;34m(self, level, data)\u001b[0m\n\u001b[1;32m    128\u001b[0m     \u001b[38;5;28;01mreturn\u001b[39;00m Leaf(level, data)\n\u001b[1;32m    130\u001b[0m left, right \u001b[38;5;241m=\u001b[39m my_question\u001b[38;5;241m.\u001b[39msplit_by_question(data)\n\u001b[0;32m--> 132\u001b[0m left_branch \u001b[38;5;241m=\u001b[39m \u001b[38;5;28;43mself\u001b[39;49m\u001b[38;5;241;43m.\u001b[39;49m\u001b[43mbuild_tree\u001b[49m\u001b[43m(\u001b[49m\u001b[43mlevel\u001b[49m\u001b[38;5;241;43m+\u001b[39;49m\u001b[38;5;241;43m1\u001b[39;49m\u001b[43m,\u001b[49m\u001b[43m \u001b[49m\u001b[43mleft\u001b[49m\u001b[43m)\u001b[49m\n\u001b[1;32m    133\u001b[0m right_branch \u001b[38;5;241m=\u001b[39m \u001b[38;5;28mself\u001b[39m\u001b[38;5;241m.\u001b[39mbuild_tree(level\u001b[38;5;241m+\u001b[39m\u001b[38;5;241m1\u001b[39m, right)\n\u001b[1;32m    135\u001b[0m \u001b[38;5;28;01mreturn\u001b[39;00m my_question\u001b[38;5;241m.\u001b[39mhold_branches(left_branch, right_branch)\n",
      "File \u001b[0;32m/run/media/dvarkless/LinuxData/Files/Учеба/Data_Science_Course/InnopolisDS/summer-finals/model_decisiontree.py:132\u001b[0m, in \u001b[0;36mDecisionTreeClassifier.build_tree\u001b[0;34m(self, level, data)\u001b[0m\n\u001b[1;32m    128\u001b[0m     \u001b[38;5;28;01mreturn\u001b[39;00m Leaf(level, data)\n\u001b[1;32m    130\u001b[0m left, right \u001b[38;5;241m=\u001b[39m my_question\u001b[38;5;241m.\u001b[39msplit_by_question(data)\n\u001b[0;32m--> 132\u001b[0m left_branch \u001b[38;5;241m=\u001b[39m \u001b[38;5;28;43mself\u001b[39;49m\u001b[38;5;241;43m.\u001b[39;49m\u001b[43mbuild_tree\u001b[49m\u001b[43m(\u001b[49m\u001b[43mlevel\u001b[49m\u001b[38;5;241;43m+\u001b[39;49m\u001b[38;5;241;43m1\u001b[39;49m\u001b[43m,\u001b[49m\u001b[43m \u001b[49m\u001b[43mleft\u001b[49m\u001b[43m)\u001b[49m\n\u001b[1;32m    133\u001b[0m right_branch \u001b[38;5;241m=\u001b[39m \u001b[38;5;28mself\u001b[39m\u001b[38;5;241m.\u001b[39mbuild_tree(level\u001b[38;5;241m+\u001b[39m\u001b[38;5;241m1\u001b[39m, right)\n\u001b[1;32m    135\u001b[0m \u001b[38;5;28;01mreturn\u001b[39;00m my_question\u001b[38;5;241m.\u001b[39mhold_branches(left_branch, right_branch)\n",
      "File \u001b[0;32m/run/media/dvarkless/LinuxData/Files/Учеба/Data_Science_Course/InnopolisDS/summer-finals/model_decisiontree.py:133\u001b[0m, in \u001b[0;36mDecisionTreeClassifier.build_tree\u001b[0;34m(self, level, data)\u001b[0m\n\u001b[1;32m    130\u001b[0m left, right \u001b[38;5;241m=\u001b[39m my_question\u001b[38;5;241m.\u001b[39msplit_by_question(data)\n\u001b[1;32m    132\u001b[0m left_branch \u001b[38;5;241m=\u001b[39m \u001b[38;5;28mself\u001b[39m\u001b[38;5;241m.\u001b[39mbuild_tree(level\u001b[38;5;241m+\u001b[39m\u001b[38;5;241m1\u001b[39m, left)\n\u001b[0;32m--> 133\u001b[0m right_branch \u001b[38;5;241m=\u001b[39m \u001b[38;5;28;43mself\u001b[39;49m\u001b[38;5;241;43m.\u001b[39;49m\u001b[43mbuild_tree\u001b[49m\u001b[43m(\u001b[49m\u001b[43mlevel\u001b[49m\u001b[38;5;241;43m+\u001b[39;49m\u001b[38;5;241;43m1\u001b[39;49m\u001b[43m,\u001b[49m\u001b[43m \u001b[49m\u001b[43mright\u001b[49m\u001b[43m)\u001b[49m\n\u001b[1;32m    135\u001b[0m \u001b[38;5;28;01mreturn\u001b[39;00m my_question\u001b[38;5;241m.\u001b[39mhold_branches(left_branch, right_branch)\n",
      "File \u001b[0;32m/run/media/dvarkless/LinuxData/Files/Учеба/Data_Science_Course/InnopolisDS/summer-finals/model_decisiontree.py:132\u001b[0m, in \u001b[0;36mDecisionTreeClassifier.build_tree\u001b[0;34m(self, level, data)\u001b[0m\n\u001b[1;32m    128\u001b[0m     \u001b[38;5;28;01mreturn\u001b[39;00m Leaf(level, data)\n\u001b[1;32m    130\u001b[0m left, right \u001b[38;5;241m=\u001b[39m my_question\u001b[38;5;241m.\u001b[39msplit_by_question(data)\n\u001b[0;32m--> 132\u001b[0m left_branch \u001b[38;5;241m=\u001b[39m \u001b[38;5;28;43mself\u001b[39;49m\u001b[38;5;241;43m.\u001b[39;49m\u001b[43mbuild_tree\u001b[49m\u001b[43m(\u001b[49m\u001b[43mlevel\u001b[49m\u001b[38;5;241;43m+\u001b[39;49m\u001b[38;5;241;43m1\u001b[39;49m\u001b[43m,\u001b[49m\u001b[43m \u001b[49m\u001b[43mleft\u001b[49m\u001b[43m)\u001b[49m\n\u001b[1;32m    133\u001b[0m right_branch \u001b[38;5;241m=\u001b[39m \u001b[38;5;28mself\u001b[39m\u001b[38;5;241m.\u001b[39mbuild_tree(level\u001b[38;5;241m+\u001b[39m\u001b[38;5;241m1\u001b[39m, right)\n\u001b[1;32m    135\u001b[0m \u001b[38;5;28;01mreturn\u001b[39;00m my_question\u001b[38;5;241m.\u001b[39mhold_branches(left_branch, right_branch)\n",
      "File \u001b[0;32m/run/media/dvarkless/LinuxData/Files/Учеба/Data_Science_Course/InnopolisDS/summer-finals/model_decisiontree.py:123\u001b[0m, in \u001b[0;36mDecisionTreeClassifier.build_tree\u001b[0;34m(self, level, data)\u001b[0m\n\u001b[1;32m    119\u001b[0m \u001b[38;5;66;03m# Округляем до ближайшего нечетного\u001b[39;00m\n\u001b[1;32m    120\u001b[0m \u001b[38;5;66;03m# Чтобы работало вычисление текущих координат\u001b[39;00m\n\u001b[1;32m    121\u001b[0m window_size \u001b[38;5;241m=\u001b[39m \u001b[38;5;28mround\u001b[39m(window_size\u001b[38;5;241m+\u001b[39m\u001b[38;5;241m0.5\u001b[39m)\u001b[38;5;241m-\u001b[39m\u001b[38;5;241m1\u001b[39m\n\u001b[0;32m--> 123\u001b[0m my_question \u001b[38;5;241m=\u001b[39m \u001b[38;5;28;43mself\u001b[39;49m\u001b[38;5;241;43m.\u001b[39;49m\u001b[43mcreate_node\u001b[49m\u001b[43m(\u001b[49m\u001b[43mdata\u001b[49m\u001b[43m,\u001b[49m\u001b[43m \u001b[49m\u001b[43mlevel\u001b[49m\u001b[43m,\u001b[49m\u001b[43m \u001b[49m\u001b[43mwindow_size\u001b[49m\u001b[43m)\u001b[49m\n\u001b[1;32m    125\u001b[0m \u001b[38;5;28;01mif\u001b[39;00m my_question\u001b[38;5;241m.\u001b[39mmy_gini(data, min_samples\u001b[38;5;241m=\u001b[39m\u001b[38;5;28mgetattr\u001b[39m(\u001b[38;5;28mself\u001b[39m, \u001b[38;5;124m'\u001b[39m\u001b[38;5;124mmin_samples\u001b[39m\u001b[38;5;124m'\u001b[39m)) \u001b[38;5;241m==\u001b[39m \u001b[38;5;241m0\u001b[39m:\n\u001b[1;32m    126\u001b[0m     \u001b[38;5;28;01mreturn\u001b[39;00m Leaf(level, data)\n",
      "File \u001b[0;32m/run/media/dvarkless/LinuxData/Files/Учеба/Data_Science_Course/InnopolisDS/summer-finals/model_decisiontree.py:209\u001b[0m, in \u001b[0;36mDecisionTreeClassifier.create_node\u001b[0;34m(self, data, level, window_size)\u001b[0m\n\u001b[1;32m    207\u001b[0m v_gini \u001b[38;5;241m=\u001b[39m np\u001b[38;5;241m.\u001b[39mvectorize(\u001b[38;5;28mself\u001b[39m\u001b[38;5;241m.\u001b[39mcalculate_gini)\n\u001b[1;32m    208\u001b[0m v_gini\u001b[38;5;241m.\u001b[39mexcluded\u001b[38;5;241m.\u001b[39madd(\u001b[38;5;241m0\u001b[39m)\n\u001b[0;32m--> 209\u001b[0m local_gini \u001b[38;5;241m=\u001b[39m \u001b[43mv_gini\u001b[49m\u001b[43m(\u001b[49m\n\u001b[1;32m    210\u001b[0m \u001b[43m    \u001b[49m\u001b[43mdata\u001b[49m\u001b[43m,\u001b[49m\u001b[43m \u001b[49m\u001b[43mfeature_window\u001b[49m\u001b[43m,\u001b[49m\u001b[43m \u001b[49m\u001b[43mquestion_window\u001b[49m\u001b[43m)\u001b[49m\n\u001b[1;32m    211\u001b[0m \u001b[38;5;66;03m# print(f'max local_gini = {local_gini.max()}')\u001b[39;00m\n\u001b[1;32m    212\u001b[0m \u001b[38;5;28;01mif\u001b[39;00m local_gini\u001b[38;5;241m.\u001b[39mmax() \u001b[38;5;241m==\u001b[39m \u001b[38;5;241m0\u001b[39m:\n",
      "File \u001b[0;32m/run/media/dvarkless/LinuxData/Files/Учеба/Data_Science_Course/Finals1/venv/lib/python3.10/site-packages/numpy/lib/function_base.py:2328\u001b[0m, in \u001b[0;36mvectorize.__call__\u001b[0;34m(self, *args, **kwargs)\u001b[0m\n\u001b[1;32m   2325\u001b[0m     vargs \u001b[38;5;241m=\u001b[39m [args[_i] \u001b[38;5;28;01mfor\u001b[39;00m _i \u001b[38;5;129;01min\u001b[39;00m inds]\n\u001b[1;32m   2326\u001b[0m     vargs\u001b[38;5;241m.\u001b[39mextend([kwargs[_n] \u001b[38;5;28;01mfor\u001b[39;00m _n \u001b[38;5;129;01min\u001b[39;00m names])\n\u001b[0;32m-> 2328\u001b[0m \u001b[38;5;28;01mreturn\u001b[39;00m \u001b[38;5;28;43mself\u001b[39;49m\u001b[38;5;241;43m.\u001b[39;49m\u001b[43m_vectorize_call\u001b[49m\u001b[43m(\u001b[49m\u001b[43mfunc\u001b[49m\u001b[38;5;241;43m=\u001b[39;49m\u001b[43mfunc\u001b[49m\u001b[43m,\u001b[49m\u001b[43m \u001b[49m\u001b[43margs\u001b[49m\u001b[38;5;241;43m=\u001b[39;49m\u001b[43mvargs\u001b[49m\u001b[43m)\u001b[49m\n",
      "File \u001b[0;32m/run/media/dvarkless/LinuxData/Files/Учеба/Data_Science_Course/Finals1/venv/lib/python3.10/site-packages/numpy/lib/function_base.py:2411\u001b[0m, in \u001b[0;36mvectorize._vectorize_call\u001b[0;34m(self, func, args)\u001b[0m\n\u001b[1;32m   2408\u001b[0m \u001b[38;5;66;03m# Convert args to object arrays first\u001b[39;00m\n\u001b[1;32m   2409\u001b[0m inputs \u001b[38;5;241m=\u001b[39m [asanyarray(a, dtype\u001b[38;5;241m=\u001b[39m\u001b[38;5;28mobject\u001b[39m) \u001b[38;5;28;01mfor\u001b[39;00m a \u001b[38;5;129;01min\u001b[39;00m args]\n\u001b[0;32m-> 2411\u001b[0m outputs \u001b[38;5;241m=\u001b[39m \u001b[43mufunc\u001b[49m\u001b[43m(\u001b[49m\u001b[38;5;241;43m*\u001b[39;49m\u001b[43minputs\u001b[49m\u001b[43m)\u001b[49m\n\u001b[1;32m   2413\u001b[0m \u001b[38;5;28;01mif\u001b[39;00m ufunc\u001b[38;5;241m.\u001b[39mnout \u001b[38;5;241m==\u001b[39m \u001b[38;5;241m1\u001b[39m:\n\u001b[1;32m   2414\u001b[0m     res \u001b[38;5;241m=\u001b[39m asanyarray(outputs, dtype\u001b[38;5;241m=\u001b[39motypes[\u001b[38;5;241m0\u001b[39m])\n",
      "File \u001b[0;32m/run/media/dvarkless/LinuxData/Files/Учеба/Data_Science_Course/Finals1/venv/lib/python3.10/site-packages/numpy/lib/function_base.py:2321\u001b[0m, in \u001b[0;36mvectorize.__call__.<locals>.func\u001b[0;34m(*vargs)\u001b[0m\n\u001b[1;32m   2319\u001b[0m \u001b[38;5;28;01mdef\u001b[39;00m \u001b[38;5;21mfunc\u001b[39m(\u001b[38;5;241m*\u001b[39mvargs):\n\u001b[1;32m   2320\u001b[0m     \u001b[38;5;28;01mfor\u001b[39;00m _n, _i \u001b[38;5;129;01min\u001b[39;00m \u001b[38;5;28menumerate\u001b[39m(inds):\n\u001b[0;32m-> 2321\u001b[0m         the_args[_i] \u001b[38;5;241m=\u001b[39m vargs[_n]\n\u001b[1;32m   2322\u001b[0m     kwargs\u001b[38;5;241m.\u001b[39mupdate(\u001b[38;5;28mzip\u001b[39m(names, vargs[\u001b[38;5;28mlen\u001b[39m(inds):]))\n\u001b[1;32m   2323\u001b[0m     \u001b[38;5;28;01mreturn\u001b[39;00m \u001b[38;5;28mself\u001b[39m\u001b[38;5;241m.\u001b[39mpyfunc(\u001b[38;5;241m*\u001b[39mthe_args, \u001b[38;5;241m*\u001b[39m\u001b[38;5;241m*\u001b[39mkwargs)\n",
      "\u001b[0;31mKeyboardInterrupt\u001b[0m: "
     ]
    }
   ],
   "source": [
    "# Tree\n",
    "\n",
    "hp = {\n",
    "        'data_converter': PCA_severe,\n",
    "        'sample_len': 32,\n",
    "        'num_classes': 26,\n",
    "        'window_size': -1,\n",
    "        'min_samples': 3,\n",
    "        'max_depth': 7,\n",
    "        'tree_type': 'multilabel_ovo',\n",
    "}\n",
    "\n",
    "TreeRunner = ModelRunner(DecisionTreeClassifier,\n",
    "                         defaults=hp, metrics=my_metrics)\n",
    "params_to_change = {\n",
    "    'data_converter': [PCA_extreme, PCA_severe, PCA_rought]\n",
    "}\n",
    "TreeRunner.run(training_data, evaluation_input,\n",
    "               evaluation_answers, params_to_change, one_vs_one=False)"
   ]
  },
  {
   "cell_type": "code",
   "execution_count": null,
   "metadata": {},
   "outputs": [],
   "source": []
  }
 ],
 "metadata": {
  "anaconda-cloud": {},
  "kernelspec": {
   "display_name": "finals_env",
   "language": "python",
   "name": "finals_env"
  },
  "language_info": {
   "codemirror_mode": {
    "name": "ipython",
    "version": 3
   },
   "file_extension": ".py",
   "mimetype": "text/x-python",
   "name": "python",
   "nbconvert_exporter": "python",
   "pygments_lexer": "ipython3",
   "version": "3.10.5"
  }
 },
 "nbformat": 4,
 "nbformat_minor": 4
}
