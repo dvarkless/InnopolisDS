{
 "cells": [
  {
   "cell_type": "markdown",
   "metadata": {},
   "source": []
  },
  {
   "cell_type": "code",
   "execution_count": 1,
   "metadata": {
    "jukit_cell_id": "NONE"
   },
   "outputs": [],
   "source": [
    "import numpy as np\n",
    "import matplotlib.pyplot as plt\n",
    "%matplotlib inline\n",
    "\n",
    "from model_knn import KnnModel\n",
    "from model_svm import SVM_Model\n",
    "from model_multilog import MultilogRegression\n",
    "from model_bayes import BayesianClassifier\n",
    "from model_decisiontree import DecisionTreeClassifier\n",
    "from metrics import (return_precision, show_metrics_matrix, return_accuracy, return_recall, \n",
    "                     return_f1, return_roc_auc_ovr)\n",
    "from image_feature_detector import PCA_transform, get_features, get_plain_data, threshold_mid\n",
    "from model_runner import ModelRunner"
   ]
  },
  {
   "cell_type": "code",
   "execution_count": 2,
   "metadata": {
    "jukit_cell_id": "NONE"
   },
   "outputs": [],
   "source": [
    "# Data\n",
    "\n",
    "#lite data\n",
    "training_data_lite = np.genfromtxt(\"datasets/light-train.csv\",\n",
    "                            delimiter=\",\", filling_values=0)\n",
    "evaluation_data_lite = np.genfromtxt(\n",
    "    \"datasets/medium-test.csv\", delimiter=\",\", filling_values=0)\n",
    "evaluation_input_lite = evaluation_data_lite[:, 1:]\n",
    "evaluation_answers_lite = evaluation_data_lite[:, 0]\n",
    "\n",
    "#medium size\n",
    "training_data_mid = np.genfromtxt(\"datasets/light-train.csv\",\n",
    "                            delimiter=\",\", filling_values=0)\n",
    "evaluation_data_mid = np.genfromtxt(\n",
    "    \"datasets/medium-test.csv\", delimiter=\",\", filling_values=0)\n",
    "evaluation_input_mid = evaluation_data_mid[:, 1:]\n",
    "evaluation_answers_mid = evaluation_data_mid[:, 0]\n",
    "\n",
    "# full size\n",
    "training_data = np.genfromtxt(\"datasets/emnist-letters-train.csv\",\n",
    "                            delimiter=\",\", filling_values=0)\n",
    "evaluation_data = np.genfromtxt(\n",
    "    \"datasets/emnist-letters-test.csv\", delimiter=\",\", filling_values=0)\n",
    "evaluation_input = evaluation_data[:, 1:]\n",
    "evaluation_answers = evaluation_data[:, 0]"
   ]
  },
  {
   "cell_type": "code",
   "execution_count": 3,
   "metadata": {
    "jukit_cell_id": "NONE"
   },
   "outputs": [],
   "source": [
    "# metrics\n",
    "my_metrics = [return_accuracy, return_recall, return_precision, return_f1]"
   ]
  },
  {
   "cell_type": "markdown",
   "metadata": {},
   "source": [
    "# Сравнение моделей уменьшения размерности данных"
   ]
  },
  {
   "cell_type": "code",
   "execution_count": 4,
   "metadata": {},
   "outputs": [],
   "source": [
    "# get_plain_data --> np.ndarray with shape(784,)\n",
    "\n",
    "# get_features --> np.ndarray with shape(13,)\n",
    "\n",
    "# PCA\n",
    "PCA_extreme = PCA_transform(24).fit(training_data) # x32 - выходной массив имеет в 32 раза меньше размерности\n",
    "\n",
    "PCA_severe = PCA_transform(49).fit(training_data) # x16\n",
    "\n",
    "PCA_rought = PCA_transform(98).fit(training_data) # x8\n",
    "\n",
    "PCA_medium = PCA_transform(196).fit(training_data) # x4\n",
    "\n",
    "PCA_fine = PCA_transform(392).fit(training_data) # x2\n",
    "\n",
    "params_to_change = {\n",
    "    'data_converter': [get_plain_data, get_features, PCA_extreme, PCA_severe, PCA_rought, PCA_medium, PCA_fine],\n",
    "}"
   ]
  },
  {
   "cell_type": "code",
   "execution_count": 5,
   "metadata": {},
   "outputs": [
    {
     "name": "stdout",
     "output_type": "stream",
     "text": [
      "on 0: -----With parameters-----                                                                                         \n",
      "on 0: data_converter = <function get_plain_data at 0x7ff9b2de4820>                                                      \n",
      "on 0: ~fit complete in                                                                                                  \n",
      "on 300: 9.117s                                                                                                          \n",
      "on 300: ~eval complete in 0.158s                                                                                        \n",
      "on 300:     return_accuracy = 0.564                                                                                     \n",
      "on 300:     return_recall = 0.686                                                                                       \n",
      "on 300:     return_precision = 0.469                                                                                    \n",
      "on 300:     return_f1 = 0.436                                                                                           \n",
      "on 300: -----End with-----                                                                                              \n",
      "on 301: -----With parameters-----                                                                                       \n",
      "on 301: data_converter = <function get_features at 0x7ff9b2de4550>                                                      \n",
      "on 301: ~fit complete in                                                                                                \n",
      "on 601: 5.219s                                                                                                          \n",
      "on 601: ~eval complete in 2.648s                                                                                        \n",
      "on 601:     return_accuracy = 0.210                                                                                     \n",
      "on 601:     return_recall = 0.421                                                                                       \n",
      "on 601:     return_precision = 0.176                                                                                    \n",
      "on 601:     return_f1 = 0.124                                                                                           \n",
      "on 601: -----End with-----                                                                                              \n",
      "on 602: -----With parameters-----                                                                                       \n",
      "on 602: data_converter = <PCA_transform(24);vector:(784, 24)>                                                           \n",
      "on 602: ~fit complete in                                                                                                \n",
      "on 902: 5.137s                                                                                                          \n",
      "on 902: ~eval complete in 0.190s                                                                                        \n",
      "on 902:     return_accuracy = 0.464                                                                                     \n",
      "on 902:     return_recall = 0.614                                                                                       \n",
      "on 902:     return_precision = 0.422                                                                                    \n",
      "on 902:     return_f1 = 0.347                                                                                           \n",
      "on 902: -----End with-----                                                                                              \n",
      "on 903: -----With parameters-----                                                                                       \n",
      "on 903: data_converter = <PCA_transform(49);vector:(784, 49)>                                                           \n",
      "on 903: ~fit complete in                                                                                                \n",
      "on 1203: 5.501s                                                                                                         \n",
      "on 1203: ~eval complete in 0.205s                                                                                       \n",
      "on 1203:     return_accuracy = 0.469                                                                                    \n",
      "on 1203:     return_recall = 0.618                                                                                      \n",
      "on 1203:     return_precision = 0.410                                                                                   \n",
      "on 1203:     return_f1 = 0.352                                                                                          \n",
      "on 1203: -----End with-----                                                                                             \n",
      "on 1204: -----With parameters-----                                                                                      \n",
      "on 1204: data_converter = <PCA_transform(98);vector:(784, 98)>                                                          \n",
      "on 1204: ~fit complete in                                                                                               \n",
      "on 1504: 5.584s                                                                                                         \n",
      "on 1504: ~eval complete in 0.218s                                                                                       \n",
      "on 1504:     return_accuracy = 0.442                                                                                    \n",
      "on 1504:     return_recall = 0.600                                                                                      \n",
      "on 1504:     return_precision = 0.392                                                                                   \n",
      "on 1504:     return_f1 = 0.339                                                                                          \n",
      "on 1504: -----End with-----                                                                                             \n",
      "on 1505: -----With parameters-----                                                                                      \n",
      "on 1505: data_converter = <PCA_transform(196);vector:(784, 196)>                                                        \n",
      "on 1505: ~fit complete in                                                                                               \n",
      "on 1805: 6.047s                                                                                                         \n",
      "on 1805: ~eval complete in 0.254s                                                                                       \n",
      "on 1805:     return_accuracy = 0.390                                                                                    \n",
      "on 1805:     return_recall = 0.561                                                                                      \n",
      "on 1805:     return_precision = 0.357                                                                                   \n",
      "on 1805:     return_f1 = 0.306                                                                                          \n",
      "on 1805: -----End with-----                                                                                             \n",
      "on 1806: -----With parameters-----                                                                                      \n",
      "on 1806: data_converter = <PCA_transform(392);vector:(784, 392)>                                                        \n",
      "on 1806: ~fit complete in                                                                                               \n",
      "on 2106: 7.377s                                                                                                          \n",
      "on 2106: ~eval complete in 0.327s                                                                                        \n",
      "on 2106:     return_accuracy = 0.342                                                                                     \n",
      "on 2106:     return_recall = 0.526                                                                                       \n"
     ]
    },
    {
     "name": "stdout",
     "output_type": "stream",
     "text": [
      "on 2106:     return_precision = 0.314                                                                                    \n",
      "on 2106:     return_f1 = 0.272                                                                                           \n",
      "on 2106: -----End with-----                                                                                             \n",
      "Проверка модели MultilogRegression |████████████████████████████████████████✗︎ (!) 2107/2100 [100%] in 48.2s (43.76/s)   \n",
      "===============RESULTS=================\n",
      "On iteration 0:\n",
      "With hyperparameters: [<function get_plain_data at 0x7ff9b2de4820>]\n",
      "Got metrics: [0.564, 0.6856026702482796, 0.46936358063790284, 0.435883919724493]\n"
     ]
    }
   ],
   "source": [
    "# Logistic\n",
    "\n",
    "hp = {\n",
    "    'data_converter': get_plain_data,\n",
    "    'normalization': True,\n",
    "    'shift_column': True,\n",
    "    'learning_rate': 0.05,\n",
    "    'batch_size': 300,\n",
    "    'epochs': 300,\n",
    "    'num_classes': 26,\n",
    "    'reg': 'l1',\n",
    "    'reg_w': 0.01,\n",
    "}\n",
    "\n",
    "\n",
    "MultilogRunner = ModelRunner(MultilogRegression, defaults=hp, metrics=my_metrics, responsive_bar=True)\n",
    "MultilogRunner.run(training_data_mid, evaluation_input_mid, evaluation_answers_mid, params_to_change, one_vs_one=True)"
   ]
  },
  {
   "cell_type": "code",
   "execution_count": 6,
   "metadata": {
    "scrolled": true
   },
   "outputs": [
    {
     "name": "stdout",
     "output_type": "stream",
     "text": [
      "on 0: -----With parameters-----                                                                                         \n",
      "on 0: data_converter = <function get_plain_data at 0x7ff9b2de4820>                                                      \n",
      "on 0: ~fit complete in 0.004s                                                                                           \n",
      "on 0: ~eval complete in                                                                                                 \n",
      "on 5000: 4.041s                                                                                                         \n",
      "on 5000:     return_accuracy = 0.233                                                                                    \n",
      "on 5000:     return_recall = 0.437                                                                                      \n",
      "on 5000:     return_precision = 0.367                                                                                   \n",
      "on 5000:     return_f1 = 0.185                                                                                          \n",
      "on 5000: -----End with-----                                                                                             \n",
      "on 5001: -----With parameters-----                                                                                      \n",
      "on 5001: data_converter = <function get_features at 0x7ff9b2de4550>                                                     \n",
      "on 5001: ~fit complete in 0.541s                                                                                        \n",
      "on 5001: ~eval complete in                                                                                              \n",
      "on 10001: 3.947s                                                                                                        \n",
      "on 10001:     return_accuracy = 0.202                                                                                   \n",
      "on 10001:     return_recall = 0.416                                                                                     \n",
      "on 10001:     return_precision = 0.187                                                                                  \n",
      "on 10001:     return_f1 = 0.163                                                                                         \n",
      "on 10001: -----End with-----                                                                                            \n",
      "on 10002: -----With parameters-----                                                                                     \n",
      "on 10002: data_converter = <PCA_transform(24);vector:(784, 24)>                                                         \n",
      "on 10002: ~fit complete in 0.028s                                                                                       \n",
      "on 10002: ~eval complete in                                                                                             \n",
      "on 15002: 1.528s                                                                                                        \n",
      "on 15002:     return_accuracy = 0.624                                                                                   \n",
      "on 15002:     return_recall = 0.729                                                                                     \n",
      "on 15002:     return_precision = 0.495                                                                                  \n",
      "on 15002:     return_f1 = 0.474                                                                                         \n",
      "on 15002: -----End with-----                                                                                            \n",
      "on 15003: -----With parameters-----                                                                                     \n",
      "on 15003: data_converter = <PCA_transform(49);vector:(784, 49)>                                                         \n",
      "on 15003: ~fit complete in 0.032s                                                                                       \n",
      "on 15003: ~eval complete in                                                                                             \n",
      "on 20003: 1.747s                                                                                                        \n",
      "on 20003:     return_accuracy = 0.629                                                                                   \n",
      "on 20003:     return_recall = 0.734                                                                                     \n",
      "on 20003:     return_precision = 0.500                                                                                  \n",
      "on 20003:     return_f1 = 0.477                                                                                         \n",
      "on 20003: -----End with-----                                                                                            \n",
      "on 20004: -----With parameters-----                                                                                     \n",
      "on 20004: data_converter = <PCA_transform(98);vector:(784, 98)>                                                         \n",
      "on 20004: ~fit complete in 0.037s                                                                                       \n",
      "on 20004: ~eval complete in                                                                                             \n",
      "on 25004: 1.981s                                                                                                        \n",
      "on 25004:     return_accuracy = 0.615                                                                                   \n",
      "on 25004:     return_recall = 0.724                                                                                     \n",
      "on 25004:     return_precision = 0.493                                                                                  \n",
      "on 25004:     return_f1 = 0.466                                                                                         \n",
      "on 25004: -----End with-----                                                                                            \n",
      "on 25005: -----With parameters-----                                                                                     \n",
      "on 25005: data_converter = <PCA_transform(196);vector:(784, 196)>                                                       \n",
      "on 25005: ~fit complete in 0.069s                                                                                       \n",
      "on 25005: ~eval complete in                                                                                             \n",
      "on 30005: 2.668s                                                                                                        \n",
      "on 30005:     return_accuracy = 0.604                                                                                   \n",
      "on 30005:     return_recall = 0.716                                                                                     \n",
      "on 30005:     return_precision = 0.489                                                                                  \n",
      "on 30005:     return_f1 = 0.458                                                                                         \n",
      "on 30005: -----End with-----                                                                                            \n",
      "on 30006: -----With parameters-----                                                                                     \n",
      "on 30006: data_converter = <PCA_transform(392);vector:(784, 392)>                                                       \n",
      "on 30006: ~fit complete in 0.094s                                                                                       \n",
      "on 30006: ~eval complete in                                                                                             \n",
      "on 35006: 6.418s                                                                                                        \n",
      "on 35006:     return_accuracy = 0.599                                                                                   \n",
      "on 35006:     return_recall = 0.713                                                                                     \n"
     ]
    },
    {
     "name": "stdout",
     "output_type": "stream",
     "text": [
      "on 35006:     return_precision = 0.488                                                                                  \n",
      "on 35006:     return_f1 = 0.454                                                                                         \n",
      "on 35006: -----End with-----                                                                                            \n",
      "Проверка модели KnnModel |████████████████████████████████████████| 35007/35007 [100%] in 23.3s (1500.37/s)             \n",
      "===============RESULTS=================\n",
      "On iteration 3:\n",
      "With hyperparameters: [<PCA_transform(49);vector:(784, 49)>]\n",
      "Got metrics: [0.6292, 0.7339819667849938, 0.49995519026928925, 0.4768180509485743]\n"
     ]
    }
   ],
   "source": [
    "# KNN\n",
    "hp = {\n",
    "    'data_converter': get_plain_data,\n",
    "    'k': 1,\n",
    "}\n",
    "\n",
    "\n",
    "KNNrunner = ModelRunner(KnnModel, defaults=hp, metrics=my_metrics, responsive_bar=True)\n",
    "KNNrunner.run(training_data_mid, evaluation_input_mid, evaluation_answers_mid, params_to_change, one_vs_one=True)"
   ]
  },
  {
   "cell_type": "code",
   "execution_count": 7,
   "metadata": {},
   "outputs": [
    {
     "name": "stdout",
     "output_type": "stream",
     "text": [
      "on 0: -----With parameters-----                                                                                         \n",
      "on 0: data_converter = <function get_plain_data at 0x7ff9b2de4820>                                                      \n",
      "on 0: ~fit complete in                                                                                                  \n",
      "on 100: 2.324s                                                                                                          \n",
      "on 100: ~eval complete in 0.072s                                                                                        \n",
      "on 100:     return_accuracy = 0.435                                                                                     \n",
      "on 100:     return_recall = 0.591                                                                                       \n",
      "on 100:     return_precision = 0.424                                                                                    \n",
      "on 100:     return_f1 = 0.330                                                                                           \n",
      "on 100: -----End with-----                                                                                              \n",
      "on 101: -----With parameters-----                                                                                       \n",
      "on 101: data_converter = <function get_features at 0x7ff9b2de4550>                                                      \n",
      "on 101: ~fit complete in                                                                                                \n",
      "on 201: 1.901s                                                                                                          \n",
      "on 201: ~eval complete in 2.639s                                                                                        \n",
      "on 201:     return_accuracy = 0.211                                                                                     \n",
      "on 201:     return_recall = 0.423                                                                                       \n",
      "on 201:     return_precision = 0.224                                                                                    \n",
      "on 201:     return_f1 = 0.123                                                                                           \n",
      "on 201: -----End with-----                                                                                              \n",
      "on 202: -----With parameters-----                                                                                       \n",
      "on 202: data_converter = <PCA_transform(24);vector:(784, 24)>                                                           \n",
      "on 202: ~fit complete in                                                                                                \n",
      "on 302: 1.444s                                                                                                          \n",
      "on 302: ~eval complete in 0.093s                                                                                        \n",
      "on 302:     return_accuracy = 0.475                                                                                     \n",
      "on 302:     return_recall = 0.622                                                                                       \n",
      "on 302:     return_precision = 0.419                                                                                    \n",
      "on 302:     return_f1 = 0.355                                                                                           \n",
      "on 302: -----End with-----                                                                                              \n",
      "on 303: -----With parameters-----                                                                                       \n",
      "on 303: data_converter = <PCA_transform(49);vector:(784, 49)>                                                           \n",
      "on 303: ~fit complete in                                                                                                \n",
      "on 403: 1.620s                                                                                                          \n",
      "on 403: ~eval complete in 0.108s                                                                                        \n",
      "on 403:     return_accuracy = 0.469                                                                                     \n",
      "on 403:     return_recall = 0.619                                                                                       \n",
      "on 403:     return_precision = 0.404                                                                                    \n",
      "on 403:     return_f1 = 0.352                                                                                           \n",
      "on 403: -----End with-----                                                                                              \n",
      "on 404: -----With parameters-----                                                                                       \n",
      "on 404: data_converter = <PCA_transform(98);vector:(784, 98)>                                                           \n",
      "on 404: ~fit complete in                                                                                                \n",
      "on 504: 1.601s                                                                                                          \n",
      "on 504: ~eval complete in 0.130s                                                                                        \n",
      "on 504:     return_accuracy = 0.442                                                                                     \n",
      "on 504:     return_recall = 0.600                                                                                       \n",
      "on 504:     return_precision = 0.387                                                                                    \n",
      "on 504:     return_f1 = 0.338                                                                                           \n",
      "on 504: -----End with-----                                                                                              \n",
      "on 505: -----With parameters-----                                                                                       \n",
      "on 505: data_converter = <PCA_transform(196);vector:(784, 196)>                                                         \n",
      "on 505: ~fit complete in                                                                                                \n",
      "on 605: 1.787s                                                                                                          \n",
      "on 605: ~eval complete in 0.166s                                                                                        \n",
      "on 605:     return_accuracy = 0.391                                                                                     \n",
      "on 605:     return_recall = 0.561                                                                                       \n",
      "on 605:     return_precision = 0.353                                                                                    \n",
      "on 605:     return_f1 = 0.304                                                                                           \n",
      "on 605: -----End with-----                                                                                              \n",
      "on 606: -----With parameters-----                                                                                       \n",
      "on 606: data_converter = <PCA_transform(392);vector:(784, 392)>                                                         \n",
      "on 606: ~fit complete in                                                                                                \n",
      "on 706: 2.002s                                                                                                          \n",
      "on 706: ~eval complete in 0.244s                                                                                         \n",
      "on 706:     return_accuracy = 0.338                                                                                     \n",
      "on 706:     return_recall = 0.522                                                                                       \n"
     ]
    },
    {
     "name": "stdout",
     "output_type": "stream",
     "text": [
      "on 706:     return_precision = 0.318                                                                                    \n",
      "on 706:     return_f1 = 0.271                                                                                           \n",
      "on 706: -----End with-----                                                                                              \n",
      "Проверка модели SVM_Model |████████████████████████████████████████✗︎ (!) 707/700 [101%] in 16.4s (43.17/s)              \n",
      "===============RESULTS=================\n",
      "On iteration 2:\n",
      "With hyperparameters: [<PCA_transform(24);vector:(784, 24)>]\n",
      "Got metrics: [0.4754, 0.6221787483547424, 0.4192542449065625, 0.3548350002631533]\n"
     ]
    }
   ],
   "source": [
    "# SVM\n",
    "hp = {\n",
    "    'data_converter': get_plain_data,\n",
    "    'num_classes': 26,\n",
    "    'epochs': 100,\n",
    "    'batch_size': 1000,\n",
    "    'learning_rate': 0.01,\n",
    "    'regularization': 0.0005,\n",
    "    'normalization': True,\n",
    "    'shift_column': True,\n",
    "}\n",
    "\n",
    "\n",
    "SVMRunner = ModelRunner(SVM_Model, defaults=hp, metrics=my_metrics, responsive_bar=True)\n",
    "SVMRunner.run(training_data_mid, evaluation_input_mid, evaluation_answers_mid, params_to_change, one_vs_one=True)"
   ]
  },
  {
   "cell_type": "code",
   "execution_count": 8,
   "metadata": {
    "scrolled": true
   },
   "outputs": [
    {
     "name": "stdout",
     "output_type": "stream",
     "text": [
      "on 0: -----With parameters-----                                                                                         \n",
      "on 0: data_converter = <function get_plain_data at 0x7ff9b2de4820>                                                      \n",
      "on 0: ~fit complete in 0.014s                                                                                           \n",
      "on 0: ~eval complete in 0.119s                                                                                          \n",
      "on 0:     return_accuracy = 0.270                                                                                       \n",
      "on 0:     return_recall = 0.396                                                                                         \n",
      "on 0:     return_precision = 0.520                                                                                      \n",
      "on 0:     return_f1 = 0.196                                                                                             \n",
      "on 0: -----End with-----                                                                                                \n",
      "                                                                                                                        \r"
     ]
    },
    {
     "name": "stderr",
     "output_type": "stream",
     "text": [
      "on 0: /run/media/dvarkless/LinuxData/Files/Учеба/Data_Science_Course/InnopolisDS/summer-finals/model_bayes.py:37: RuntimeWarning: divide by zero encountered in power\n",
      "        prob_inverse = np.power(prob_in, -1)/10000\n"
     ]
    },
    {
     "name": "stdout",
     "output_type": "stream",
     "text": [
      "on 1: -----With parameters-----                                                                                         \n",
      "on 1: data_converter = <function get_features at 0x7ff9b2de4550>                                                        \n",
      "on 1: ~fit complete in 0.484s                                                                                           \n",
      "on 1: ~eval complete in 2.572s                                                                                          \n",
      "on 1:     return_accuracy = 0.056                                                                                       \n",
      "on 1:     return_recall = 0.099                                                                                         \n",
      "on 1:     return_precision = 0.809                                                                                      \n",
      "on 1:     return_f1 = 0.006                                                                                             \n",
      "on 1: -----End with-----                                                                                                \n",
      "on 2: -----With parameters-----                                                                                         \n",
      "on 2: data_converter = <PCA_transform(24);vector:(784, 24)>                                                             \n",
      "on 2: ~fit complete in 0.023s                                                                                           \n",
      "on 2: ~eval complete in 0.168s                                                                                          \n",
      "on 2:     return_accuracy = 0.039                                                                                       \n",
      "on 2:     return_recall = 0.087                                                                                         \n",
      "on 2:     return_precision = 0.706                                                                                      \n",
      "on 2:     return_f1 = 0.009                                                                                             \n",
      "on 2: -----End with-----                                                                                                \n",
      "                                                                                                                        \r"
     ]
    },
    {
     "name": "stderr",
     "output_type": "stream",
     "text": [
      "on 2: /run/media/dvarkless/LinuxData/Files/Учеба/Data_Science_Course/InnopolisDS/summer-finals/model_base.py:157: RuntimeWarning: invalid value encountered in divide\n",
      "        softvals = (np.exp(mod_array - np.max(x)).T /\n"
     ]
    },
    {
     "name": "stdout",
     "output_type": "stream",
     "text": [
      "on 3: -----With parameters-----                                                                                         \n",
      "on 3: data_converter = <PCA_transform(49);vector:(784, 49)>                                                             \n",
      "on 3: ~fit complete in 0.038s                                                                                           \n",
      "on 3: ~eval complete in 0.175s                                                                                          \n",
      "on 3:     return_accuracy = 0.036                                                                                       \n",
      "on 3:     return_recall = 0.204                                                                                         \n",
      "on 3:     return_precision = 0.373                                                                                      \n",
      "on 3:     return_f1 = 0.012                                                                                             \n",
      "on 3: -----End with-----                                                                                                \n",
      "                                                                                                                        \r"
     ]
    },
    {
     "name": "stderr",
     "output_type": "stream",
     "text": [
      "on 3: /run/media/dvarkless/LinuxData/Files/Учеба/Data_Science_Course/InnopolisDS/summer-finals/model_base.py:157: RuntimeWarning: invalid value encountered in divide\n",
      "        softvals = (np.exp(mod_array - np.max(x)).T /\n"
     ]
    },
    {
     "name": "stdout",
     "output_type": "stream",
     "text": [
      "on 4: -----With parameters-----                                                                                         \n",
      "on 4: data_converter = <PCA_transform(98);vector:(784, 98)>                                                             \n",
      "on 4: ~fit complete in 0.034s                                                                                           \n",
      "on 4: ~eval complete in 0.188s                                                                                          \n",
      "on 4:     return_accuracy = 0.040                                                                                       \n",
      "on 4:     return_recall = 0.170                                                                                         \n",
      "on 4:     return_precision = 0.288                                                                                      \n",
      "on 4:     return_f1 = 0.009                                                                                             \n",
      "on 4: -----End with-----                                                                                                \n",
      "                                                                                                                        \r"
     ]
    },
    {
     "name": "stderr",
     "output_type": "stream",
     "text": [
      "on 4: /run/media/dvarkless/LinuxData/Files/Учеба/Data_Science_Course/InnopolisDS/summer-finals/model_base.py:157: RuntimeWarning: invalid value encountered in divide\n",
      "        softvals = (np.exp(mod_array - np.max(x)).T /\n"
     ]
    },
    {
     "name": "stdout",
     "output_type": "stream",
     "text": [
      "on 5: -----With parameters-----                                                                                         \n",
      "on 5: data_converter = <PCA_transform(196);vector:(784, 196)>                                                           \n",
      "on 5: ~fit complete in 0.045s                                                                                           \n",
      "on 5: ~eval complete in 0.206s                                                                                          \n",
      "on 5:     return_accuracy = 0.053                                                                                       \n",
      "on 5:     return_recall = 0.143                                                                                         \n",
      "on 5:     return_precision = 0.538                                                                                      \n",
      "on 5:     return_f1 = 0.007                                                                                             \n",
      "on 5: -----End with-----                                                                                                \n",
      "                                                                                                                        \r"
     ]
    },
    {
     "name": "stderr",
     "output_type": "stream",
     "text": [
      "on 5: /run/media/dvarkless/LinuxData/Files/Учеба/Data_Science_Course/InnopolisDS/summer-finals/model_base.py:157: RuntimeWarning: invalid value encountered in divide\n",
      "        softvals = (np.exp(mod_array - np.max(x)).T /\n"
     ]
    },
    {
     "name": "stdout",
     "output_type": "stream",
     "text": [
      "on 6: -----With parameters-----                                                                                         \n",
      "on 6: data_converter = <PCA_transform(392);vector:(784, 392)>                                                           \n",
      "on 6: ~fit complete in 0.077s                                                                                           \n",
      "on 6: ~eval complete in 0.322s                                                                                          \n",
      "on 6:     return_accuracy = 0.053                                                                                       \n",
      "on 6:     return_recall = 0.217                                                                                         \n",
      "on 6:     return_precision = 0.633                                                                                      \n",
      "on 6:     return_f1 = 0.005                                                                                             \n",
      "on 6: -----End with-----                                                                                                \n",
      "                                                                                                                        \r"
     ]
    },
    {
     "name": "stderr",
     "output_type": "stream",
     "text": [
      "on 6: /run/media/dvarkless/LinuxData/Files/Учеба/Data_Science_Course/InnopolisDS/summer-finals/model_base.py:157: RuntimeWarning: invalid value encountered in divide\n",
      "        softvals = (np.exp(mod_array - np.max(x)).T /\n"
     ]
    },
    {
     "name": "stdout",
     "output_type": "stream",
     "text": [
      "Проверка модели BayesianClassifier |████████████████████████████████████████| 7/7 [100%] in 4.8s (1.45/s)               \n",
      "===============RESULTS=================\n",
      "On iteration 0:\n",
      "With hyperparameters: [<function get_plain_data at 0x7ff9b2de4820>]\n",
      "Got metrics: [0.2702, 0.3956182433071156, 0.5202723933041188, 0.19553933860467618]\n"
     ]
    }
   ],
   "source": [
    "# Bayes\n",
    "\n",
    "hp = {\n",
    "    'data_converter': get_plain_data,\n",
    "    'num_classes': 26,\n",
    "}\n",
    "\n",
    "\n",
    "BayesRunner = ModelRunner(BayesianClassifier, defaults=hp, metrics=my_metrics)\n",
    "BayesRunner.run(training_data_mid, evaluation_input_mid, evaluation_answers_mid, params_to_change, one_vs_one=True)"
   ]
  },
  {
   "cell_type": "code",
   "execution_count": null,
   "metadata": {},
   "outputs": [
    {
     "name": "stdout",
     "output_type": "stream",
     "text": [
      "on 0: -----With parameters-----                                                                                         \n",
      "on 0: data_converter = <function get_plain_data at 0x7ff9b2de4820>                                                      \n",
      "Проверка модели DecisionTreeClassifier |                                        | ▆█▆ 0/182 [0%] in 2:20 (0.0/s, eta: -)"
     ]
    }
   ],
   "source": [
    "# Decision Tree\n",
    "\n",
    "hp = {\n",
    "        'data_converter': PCA_severe,\n",
    "        'sample_len': 16,\n",
    "        'num_classes': 26,\n",
    "        'window_size': -1,\n",
    "        'min_samples': 4,\n",
    "        'max_depth': 6,\n",
    "        'tree_type': 'multilabel_ovr',\n",
    "}\n",
    "\n",
    "TreeRunner = ModelRunner(DecisionTreeClassifier,\n",
    "                         defaults=hp, metrics=my_metrics, responsive_bar=True)\n",
    "TreeRunner.run(training_data_mid, evaluation_input_mid,\n",
    "               evaluation_answers_mid, params_to_change, one_vs_one=False)"
   ]
  },
  {
   "cell_type": "markdown",
   "metadata": {},
   "source": [
    "# Поиск оптимальных гиперпараметров моделей"
   ]
  },
  {
   "cell_type": "code",
   "execution_count": null,
   "metadata": {
    "jukit_cell_id": "NONE"
   },
   "outputs": [],
   "source": [
    "# Logistic\n",
    "\n",
    "hp = {\n",
    "    'data_converter': PCA_severe,\n",
    "    'normalization': True,\n",
    "    'shift_column': True,\n",
    "    'learning_rate': 0.02,\n",
    "    'batch_size': 500,\n",
    "    'epochs': 300,\n",
    "    'num_classes': 26,\n",
    "    'reg': None,\n",
    "    'reg_w': 0.01,\n",
    "}\n",
    "\n",
    "\n",
    "MultilogRunner = ModelRunner(MultilogRegression, defaults=hp, metrics=my_metrics, responsive_bar=True)\n",
    "params_to_change = {\n",
    "    'learning_rate': [0.05, 0.1, 0.3],\n",
    "    'epochs': [300, 200, 100],\n",
    "}\n",
    "MultilogRunner.run(training_data_lite, evaluation_input_lite, evaluation_answers_lite, \n",
    "                   params_to_change, one_vs_one=True)"
   ]
  },
  {
   "cell_type": "code",
   "execution_count": null,
   "metadata": {
    "scrolled": true
   },
   "outputs": [],
   "source": [
    "params_to_change = {\n",
    "    'reg': [None, 'l1', 'l2'],\n",
    "    'reg_w': [0.01],\n",
    "}\n",
    "MultilogRunner.run(training_data_lite, evaluation_input_lite, evaluation_answers_lite, \n",
    "                   params_to_change, one_vs_one=False)"
   ]
  },
  {
   "cell_type": "code",
   "execution_count": null,
   "metadata": {
    "jukit_cell_id": "NONE"
   },
   "outputs": [],
   "source": [
    "# KNN\n",
    "\n",
    "hp = {\n",
    "    'data_converter': PCA_severe,\n",
    "    'k': 3,\n",
    "}\n",
    "\n",
    "\n",
    "KNNrunner = ModelRunner(KnnModel, defaults=hp, metrics=my_metrics, responsive_bar=True)\n",
    "params_to_change = {\n",
    "    'k': [1,3,5,7,10]\n",
    "}\n",
    "KNNrunner.run(training_data_lite, evaluation_input_lite, evaluation_answers_lite, params_to_change, one_vs_one=True)"
   ]
  },
  {
   "cell_type": "code",
   "execution_count": null,
   "metadata": {
    "jukit_cell_id": "NONE"
   },
   "outputs": [],
   "source": [
    "# Bayes\n",
    "\n",
    "hp = {\n",
    "    'data_converter': threshold_mid,\n",
    "    'num_classes': 26,\n",
    "}\n",
    "\n",
    "\n",
    "BayesRunner = ModelRunner(BayessianClassifier, defaults=hp, metrics=my_metrics)\n",
    "\n",
    "BayesRunner.run(training_data_lite, evaluation_input_lite, evaluation_answers_lite, hp, one_vs_one=True)"
   ]
  },
  {
   "cell_type": "code",
   "execution_count": null,
   "metadata": {
    "jukit_cell_id": "NONE"
   },
   "outputs": [],
   "source": [
    "# SVM\n",
    "\n",
    "hp = {\n",
    "    'data_converter': PCA_severe,\n",
    "    'num_classes': 26,\n",
    "    'epochs': 200,\n",
    "    'batch_size': 500,\n",
    "    'learning_rate': 0.01,\n",
    "    'regularization': 0.01,\n",
    "    'normalization': True,\n",
    "    'shift_column': True,\n",
    "}\n",
    "\n",
    "\n",
    "SVMRunner = ModelRunner(SVM_Model, defaults=hp, metrics=my_metrics, responsive_bar=True)\n",
    "params_to_change = {\n",
    "    'learning_rate': [0.001, 0.01, 0.05],\n",
    "    'epochs': [100, 200, 300],\n",
    "}\n",
    "SVMRunner.run(training_data_lite, evaluation_input_lite, evaluation_answers, \n",
    "              params_to_change, one_vs_one=True)"
   ]
  },
  {
   "cell_type": "code",
   "execution_count": null,
   "metadata": {},
   "outputs": [],
   "source": [
    "# Tree\n",
    "# lite data\n",
    "hp = {\n",
    "        'data_converter': PCA_extreme,\n",
    "        'sample_len': 16,\n",
    "        'num_classes': 26,\n",
    "        'window_size': -1,\n",
    "        'min_samples': 3,\n",
    "        'max_depth': 7,\n",
    "        'tree_type': 'multilabel_ovo',\n",
    "}\n",
    "\n",
    "TreeRunner = ModelRunner(DecisionTreeClassifier,\n",
    "                         defaults=hp, metrics=my_metrics, responsive_bar=True)\n",
    "params_to_change = {\n",
    "    'tree_type': ['multilabel_ovo', 'multilabel_ovr'],\n",
    "}\n",
    "TreeRunner.run(training_data_lite, evaluation_input_lite,\n",
    "               evaluation_answers_lite, params_to_change, one_vs_one=False)"
   ]
  },
  {
   "cell_type": "code",
   "execution_count": null,
   "metadata": {},
   "outputs": [],
   "source": [
    "# Tree\n",
    "# medium sized data\n",
    "hp = {\n",
    "        'data_converter': PCA_extreme,\n",
    "        'sample_len': 16,\n",
    "        'num_classes': 26,\n",
    "        'window_size': -1,\n",
    "        'min_samples': 4,\n",
    "        'max_depth': 7,\n",
    "        'tree_type': 'multilabel_ovo',\n",
    "}\n",
    "\n",
    "TreeRunner = ModelRunner(DecisionTreeClassifier,\n",
    "                         defaults=hp, metrics=my_metrics, responsive_bar=True)\n",
    "params_to_change = {\n",
    "    'tree_type': ['multilabel_ovo', 'multilabel_ovr'],\n",
    "}\n",
    "TreeRunner.run(training_data_mid, evaluation_input_mid,\n",
    "               evaluation_answers_mid, params_to_change, one_vs_one=False)"
   ]
  },
  {
   "cell_type": "code",
   "execution_count": null,
   "metadata": {},
   "outputs": [],
   "source": [
    "# Tree\n",
    "# full sized data\n",
    "hp = {\n",
    "        'data_converter': PCA_extreme,\n",
    "        'sample_len': 16,\n",
    "        'num_classes': 26,\n",
    "        'window_size': -1,\n",
    "        'min_samples': 5,\n",
    "        'max_depth': 7,\n",
    "        'tree_type': 'multilabel_ovo',\n",
    "}\n",
    "\n",
    "TreeRunner = ModelRunner(DecisionTreeClassifier,\n",
    "                         defaults=hp, metrics=my_metrics, responsive_bar=True)\n",
    "params_to_change = {\n",
    "    'tree_type': ['multilabel_ovo', 'multilabel_ovr'],\n",
    "}\n",
    "TreeRunner.run(training_data, evaluation_input,\n",
    "               evaluation_answers, params_to_change, one_vs_one=False)"
   ]
  },
  {
   "cell_type": "code",
   "execution_count": null,
   "metadata": {},
   "outputs": [],
   "source": []
  },
  {
   "cell_type": "code",
   "execution_count": null,
   "metadata": {},
   "outputs": [],
   "source": []
  }
 ],
 "metadata": {
  "anaconda-cloud": {},
  "kernelspec": {
   "display_name": "finals_env",
   "language": "python",
   "name": "finals_env"
  },
  "language_info": {
   "codemirror_mode": {
    "name": "ipython",
    "version": 3
   },
   "file_extension": ".py",
   "mimetype": "text/x-python",
   "name": "python",
   "nbconvert_exporter": "python",
   "pygments_lexer": "ipython3",
   "version": "3.10.5"
  }
 },
 "nbformat": 4,
 "nbformat_minor": 4
}
