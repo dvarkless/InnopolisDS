{
 "cells": [
  {
   "cell_type": "markdown",
   "metadata": {},
   "source": []
  },
  {
   "cell_type": "code",
   "execution_count": 1,
   "metadata": {
    "jukit_cell_id": "NONE"
   },
   "outputs": [],
   "source": [
    "import numpy as np\n",
    "import matplotlib.pyplot as plt\n",
    "%matplotlib inline\n",
    "\n",
    "from model_knn import KnnModel\n",
    "from model_svm import SVM_Model\n",
    "from model_multilog import MultilogRegression\n",
    "from model_bayes import BayesianClassifier\n",
    "from model_decisiontree import DecisionTreeClassifier\n",
    "from metrics import (return_precision, show_metrics_matrix, return_accuracy, return_recall, \n",
    "                     return_f1, return_roc_auc_ovr)\n",
    "from image_feature_detector import PCA_transform, get_features, get_plain_data, threshold_mid, convert_to_emnist\n",
    "from model_runner import ModelRunner"
   ]
  },
  {
   "cell_type": "code",
   "execution_count": 2,
   "metadata": {
    "jukit_cell_id": "NONE"
   },
   "outputs": [],
   "source": [
    "# Data\n",
    "\n",
    "#lite data\n",
    "training_data_lite = np.genfromtxt(\"datasets/light-train.csv\",\n",
    "                            delimiter=\",\", filling_values=0)\n",
    "evaluation_data_lite = np.genfromtxt(\n",
    "    \"datasets/medium-test.csv\", delimiter=\",\", filling_values=0)\n",
    "evaluation_input_lite = evaluation_data_lite[:, 1:]\n",
    "evaluation_answers_lite = evaluation_data_lite[:, 0]\n",
    "\n",
    "datapack_lite = (training_data_lite, evaluation_input_lite, evaluation_answers_lite)\n",
    "\n",
    "#medium size\n",
    "training_data_mid = np.genfromtxt(\"datasets/light-train.csv\",\n",
    "                            delimiter=\",\", filling_values=0)\n",
    "evaluation_data_mid = np.genfromtxt(\n",
    "    \"datasets/medium-test.csv\", delimiter=\",\", filling_values=0)\n",
    "evaluation_input_mid = evaluation_data_mid[:, 1:]\n",
    "evaluation_answers_mid = evaluation_data_mid[:, 0]\n",
    "\n",
    "datapack_mid = (training_data_mid, evaluation_input_mid, evaluation_answers_mid)\n",
    "\n",
    "# full size\n",
    "training_data = np.genfromtxt(\"datasets/emnist-letters-train.csv\",\n",
    "                            delimiter=\",\", filling_values=0)\n",
    "evaluation_data = np.genfromtxt(\n",
    "    \"datasets/emnist-letters-test.csv\", delimiter=\",\", filling_values=0)\n",
    "evaluation_input = evaluation_data[:, 1:]\n",
    "evaluation_answers = evaluation_data[:, 0]\n",
    "\n",
    "datapack_full = (training_data, evaluation_input, evaluation_answers)"
   ]
  },
  {
   "cell_type": "code",
   "execution_count": 3,
   "metadata": {
    "jukit_cell_id": "NONE"
   },
   "outputs": [
    {
     "data": {
      "text/plain": [
       "{'divide': 'warn', 'over': 'warn', 'under': 'ignore', 'invalid': 'warn'}"
      ]
     },
     "execution_count": 3,
     "metadata": {},
     "output_type": "execute_result"
    }
   ],
   "source": [
    "# metrics\n",
    "my_metrics = [return_accuracy, return_recall, return_precision, return_f1]\n",
    "\n",
    "np.seterr(all=\"ignore\")"
   ]
  },
  {
   "cell_type": "markdown",
   "metadata": {},
   "source": [
    "# Сравнение моделей уменьшения размерности данных"
   ]
  },
  {
   "cell_type": "code",
   "execution_count": 4,
   "metadata": {},
   "outputs": [],
   "source": [
    "# get_plain_data --> np.ndarray with shape(784,)\n",
    "\n",
    "# get_features --> np.ndarray with shape(13,)\n",
    "\n",
    "# PCA\n",
    "PCA_extreme = PCA_transform(24).fit(training_data) # x32 - выходной массив имеет в 32 раза меньше размерности\n",
    "\n",
    "PCA_severe = PCA_transform(49).fit(training_data) # x16\n",
    "\n",
    "PCA_rought = PCA_transform(98).fit(training_data) # x8\n",
    "\n",
    "PCA_medium = PCA_transform(196).fit(training_data) # x4\n",
    "\n",
    "PCA_fine = PCA_transform(392).fit(training_data) # x2\n",
    "\n",
    "params_to_change = {\n",
    "    'data_converter': [get_plain_data, get_features, PCA_extreme, PCA_severe, PCA_rought, PCA_medium, PCA_fine],\n",
    "}"
   ]
  },
  {
   "cell_type": "code",
   "execution_count": 5,
   "metadata": {},
   "outputs": [
    {
     "name": "stdout",
     "output_type": "stream",
     "text": [
      "on 0: -----With parameters-----                                                                                         \n",
      "on 0: data_converter = <function get_plain_data at 0x7f6469366820>                                                      \n",
      "on 0: ~fit complete in                                                                                                  \n",
      "on 300: 22.938s                                                                                                         \n",
      "on 300: ~eval complete in                                                                                               \n",
      "Проверка модели MultilogRegression |█████▆⚠︎                                 | (!) 300/2100 [14%] in 23.2s (12.92/s)     \n"
     ]
    },
    {
     "ename": "KeyboardInterrupt",
     "evalue": "",
     "output_type": "error",
     "traceback": [
      "\u001b[0;31m---------------------------------------------------------------------------\u001b[0m",
      "\u001b[0;31mKeyboardInterrupt\u001b[0m                         Traceback (most recent call last)",
      "Input \u001b[0;32mIn [5]\u001b[0m, in \u001b[0;36m<cell line: 19>\u001b[0;34m()\u001b[0m\n\u001b[1;32m     15\u001b[0m params_to_change \u001b[38;5;241m=\u001b[39m {\n\u001b[1;32m     16\u001b[0m     \u001b[38;5;124m'\u001b[39m\u001b[38;5;124mdata_converter\u001b[39m\u001b[38;5;124m'\u001b[39m: [get_plain_data, get_features, PCA_extreme, PCA_severe, PCA_rought, PCA_medium, PCA_fine],\n\u001b[1;32m     17\u001b[0m }\n\u001b[1;32m     18\u001b[0m MultilogRunner \u001b[38;5;241m=\u001b[39m ModelRunner(MultilogRegression, defaults\u001b[38;5;241m=\u001b[39mhp, metrics\u001b[38;5;241m=\u001b[39mmy_metrics, responsive_bar\u001b[38;5;241m=\u001b[39m\u001b[38;5;28;01mTrue\u001b[39;00m)\n\u001b[0;32m---> 19\u001b[0m \u001b[43mMultilogRunner\u001b[49m\u001b[38;5;241;43m.\u001b[39;49m\u001b[43mrun\u001b[49m\u001b[43m(\u001b[49m\u001b[38;5;241;43m*\u001b[39;49m\u001b[43mdatapack_mid\u001b[49m\u001b[43m,\u001b[49m\u001b[43m \u001b[49m\u001b[43mparams_to_change\u001b[49m\u001b[43m,\u001b[49m\u001b[43m \u001b[49m\u001b[43mone_vs_one\u001b[49m\u001b[38;5;241;43m=\u001b[39;49m\u001b[38;5;28;43;01mTrue\u001b[39;49;00m\u001b[43m)\u001b[49m\n",
      "File \u001b[0;32m/run/media/dvarkless/LinuxData/Files/Учеба/Data_Science_Course/InnopolisDS/summer-finals/model_runner.py:116\u001b[0m, in \u001b[0;36mModelRunner.run\u001b[0;34m(self, train, eval_input, eval_ans, params, one_vs_one)\u001b[0m\n\u001b[1;32m    113\u001b[0m     \u001b[38;5;28mprint\u001b[39m(\u001b[38;5;124mf\u001b[39m\u001b[38;5;124m'\u001b[39m\u001b[38;5;132;01m{\u001b[39;00mkey\u001b[38;5;132;01m}\u001b[39;00m\u001b[38;5;124m = \u001b[39m\u001b[38;5;132;01m{\u001b[39;00mval\u001b[38;5;132;01m}\u001b[39;00m\u001b[38;5;124m'\u001b[39m)\n\u001b[1;32m    115\u001b[0m \u001b[38;5;28mself\u001b[39m\u001b[38;5;241m.\u001b[39m_parameters_data\u001b[38;5;241m.\u001b[39mappend(\u001b[38;5;28mlist\u001b[39m(curr_params\u001b[38;5;241m.\u001b[39mvalues()))\n\u001b[0;32m--> 116\u001b[0m \u001b[38;5;28;43mself\u001b[39;49m\u001b[38;5;241;43m.\u001b[39;49m\u001b[43m_run_method\u001b[49m\u001b[43m(\u001b[49m\u001b[43mtrain\u001b[49m\u001b[43m,\u001b[49m\u001b[43m \u001b[49m\u001b[43meval_input\u001b[49m\u001b[43m,\u001b[49m\n\u001b[1;32m    117\u001b[0m \u001b[43m                 \u001b[49m\u001b[43meval_ans\u001b[49m\u001b[43m,\u001b[49m\u001b[43m \u001b[49m\u001b[43mcurr_params\u001b[49m\u001b[43m,\u001b[49m\u001b[43m \u001b[49m\u001b[43mbar\u001b[49m\u001b[43m)\u001b[49m\n\u001b[1;32m    118\u001b[0m \u001b[38;5;28mprint\u001b[39m(\u001b[38;5;124m'\u001b[39m\u001b[38;5;124m-----End with-----\u001b[39m\u001b[38;5;124m'\u001b[39m)\n\u001b[1;32m    119\u001b[0m bar()  \u001b[38;5;66;03m# продвижение полосы прогресса\u001b[39;00m\n",
      "File \u001b[0;32m/run/media/dvarkless/LinuxData/Files/Учеба/Data_Science_Course/InnopolisDS/summer-finals/model_runner.py:177\u001b[0m, in \u001b[0;36mModelRunner._run_method\u001b[0;34m(self, train, eval_input, eval_ans, params, bar_obj)\u001b[0m\n\u001b[1;32m    174\u001b[0m \u001b[38;5;28mself\u001b[39m\u001b[38;5;241m.\u001b[39m_run_train(train)\n\u001b[1;32m    176\u001b[0m \u001b[38;5;28mprint\u001b[39m(\u001b[38;5;124m'\u001b[39m\u001b[38;5;124m~eval complete in \u001b[39m\u001b[38;5;124m'\u001b[39m, end\u001b[38;5;241m=\u001b[39m\u001b[38;5;124m'\u001b[39m\u001b[38;5;124m'\u001b[39m)\n\u001b[0;32m--> 177\u001b[0m answer \u001b[38;5;241m=\u001b[39m \u001b[38;5;28;43mself\u001b[39;49m\u001b[38;5;241;43m.\u001b[39;49m\u001b[43m_run_eval\u001b[49m\u001b[43m(\u001b[49m\u001b[43meval_input\u001b[49m\u001b[43m)\u001b[49m\n\u001b[1;32m    178\u001b[0m \u001b[38;5;28mself\u001b[39m\u001b[38;5;241m.\u001b[39m_comma_metrics(answer, eval_ans)\n\u001b[1;32m    179\u001b[0m \u001b[38;5;28mself\u001b[39m\u001b[38;5;241m.\u001b[39m_models\u001b[38;5;241m.\u001b[39mappend(\u001b[38;5;28mself\u001b[39m\u001b[38;5;241m.\u001b[39mmodel)\n",
      "File \u001b[0;32m/run/media/dvarkless/LinuxData/Files/Учеба/Data_Science_Course/InnopolisDS/summer-finals/model_runner.py:19\u001b[0m, in \u001b[0;36mtimer.<locals>._wrapper\u001b[0;34m(self, *args, **kwargs)\u001b[0m\n\u001b[1;32m     16\u001b[0m \u001b[38;5;129m@functools\u001b[39m\u001b[38;5;241m.\u001b[39mwraps(attr)\n\u001b[1;32m     17\u001b[0m \u001b[38;5;28;01mdef\u001b[39;00m \u001b[38;5;21m_wrapper\u001b[39m(\u001b[38;5;28mself\u001b[39m, \u001b[38;5;241m*\u001b[39margs, \u001b[38;5;241m*\u001b[39m\u001b[38;5;241m*\u001b[39mkwargs):\n\u001b[1;32m     18\u001b[0m     start \u001b[38;5;241m=\u001b[39m time\u001b[38;5;241m.\u001b[39mperf_counter()\n\u001b[0;32m---> 19\u001b[0m     result \u001b[38;5;241m=\u001b[39m \u001b[43mattr\u001b[49m\u001b[43m(\u001b[49m\u001b[38;5;28;43mself\u001b[39;49m\u001b[43m,\u001b[49m\u001b[43m \u001b[49m\u001b[38;5;241;43m*\u001b[39;49m\u001b[43margs\u001b[49m\u001b[43m,\u001b[49m\u001b[43m \u001b[49m\u001b[38;5;241;43m*\u001b[39;49m\u001b[38;5;241;43m*\u001b[39;49m\u001b[43mkwargs\u001b[49m\u001b[43m)\u001b[49m\n\u001b[1;32m     20\u001b[0m     runtime \u001b[38;5;241m=\u001b[39m time\u001b[38;5;241m.\u001b[39mperf_counter() \u001b[38;5;241m-\u001b[39m start\n\u001b[1;32m     21\u001b[0m     \u001b[38;5;28mprint\u001b[39m(\u001b[38;5;124mf\u001b[39m\u001b[38;5;124m'\u001b[39m\u001b[38;5;132;01m{\u001b[39;00mruntime\u001b[38;5;132;01m:\u001b[39;00m\u001b[38;5;124m.3f\u001b[39m\u001b[38;5;132;01m}\u001b[39;00m\u001b[38;5;124ms\u001b[39m\u001b[38;5;124m'\u001b[39m)\n",
      "File \u001b[0;32m/run/media/dvarkless/LinuxData/Files/Учеба/Data_Science_Course/InnopolisDS/summer-finals/model_runner.py:292\u001b[0m, in \u001b[0;36mModelRunner._run_eval\u001b[0;34m(self, eval_input)\u001b[0m\n\u001b[1;32m    279\u001b[0m \u001b[38;5;129m@timer\u001b[39m\n\u001b[1;32m    280\u001b[0m \u001b[38;5;28;01mdef\u001b[39;00m \u001b[38;5;21m_run_eval\u001b[39m(\u001b[38;5;28mself\u001b[39m, eval_input: np\u001b[38;5;241m.\u001b[39mndarray):\n\u001b[1;32m    281\u001b[0m     \u001b[38;5;124;03m\"\"\"\u001b[39;00m\n\u001b[1;32m    282\u001b[0m \u001b[38;5;124;03m        Внутренний метод для получения ответов модели.\u001b[39;00m\n\u001b[1;32m    283\u001b[0m \n\u001b[0;32m   (...)\u001b[0m\n\u001b[1;32m    289\u001b[0m \u001b[38;5;124;03m        this method\u001b[39;00m\n\u001b[1;32m    290\u001b[0m \u001b[38;5;124;03m    \"\"\"\u001b[39;00m\n\u001b[0;32m--> 292\u001b[0m     \u001b[38;5;28;01mreturn\u001b[39;00m \u001b[38;5;28;43mself\u001b[39;49m\u001b[38;5;241;43m.\u001b[39;49m\u001b[43mmodel\u001b[49m\u001b[38;5;241;43m.\u001b[39;49m\u001b[43mpredict\u001b[49m\u001b[43m(\u001b[49m\u001b[43meval_input\u001b[49m\u001b[43m)\u001b[49m\n",
      "File \u001b[0;32m/run/media/dvarkless/LinuxData/Files/Учеба/Data_Science_Course/InnopolisDS/summer-finals/model_multilog.py:158\u001b[0m, in \u001b[0;36mMultilogRegression.predict\u001b[0;34m(self, x)\u001b[0m\n\u001b[1;32m    156\u001b[0m \u001b[38;5;66;03m# Конвертируем значения\u001b[39;00m\n\u001b[1;32m    157\u001b[0m \u001b[38;5;28mself\u001b[39m\u001b[38;5;241m.\u001b[39mdata \u001b[38;5;241m=\u001b[39m x\n\u001b[0;32m--> 158\u001b[0m \u001b[38;5;28;01mreturn\u001b[39;00m \u001b[38;5;28;43mself\u001b[39;49m\u001b[38;5;241;43m.\u001b[39;49m\u001b[43mget_labels\u001b[49m\u001b[43m(\u001b[49m\u001b[38;5;28;43mself\u001b[39;49m\u001b[38;5;241;43m.\u001b[39;49m\u001b[43m_forward\u001b[49m\u001b[43m(\u001b[49m\u001b[38;5;28;43mself\u001b[39;49m\u001b[38;5;241;43m.\u001b[39;49m\u001b[43mdata\u001b[49m\u001b[43m)\u001b[49m\u001b[43m)\u001b[49m\n",
      "File \u001b[0;32m/run/media/dvarkless/LinuxData/Files/Учеба/Data_Science_Course/InnopolisDS/summer-finals/model_base.py:241\u001b[0m, in \u001b[0;36mBaseModel.get_labels\u001b[0;34m(self, ans_arr)\u001b[0m\n\u001b[1;32m    229\u001b[0m \u001b[38;5;28;01mdef\u001b[39;00m \u001b[38;5;21mget_labels\u001b[39m(\u001b[38;5;28mself\u001b[39m, ans_arr):\n\u001b[1;32m    230\u001b[0m     \u001b[38;5;124;03m\"\"\"\u001b[39;00m\n\u001b[1;32m    231\u001b[0m \u001b[38;5;124;03m        Преобразует вероятности в ответы\u001b[39;00m\n\u001b[1;32m    232\u001b[0m \u001b[38;5;124;03m        (отчет идет от 1)\u001b[39;00m\n\u001b[0;32m   (...)\u001b[0m\n\u001b[1;32m    239\u001b[0m \n\u001b[1;32m    240\u001b[0m \u001b[38;5;124;03m    \"\"\"\u001b[39;00m\n\u001b[0;32m--> 241\u001b[0m     \u001b[38;5;28;01mreturn\u001b[39;00m np\u001b[38;5;241m.\u001b[39marray(\u001b[38;5;28;43mlist\u001b[39;49m\u001b[43m(\u001b[49m\u001b[38;5;28;43mmap\u001b[39;49m\u001b[43m(\u001b[49m\u001b[38;5;28;43mself\u001b[39;49m\u001b[38;5;241;43m.\u001b[39;49m\u001b[43m_ans_as_labels\u001b[49m\u001b[43m,\u001b[49m\u001b[43m \u001b[49m\u001b[43mans_arr\u001b[49m\u001b[43m)\u001b[49m\u001b[43m)\u001b[49m)\n",
      "File \u001b[0;32m/run/media/dvarkless/LinuxData/Files/Учеба/Data_Science_Course/InnopolisDS/summer-finals/model_base.py:247\u001b[0m, in \u001b[0;36mBaseModel._ans_as_labels\u001b[0;34m(self, ans)\u001b[0m\n\u001b[1;32m    243\u001b[0m \u001b[38;5;28;01mdef\u001b[39;00m \u001b[38;5;21m_ans_as_labels\u001b[39m(\u001b[38;5;28mself\u001b[39m, ans):\n\u001b[1;32m    244\u001b[0m     \u001b[38;5;124;03m\"\"\"\u001b[39;00m\n\u001b[1;32m    245\u001b[0m \u001b[38;5;124;03m        Конвертирует вероятности в значения\u001b[39;00m\n\u001b[1;32m    246\u001b[0m \u001b[38;5;124;03m    \"\"\"\u001b[39;00m\n\u001b[0;32m--> 247\u001b[0m     \u001b[38;5;28;01mreturn\u001b[39;00m \u001b[43mnp\u001b[49m\u001b[38;5;241;43m.\u001b[39;49m\u001b[43margmax\u001b[49m\u001b[43m(\u001b[49m\u001b[43mans\u001b[49m\u001b[43m)\u001b[49m \u001b[38;5;241m+\u001b[39m \u001b[38;5;241m1\u001b[39m\n",
      "File \u001b[0;32m<__array_function__ internals>:179\u001b[0m, in \u001b[0;36margmax\u001b[0;34m(*args, **kwargs)\u001b[0m\n",
      "File \u001b[0;32m/run/media/dvarkless/LinuxData/Files/Учеба/Data_Science_Course/InnopolisDS/venv/lib/python3.9/site-packages/numpy/core/fromnumeric.py:1124\u001b[0m, in \u001b[0;36m_argmax_dispatcher\u001b[0;34m(a, axis, out, keepdims)\u001b[0m\n\u001b[1;32m   1123\u001b[0m \u001b[38;5;28;01mdef\u001b[39;00m \u001b[38;5;21m_argmax_dispatcher\u001b[39m(a, axis\u001b[38;5;241m=\u001b[39m\u001b[38;5;28;01mNone\u001b[39;00m, out\u001b[38;5;241m=\u001b[39m\u001b[38;5;28;01mNone\u001b[39;00m, \u001b[38;5;241m*\u001b[39m, keepdims\u001b[38;5;241m=\u001b[39mnp\u001b[38;5;241m.\u001b[39m_NoValue):\n\u001b[0;32m-> 1124\u001b[0m     \u001b[38;5;28;01mreturn\u001b[39;00m (a, out)\n",
      "\u001b[0;31mKeyboardInterrupt\u001b[0m: "
     ]
    }
   ],
   "source": [
    "# Logistic\n",
    "\n",
    "hp = {\n",
    "    'data_converter': get_plain_data,\n",
    "    'normalization': True,\n",
    "    'shift_column': True,\n",
    "    'learning_rate': 0.05,\n",
    "    'batch_size': 300,\n",
    "    'epochs': 300,\n",
    "    'num_classes': 26,\n",
    "    'reg': 'l1',\n",
    "    'reg_w': 0.05,\n",
    "}\n",
    "\n",
    "params_to_change = {\n",
    "    'data_converter': [get_plain_data, get_features, PCA_extreme, PCA_severe, PCA_rought, PCA_medium, PCA_fine],\n",
    "}\n",
    "MultilogRunner = ModelRunner(MultilogRegression, defaults=hp, metrics=my_metrics, responsive_bar=True)\n",
    "MultilogRunner.run(*datapack_mid, params_to_change, one_vs_one=True)"
   ]
  },
  {
   "cell_type": "code",
   "execution_count": null,
   "metadata": {
    "scrolled": false
   },
   "outputs": [],
   "source": [
    "# KNN\n",
    "hp = {\n",
    "    'data_converter': get_plain_data,\n",
    "    'k': 1,\n",
    "}\n",
    "\n",
    "params_to_change = {\n",
    "    'data_converter': [get_plain_data, get_features, PCA_extreme, PCA_severe, PCA_rought, PCA_medium, PCA_fine],\n",
    "}\n",
    "KNNrunner = ModelRunner(KnnModel, defaults=hp, metrics=my_metrics, responsive_bar=True)\n",
    "KNNrunner.run(*datapack_mid, params_to_change, one_vs_one=True)"
   ]
  },
  {
   "cell_type": "code",
   "execution_count": null,
   "metadata": {},
   "outputs": [],
   "source": [
    "# SVM\n",
    "hp = {\n",
    "    'data_converter': get_plain_data,\n",
    "    'num_classes': 26,\n",
    "    'epochs': 100,\n",
    "    'batch_size': 1000,\n",
    "    'learning_rate': 0.01,\n",
    "    'regularization': 0.0005,\n",
    "    'normalization': True,\n",
    "    'shift_column': True,\n",
    "}\n",
    "params_to_change = {\n",
    "    'data_converter': [get_plain_data, get_features, PCA_extreme, PCA_severe, PCA_rought, PCA_medium, PCA_fine],\n",
    "}\n",
    "\n",
    "SVMRunner = ModelRunner(SVM_Model, defaults=hp, metrics=my_metrics, responsive_bar=True)\n",
    "SVMRunner.run(*datapack_mid, params_to_change, one_vs_one=True)"
   ]
  },
  {
   "cell_type": "code",
   "execution_count": null,
   "metadata": {
    "scrolled": false
   },
   "outputs": [],
   "source": [
    "# Bayes\n",
    "\n",
    "hp = {\n",
    "    'data_converter': get_plain_data,\n",
    "    'num_classes': 26,\n",
    "}\n",
    "params_to_change = {\n",
    "    'data_converter': [get_plain_data, get_features, PCA_extreme, PCA_severe, PCA_rought, PCA_medium, PCA_fine],\n",
    "}\n",
    "\n",
    "BayesRunner = ModelRunner(BayesianClassifier, defaults=hp, metrics=my_metrics)\n",
    "BayesRunner.run(*datapack_mid, params_to_change, one_vs_one=True)"
   ]
  },
  {
   "cell_type": "code",
   "execution_count": 6,
   "metadata": {
    "scrolled": false
   },
   "outputs": [
    {
     "name": "stdout",
     "output_type": "stream",
     "text": [
      "on 0: -----With parameters-----                                                                                         \n",
      "on 0: data_converter = <function get_plain_data at 0x7f6469366820>                                                      \n",
      "on 0: ~fit complete in                                                                                                  \n",
      "Проверка модели DecisionTreeClassifier |⚠︎                                       | (!) 0/182 [0%] in 1:06:27.3 (0.00/s)  \n"
     ]
    },
    {
     "ename": "KeyboardInterrupt",
     "evalue": "",
     "output_type": "error",
     "traceback": [
      "\u001b[0;31m---------------------------------------------------------------------------\u001b[0m",
      "\u001b[0;31mKeyboardInterrupt\u001b[0m                         Traceback (most recent call last)",
      "Input \u001b[0;32mIn [6]\u001b[0m, in \u001b[0;36m<cell line: 16>\u001b[0;34m()\u001b[0m\n\u001b[1;32m     11\u001b[0m params_to_change \u001b[38;5;241m=\u001b[39m {\n\u001b[1;32m     12\u001b[0m     \u001b[38;5;124m'\u001b[39m\u001b[38;5;124mdata_converter\u001b[39m\u001b[38;5;124m'\u001b[39m: [get_plain_data, get_features, PCA_extreme, PCA_severe, PCA_rought, PCA_medium, PCA_fine],\n\u001b[1;32m     13\u001b[0m }\n\u001b[1;32m     14\u001b[0m TreeRunner \u001b[38;5;241m=\u001b[39m ModelRunner(DecisionTreeClassifier,\n\u001b[1;32m     15\u001b[0m                          defaults\u001b[38;5;241m=\u001b[39mhp, metrics\u001b[38;5;241m=\u001b[39mmy_metrics, responsive_bar\u001b[38;5;241m=\u001b[39m\u001b[38;5;28;01mTrue\u001b[39;00m)\n\u001b[0;32m---> 16\u001b[0m \u001b[43mTreeRunner\u001b[49m\u001b[38;5;241;43m.\u001b[39;49m\u001b[43mrun\u001b[49m\u001b[43m(\u001b[49m\u001b[38;5;241;43m*\u001b[39;49m\u001b[43mdatapack_lite\u001b[49m\u001b[43m,\u001b[49m\u001b[43m \u001b[49m\u001b[43mparams_to_change\u001b[49m\u001b[43m,\u001b[49m\u001b[43m \u001b[49m\u001b[43mone_vs_one\u001b[49m\u001b[38;5;241;43m=\u001b[39;49m\u001b[38;5;28;43;01mFalse\u001b[39;49;00m\u001b[43m)\u001b[49m\n",
      "File \u001b[0;32m/run/media/dvarkless/LinuxData/Files/Учеба/Data_Science_Course/InnopolisDS/summer-finals/model_runner.py:143\u001b[0m, in \u001b[0;36mModelRunner.run\u001b[0;34m(self, train, eval_input, eval_ans, params, one_vs_one)\u001b[0m\n\u001b[1;32m    140\u001b[0m     \u001b[38;5;28mprint\u001b[39m(\u001b[38;5;124mf\u001b[39m\u001b[38;5;124m'\u001b[39m\u001b[38;5;132;01m{\u001b[39;00mkey\u001b[38;5;132;01m}\u001b[39;00m\u001b[38;5;124m = \u001b[39m\u001b[38;5;132;01m{\u001b[39;00mval\u001b[38;5;132;01m}\u001b[39;00m\u001b[38;5;124m'\u001b[39m)\n\u001b[1;32m    142\u001b[0m \u001b[38;5;28mself\u001b[39m\u001b[38;5;241m.\u001b[39m_parameters_data\u001b[38;5;241m.\u001b[39mappend(\u001b[38;5;28mlist\u001b[39m(curr_params\u001b[38;5;241m.\u001b[39mvalues()))\n\u001b[0;32m--> 143\u001b[0m \u001b[38;5;28;43mself\u001b[39;49m\u001b[38;5;241;43m.\u001b[39;49m\u001b[43m_run_method\u001b[49m\u001b[43m(\u001b[49m\u001b[43mtrain\u001b[49m\u001b[43m,\u001b[49m\u001b[43m \u001b[49m\u001b[43meval_input\u001b[49m\u001b[43m,\u001b[49m\n\u001b[1;32m    144\u001b[0m \u001b[43m                 \u001b[49m\u001b[43meval_ans\u001b[49m\u001b[43m,\u001b[49m\u001b[43m \u001b[49m\u001b[43mcurr_params\u001b[49m\u001b[43m,\u001b[49m\u001b[43m \u001b[49m\u001b[43mbar\u001b[49m\u001b[43m)\u001b[49m\n\u001b[1;32m    145\u001b[0m \u001b[38;5;28mprint\u001b[39m(\u001b[38;5;124m'\u001b[39m\u001b[38;5;124m-----End with-----\u001b[39m\u001b[38;5;124m'\u001b[39m)\n\u001b[1;32m    146\u001b[0m bar()  \u001b[38;5;66;03m# продвижение полосы прогресса\u001b[39;00m\n",
      "File \u001b[0;32m/run/media/dvarkless/LinuxData/Files/Учеба/Data_Science_Course/InnopolisDS/summer-finals/model_runner.py:174\u001b[0m, in \u001b[0;36mModelRunner._run_method\u001b[0;34m(self, train, eval_input, eval_ans, params, bar_obj)\u001b[0m\n\u001b[1;32m    171\u001b[0m     \u001b[38;5;28mself\u001b[39m\u001b[38;5;241m.\u001b[39mmodel\u001b[38;5;241m.\u001b[39mdefine_tick(bar_obj, \u001b[38;5;28mlen\u001b[39m(eval_ans))\n\u001b[1;32m    173\u001b[0m \u001b[38;5;28mprint\u001b[39m(\u001b[38;5;124m'\u001b[39m\u001b[38;5;124m~fit complete in \u001b[39m\u001b[38;5;124m'\u001b[39m, end\u001b[38;5;241m=\u001b[39m\u001b[38;5;124m'\u001b[39m\u001b[38;5;124m'\u001b[39m)\n\u001b[0;32m--> 174\u001b[0m \u001b[38;5;28;43mself\u001b[39;49m\u001b[38;5;241;43m.\u001b[39;49m\u001b[43m_run_train\u001b[49m\u001b[43m(\u001b[49m\u001b[43mtrain\u001b[49m\u001b[43m)\u001b[49m\n\u001b[1;32m    176\u001b[0m \u001b[38;5;28mprint\u001b[39m(\u001b[38;5;124m'\u001b[39m\u001b[38;5;124m~eval complete in \u001b[39m\u001b[38;5;124m'\u001b[39m, end\u001b[38;5;241m=\u001b[39m\u001b[38;5;124m'\u001b[39m\u001b[38;5;124m'\u001b[39m)\n\u001b[1;32m    177\u001b[0m answer \u001b[38;5;241m=\u001b[39m \u001b[38;5;28mself\u001b[39m\u001b[38;5;241m.\u001b[39m_run_eval(eval_input)\n",
      "File \u001b[0;32m/run/media/dvarkless/LinuxData/Files/Учеба/Data_Science_Course/InnopolisDS/summer-finals/model_runner.py:19\u001b[0m, in \u001b[0;36mtimer.<locals>._wrapper\u001b[0;34m(self, *args, **kwargs)\u001b[0m\n\u001b[1;32m     16\u001b[0m \u001b[38;5;129m@functools\u001b[39m\u001b[38;5;241m.\u001b[39mwraps(attr)\n\u001b[1;32m     17\u001b[0m \u001b[38;5;28;01mdef\u001b[39;00m \u001b[38;5;21m_wrapper\u001b[39m(\u001b[38;5;28mself\u001b[39m, \u001b[38;5;241m*\u001b[39margs, \u001b[38;5;241m*\u001b[39m\u001b[38;5;241m*\u001b[39mkwargs):\n\u001b[1;32m     18\u001b[0m     start \u001b[38;5;241m=\u001b[39m time\u001b[38;5;241m.\u001b[39mperf_counter()\n\u001b[0;32m---> 19\u001b[0m     result \u001b[38;5;241m=\u001b[39m \u001b[43mattr\u001b[49m\u001b[43m(\u001b[49m\u001b[38;5;28;43mself\u001b[39;49m\u001b[43m,\u001b[49m\u001b[43m \u001b[49m\u001b[38;5;241;43m*\u001b[39;49m\u001b[43margs\u001b[49m\u001b[43m,\u001b[49m\u001b[43m \u001b[49m\u001b[38;5;241;43m*\u001b[39;49m\u001b[38;5;241;43m*\u001b[39;49m\u001b[43mkwargs\u001b[49m\u001b[43m)\u001b[49m\n\u001b[1;32m     20\u001b[0m     runtime \u001b[38;5;241m=\u001b[39m time\u001b[38;5;241m.\u001b[39mperf_counter() \u001b[38;5;241m-\u001b[39m start\n\u001b[1;32m     21\u001b[0m     \u001b[38;5;28mprint\u001b[39m(\u001b[38;5;124mf\u001b[39m\u001b[38;5;124m'\u001b[39m\u001b[38;5;132;01m{\u001b[39;00mruntime\u001b[38;5;132;01m:\u001b[39;00m\u001b[38;5;124m.3f\u001b[39m\u001b[38;5;132;01m}\u001b[39;00m\u001b[38;5;124ms\u001b[39m\u001b[38;5;124m'\u001b[39m)\n",
      "File \u001b[0;32m/run/media/dvarkless/LinuxData/Files/Учеба/Data_Science_Course/InnopolisDS/summer-finals/model_runner.py:277\u001b[0m, in \u001b[0;36mModelRunner._run_train\u001b[0;34m(self, train)\u001b[0m\n\u001b[1;32m    266\u001b[0m \u001b[38;5;129m@timer\u001b[39m\n\u001b[1;32m    267\u001b[0m \u001b[38;5;28;01mdef\u001b[39;00m \u001b[38;5;21m_run_train\u001b[39m(\u001b[38;5;28mself\u001b[39m, train: np\u001b[38;5;241m.\u001b[39mndarray):\n\u001b[1;32m    268\u001b[0m     \u001b[38;5;124;03m\"\"\"\u001b[39;00m\n\u001b[1;32m    269\u001b[0m \u001b[38;5;124;03m        Внутренний метод для запуска процесса \u001b[39;00m\n\u001b[1;32m    270\u001b[0m \u001b[38;5;124;03m        тренировки модели.\u001b[39;00m\n\u001b[0;32m   (...)\u001b[0m\n\u001b[1;32m    275\u001b[0m \u001b[38;5;124;03m        this method\u001b[39;00m\n\u001b[1;32m    276\u001b[0m \u001b[38;5;124;03m    \"\"\"\u001b[39;00m\n\u001b[0;32m--> 277\u001b[0m     \u001b[38;5;28;43mself\u001b[39;49m\u001b[38;5;241;43m.\u001b[39;49m\u001b[43mmodel\u001b[49m\u001b[38;5;241;43m.\u001b[39;49m\u001b[43mfit\u001b[49m\u001b[43m(\u001b[49m\u001b[43mtrain\u001b[49m\u001b[43m)\u001b[49m\n",
      "File \u001b[0;32m/run/media/dvarkless/LinuxData/Files/Учеба/Data_Science_Course/InnopolisDS/summer-finals/model_decisiontree.py:195\u001b[0m, in \u001b[0;36mDecisionTreeClassifier.fit\u001b[0;34m(self, dataset)\u001b[0m\n\u001b[1;32m    193\u001b[0m \u001b[38;5;28mdelattr\u001b[39m(\u001b[38;5;28mself\u001b[39m, \u001b[38;5;124m'\u001b[39m\u001b[38;5;124m_tick\u001b[39m\u001b[38;5;124m'\u001b[39m)\n\u001b[1;32m    194\u001b[0m \u001b[38;5;28;01mwith\u001b[39;00m parallel\u001b[38;5;241m.\u001b[39mProcessPoolExecutor() \u001b[38;5;28;01mas\u001b[39;00m executor:\n\u001b[0;32m--> 195\u001b[0m     results \u001b[38;5;241m=\u001b[39m executor\u001b[38;5;241m.\u001b[39mmap(\n\u001b[1;32m    196\u001b[0m         \u001b[38;5;28mself\u001b[39m\u001b[38;5;241m.\u001b[39mgrow_branch, \u001b[38;5;28mrange\u001b[39m(\u001b[38;5;28mself\u001b[39m\u001b[38;5;241m.\u001b[39my\u001b[38;5;241m.\u001b[39mshape[\u001b[38;5;241m1\u001b[39m]), timeout\u001b[38;5;241m=\u001b[39m\u001b[38;5;241m60\u001b[39m)\n\u001b[1;32m    198\u001b[0m \u001b[38;5;28mself\u001b[39m\u001b[38;5;241m.\u001b[39mtree_root \u001b[38;5;241m=\u001b[39m \u001b[38;5;28mlist\u001b[39m(results)\n",
      "File \u001b[0;32m~/.pyenv/versions/3.9.10/lib/python3.9/concurrent/futures/_base.py:637\u001b[0m, in \u001b[0;36mExecutor.__exit__\u001b[0;34m(self, exc_type, exc_val, exc_tb)\u001b[0m\n\u001b[1;32m    636\u001b[0m \u001b[38;5;28;01mdef\u001b[39;00m \u001b[38;5;21m__exit__\u001b[39m(\u001b[38;5;28mself\u001b[39m, exc_type, exc_val, exc_tb):\n\u001b[0;32m--> 637\u001b[0m     \u001b[38;5;28;43mself\u001b[39;49m\u001b[38;5;241;43m.\u001b[39;49m\u001b[43mshutdown\u001b[49m\u001b[43m(\u001b[49m\u001b[43mwait\u001b[49m\u001b[38;5;241;43m=\u001b[39;49m\u001b[38;5;28;43;01mTrue\u001b[39;49;00m\u001b[43m)\u001b[49m\n\u001b[1;32m    638\u001b[0m     \u001b[38;5;28;01mreturn\u001b[39;00m \u001b[38;5;28;01mFalse\u001b[39;00m\n",
      "File \u001b[0;32m~/.pyenv/versions/3.9.10/lib/python3.9/concurrent/futures/process.py:740\u001b[0m, in \u001b[0;36mProcessPoolExecutor.shutdown\u001b[0;34m(self, wait, cancel_futures)\u001b[0m\n\u001b[1;32m    737\u001b[0m         \u001b[38;5;28mself\u001b[39m\u001b[38;5;241m.\u001b[39m_executor_manager_thread_wakeup\u001b[38;5;241m.\u001b[39mwakeup()\n\u001b[1;32m    739\u001b[0m \u001b[38;5;28;01mif\u001b[39;00m \u001b[38;5;28mself\u001b[39m\u001b[38;5;241m.\u001b[39m_executor_manager_thread \u001b[38;5;129;01mis\u001b[39;00m \u001b[38;5;129;01mnot\u001b[39;00m \u001b[38;5;28;01mNone\u001b[39;00m \u001b[38;5;129;01mand\u001b[39;00m wait:\n\u001b[0;32m--> 740\u001b[0m     \u001b[38;5;28;43mself\u001b[39;49m\u001b[38;5;241;43m.\u001b[39;49m\u001b[43m_executor_manager_thread\u001b[49m\u001b[38;5;241;43m.\u001b[39;49m\u001b[43mjoin\u001b[49m\u001b[43m(\u001b[49m\u001b[43m)\u001b[49m\n\u001b[1;32m    741\u001b[0m \u001b[38;5;66;03m# To reduce the risk of opening too many files, remove references to\u001b[39;00m\n\u001b[1;32m    742\u001b[0m \u001b[38;5;66;03m# objects that use file descriptors.\u001b[39;00m\n\u001b[1;32m    743\u001b[0m \u001b[38;5;28mself\u001b[39m\u001b[38;5;241m.\u001b[39m_executor_manager_thread \u001b[38;5;241m=\u001b[39m \u001b[38;5;28;01mNone\u001b[39;00m\n",
      "File \u001b[0;32m~/.pyenv/versions/3.9.10/lib/python3.9/threading.py:1053\u001b[0m, in \u001b[0;36mThread.join\u001b[0;34m(self, timeout)\u001b[0m\n\u001b[1;32m   1050\u001b[0m     \u001b[38;5;28;01mraise\u001b[39;00m \u001b[38;5;167;01mRuntimeError\u001b[39;00m(\u001b[38;5;124m\"\u001b[39m\u001b[38;5;124mcannot join current thread\u001b[39m\u001b[38;5;124m\"\u001b[39m)\n\u001b[1;32m   1052\u001b[0m \u001b[38;5;28;01mif\u001b[39;00m timeout \u001b[38;5;129;01mis\u001b[39;00m \u001b[38;5;28;01mNone\u001b[39;00m:\n\u001b[0;32m-> 1053\u001b[0m     \u001b[38;5;28;43mself\u001b[39;49m\u001b[38;5;241;43m.\u001b[39;49m\u001b[43m_wait_for_tstate_lock\u001b[49m\u001b[43m(\u001b[49m\u001b[43m)\u001b[49m\n\u001b[1;32m   1054\u001b[0m \u001b[38;5;28;01melse\u001b[39;00m:\n\u001b[1;32m   1055\u001b[0m     \u001b[38;5;66;03m# the behavior of a negative timeout isn't documented, but\u001b[39;00m\n\u001b[1;32m   1056\u001b[0m     \u001b[38;5;66;03m# historically .join(timeout=x) for x<0 has acted as if timeout=0\u001b[39;00m\n\u001b[1;32m   1057\u001b[0m     \u001b[38;5;28mself\u001b[39m\u001b[38;5;241m.\u001b[39m_wait_for_tstate_lock(timeout\u001b[38;5;241m=\u001b[39m\u001b[38;5;28mmax\u001b[39m(timeout, \u001b[38;5;241m0\u001b[39m))\n",
      "File \u001b[0;32m~/.pyenv/versions/3.9.10/lib/python3.9/threading.py:1073\u001b[0m, in \u001b[0;36mThread._wait_for_tstate_lock\u001b[0;34m(self, block, timeout)\u001b[0m\n\u001b[1;32m   1070\u001b[0m     \u001b[38;5;28;01mreturn\u001b[39;00m\n\u001b[1;32m   1072\u001b[0m \u001b[38;5;28;01mtry\u001b[39;00m:\n\u001b[0;32m-> 1073\u001b[0m     \u001b[38;5;28;01mif\u001b[39;00m \u001b[43mlock\u001b[49m\u001b[38;5;241;43m.\u001b[39;49m\u001b[43macquire\u001b[49m\u001b[43m(\u001b[49m\u001b[43mblock\u001b[49m\u001b[43m,\u001b[49m\u001b[43m \u001b[49m\u001b[43mtimeout\u001b[49m\u001b[43m)\u001b[49m:\n\u001b[1;32m   1074\u001b[0m         lock\u001b[38;5;241m.\u001b[39mrelease()\n\u001b[1;32m   1075\u001b[0m         \u001b[38;5;28mself\u001b[39m\u001b[38;5;241m.\u001b[39m_stop()\n",
      "\u001b[0;31mKeyboardInterrupt\u001b[0m: "
     ]
    }
   ],
   "source": [
    "# Decision Tree\n",
    "\n",
    "hp = {\n",
    "        'data_converter': PCA_severe,\n",
    "        'sample_len': 64,\n",
    "        'num_classes': 26,\n",
    "        'min_samples': 8,\n",
    "        'max_depth': 5,\n",
    "        'tree_type': 'multilabel_ovr',\n",
    "}\n",
    "params_to_change = {\n",
    "    'data_converter': [get_plain_data, get_features, PCA_extreme, PCA_severe, PCA_rought, PCA_medium, PCA_fine],\n",
    "}\n",
    "TreeRunner = ModelRunner(DecisionTreeClassifier,\n",
    "                         defaults=hp, metrics=my_metrics, responsive_bar=False)\n",
    "TreeRunner.run(*datapack_lite, params_to_change, one_vs_one=False)"
   ]
  },
  {
   "cell_type": "markdown",
   "metadata": {},
   "source": [
    "# Поиск оптимальных гиперпараметров моделей"
   ]
  },
  {
   "cell_type": "code",
   "execution_count": null,
   "metadata": {
    "jukit_cell_id": "NONE",
    "scrolled": false
   },
   "outputs": [],
   "source": [
    "# Logistic\n",
    "\n",
    "hp = {\n",
    "    'data_converter': PCA_severe,\n",
    "    'normalization': True,\n",
    "    'shift_column': True,\n",
    "    'learning_rate': 1,\n",
    "    'batch_size': 15,\n",
    "    'epochs': 400,\n",
    "    'num_classes': 26,\n",
    "    'reg': None,\n",
    "    'reg_w': 0.01,\n",
    "}\n",
    "\n",
    "\n",
    "MultilogRunner = ModelRunner(MultilogRegression, defaults=hp, metrics=my_metrics, responsive_bar=True)\n",
    "params_to_change = {\n",
    "    'learning_rate': [1.5, 0.3, 0.8, 0.1],\n",
    "    'epochs': [400, 250, 150],\n",
    "}\n",
    "MultilogRunner.run(*datapack_lite, params_to_change, one_vs_one=True)"
   ]
  },
  {
   "cell_type": "code",
   "execution_count": null,
   "metadata": {
    "scrolled": true
   },
   "outputs": [],
   "source": [
    "params_to_change = {\n",
    "    'reg': [None, 'l1', 'l2'],\n",
    "    'reg_w': [0.02],\n",
    "}\n",
    "MultilogRunner.run(*datapack_lite, params_to_change, one_vs_one=False)"
   ]
  },
  {
   "cell_type": "code",
   "execution_count": null,
   "metadata": {
    "jukit_cell_id": "NONE"
   },
   "outputs": [],
   "source": [
    "# KNN\n",
    "\n",
    "hp = {\n",
    "    'data_converter': PCA_severe,\n",
    "    'k': 3,\n",
    "}\n",
    "\n",
    "\n",
    "KNNrunner = ModelRunner(KnnModel, defaults=hp, metrics=my_metrics, responsive_bar=True)\n",
    "params_to_change = {\n",
    "    'k': [1,3,5,7,10]\n",
    "}\n",
    "KNNrunner.run(*datapack_lite, params_to_change, one_vs_one=True)"
   ]
  },
  {
   "cell_type": "code",
   "execution_count": null,
   "metadata": {
    "jukit_cell_id": "NONE"
   },
   "outputs": [],
   "source": [
    "# Bayes\n",
    "\n",
    "hp = {\n",
    "    'data_converter': threshold_mid,\n",
    "    'num_classes': 26,\n",
    "}\n",
    "\n",
    "\n",
    "BayesRunner = ModelRunner(BayesianClassifier, defaults=hp, metrics=my_metrics)\n",
    "params_to_change = {\n",
    "    'data_converter': [get_plain_data, threshold_mid],\n",
    "}\n",
    "BayesRunner.run(*datapack_mid, params_to_change, one_vs_one=False)"
   ]
  },
  {
   "cell_type": "code",
   "execution_count": null,
   "metadata": {
    "jukit_cell_id": "NONE",
    "scrolled": false
   },
   "outputs": [],
   "source": [
    "# SVM\n",
    "\n",
    "hp = {\n",
    "    'data_converter': PCA_extreme,\n",
    "    'num_classes': 26,\n",
    "    'epochs': 200,\n",
    "    'batch_size': 100,\n",
    "    'learning_rate': 0.01,\n",
    "    'regularization': 0.0005,\n",
    "    'normalization': True,\n",
    "    'shift_column': True,\n",
    "}\n",
    "\n",
    "\n",
    "SVMRunner = ModelRunner(SVM_Model, defaults=hp, metrics=my_metrics, responsive_bar=True)\n",
    "params_to_change = {\n",
    "    'learning_rate': [0.001, 0.01, 0.1],\n",
    "    'epochs': [50, 150, 450],\n",
    "}\n",
    "SVMRunner.run(*datapack_mid, params_to_change, one_vs_one=True)"
   ]
  },
  {
   "cell_type": "code",
   "execution_count": null,
   "metadata": {},
   "outputs": [
    {
     "name": "stdout",
     "output_type": "stream",
     "text": [
      "on 0: -----With parameters-----                                                                                         \n",
      "on 0: tree_type = multilabel_ovr                                                                                        \n",
      "on 0: sample_len = 8                                                                                                    \n",
      "on 0: ~fit complete in                                                                                                  \n",
      "                                                                                                                        \r"
     ]
    },
    {
     "name": "stderr",
     "output_type": "stream",
     "text": [
      "on 0: /run/media/dvarkless/LinuxData/Files/Учеба/Data_Science_Course/InnopolisDS/summer-finals/model_decisiontree.py:64: RuntimeWarning: Mean of empty slice.\n",
      "        self.right_mean = data[is_true][:, -1].mean()\n",
      "/run/media/dvarkless/LinuxData/Files/Учеба/Data_Science_Course/InnopolisDS/summer-finals/model_decisiontree.py:67: RuntimeWarning: Mean of empty slice.\n",
      "        self.left_mean = data[is_false][:, -1].mean()\n",
      "on 0: /run/media/dvarkless/LinuxData/Files/Учеба/Data_Science_Course/InnopolisDS/summer-finals/model_decisiontree.py:64: RuntimeWarning: Mean of empty slice.\n",
      "        self.right_mean = data[is_true][:, -1].mean()\n",
      "/run/media/dvarkless/LinuxData/Files/Учеба/Data_Science_Course/InnopolisDS/summer-finals/model_decisiontree.py:67: RuntimeWarning: Mean of empty slice.\n",
      "        self.left_mean = data[is_false][:, -1].mean()\n"
     ]
    },
    {
     "name": "stdout",
     "output_type": "stream",
     "text": [
      "\r",
      "                                                                                                                        \r"
     ]
    },
    {
     "name": "stderr",
     "output_type": "stream",
     "text": [
      "on 0: /run/media/dvarkless/LinuxData/Files/Учеба/Data_Science_Course/InnopolisDS/summer-finals/model_decisiontree.py:64: RuntimeWarning: Mean of empty slice.\n",
      "        self.right_mean = data[is_true][:, -1].mean()\n",
      "/run/media/dvarkless/LinuxData/Files/Учеба/Data_Science_Course/InnopolisDS/summer-finals/model_decisiontree.py:67: RuntimeWarning: Mean of empty slice.\n",
      "        self.left_mean = data[is_false][:, -1].mean()\n",
      "on 0: /run/media/dvarkless/LinuxData/Files/Учеба/Data_Science_Course/InnopolisDS/summer-finals/model_decisiontree.py:64: RuntimeWarning: Mean of empty slice.\n",
      "        self.right_mean = data[is_true][:, -1].mean()\n",
      "/run/media/dvarkless/LinuxData/Files/Учеба/Data_Science_Course/InnopolisDS/summer-finals/model_decisiontree.py:67: RuntimeWarning: Mean of empty slice.\n",
      "        self.left_mean = data[is_false][:, -1].mean()\n",
      "on 0: /run/media/dvarkless/LinuxData/Files/Учеба/Data_Science_Course/InnopolisDS/summer-finals/model_decisiontree.py:64: RuntimeWarning: Mean of empty slice.\n",
      "        self.right_mean = data[is_true][:, -1].mean()\n",
      "/run/media/dvarkless/LinuxData/Files/Учеба/Data_Science_Course/InnopolisDS/summer-finals/model_decisiontree.py:67: RuntimeWarning: Mean of empty slice.\n",
      "        self.left_mean = data[is_false][:, -1].mean()\n"
     ]
    },
    {
     "name": "stdout",
     "output_type": "stream",
     "text": [
      "Проверка модели DecisionTreeClassifier |                                        | ▄▆█ 0/104 [0%] in 25:33 (0.0/s, eta: -"
     ]
    },
    {
     "name": "stderr",
     "output_type": "stream",
     "text": [
      "on 0: /run/media/dvarkless/LinuxData/Files/Учеба/Data_Science_Course/InnopolisDS/summer-finals/model_decisiontree.py:64: RuntimeWarning: Mean of empty slice.\n",
      "        self.right_mean = data[is_true][:, -1].mean()\n",
      "/run/media/dvarkless/LinuxData/Files/Учеба/Data_Science_Course/InnopolisDS/summer-finals/model_decisiontree.py:67: RuntimeWarning: Mean of empty slice.\n",
      "        self.left_mean = data[is_false][:, -1].mean()\n"
     ]
    },
    {
     "name": "stdout",
     "output_type": "stream",
     "text": [
      "Проверка модели DecisionTreeClassifier |                                        | ▇▅▃ 0/104 [0%] in 47:13 (0.0/s, eta: -"
     ]
    }
   ],
   "source": [
    "# Tree\n",
    "# lite data\n",
    "hp = {\n",
    "        'data_converter': PCA_extreme,\n",
    "        'sample_len': 32,\n",
    "        'num_classes': 26,\n",
    "        'window_size': -1,\n",
    "        'min_samples': 5,\n",
    "        'max_depth': 12,\n",
    "        'tree_type': 'multilabel_ovr',\n",
    "}\n",
    "\n",
    "TreeRunner = ModelRunner(DecisionTreeClassifier,\n",
    "                         defaults=hp, metrics=my_metrics, responsive_bar=True)\n",
    "params_to_change = {\n",
    "    'tree_type': ['multilabel_ovr', 'multilabel_ovo'],\n",
    "    'sample_len':[8, 64],\n",
    "}\n",
    "TreeRunner.run(*datapack_full, params_to_change, one_vs_one=True)"
   ]
  },
  {
   "cell_type": "markdown",
   "metadata": {},
   "source": [
    "# Проверка моделей с оптимальными параметрами на полном наборе данных"
   ]
  },
  {
   "cell_type": "code",
   "execution_count": null,
   "metadata": {},
   "outputs": [],
   "source": [
    "assert(False)"
   ]
  },
  {
   "cell_type": "markdown",
   "metadata": {},
   "source": [
    "# Получение предсказаний из набора данных промежуточной аттестации"
   ]
  },
  {
   "cell_type": "code",
   "execution_count": null,
   "metadata": {},
   "outputs": [],
   "source": [
    "# KNN\n",
    "\n",
    "hp = {\n",
    "    'data_converter': PCA_severe,\n",
    "    'k': 1,\n",
    "}\n",
    "PCA_more_severe = PCA_transform(36).fit(training_data)\n",
    "\n",
    "KNNrunner = ModelRunner(KnnModel, defaults=hp, metrics=my_metrics, responsive_bar=True)\n",
    "params_to_change = {\n",
    "    'data_converter': [PCA_extreme, PCA_more_severe, PCA_severe],\n",
    "}\n",
    "KNNrunner.run(*datapack_full, params_to_change, one_vs_one=True)\n",
    "best_models = KNNrunner.get_models()"
   ]
  },
  {
   "cell_type": "code",
   "execution_count": null,
   "metadata": {},
   "outputs": [],
   "source": [
    "evaluation_input = np.genfromtxt(\n",
    "    \"datasets/emnist-letters-test-data.csv\", delimiter=\",\", filling_values=0)\n",
    "\n",
    "evaluation_labels = evaluation_input[1:, 0]\n",
    "evaluation_input = evaluation_input[1:, 1:]\n",
    "evaluation_input = np.array(list(map(convert_to_emnist, evaluation_input)))\n",
    "\n",
    "evaluation_answers = evaluation_labels//800 + 1\n",
    "accuracy_list = []\n",
    "preds_list = []\n",
    "for model in best_models:\n",
    "    preds = model.predict(evaluation_input)\n",
    "    preds_list.append(preds)\n",
    "    accuracy_list.append(return_accuracy(preds, evaluation_answers))\n",
    "    \n",
    "max_ind = accuracy_list.index(max(accuracy_list))\n",
    "preds = preds[max_ind]\n",
    "\n",
    "print(f'Лучшая модель это: {best_models[max_ind]}')\n",
    "print(f'С точностью: {accuracy_list[max_ind]:.3f}')"
   ]
  },
  {
   "cell_type": "code",
   "execution_count": null,
   "metadata": {},
   "outputs": [],
   "source": [
    "print(max_ind)"
   ]
  },
  {
   "cell_type": "code",
   "execution_count": null,
   "metadata": {},
   "outputs": [],
   "source": [
    "import csv\n",
    "\n",
    "header = ['id', 'class']\n",
    "pos = np.arange(20800)[:, np.newaxis].astype(np.uint32)\n",
    "data = np.hstack((pos, preds[:, np.newaxis])).astype(np.uint32)\n",
    "\n",
    "with open('Suleimanov_KNN_predictions.csv','w', newline=\"\") as file:\n",
    "    writer = csv.writer(\n",
    "    file, delimiter=\",\", quotechar=\"|\", quoting=csv.QUOTE_MINIMAL)\n",
    "    writer.writerow(header)\n",
    "    writer.writerows(data)"
   ]
  },
  {
   "cell_type": "code",
   "execution_count": null,
   "metadata": {},
   "outputs": [],
   "source": []
  }
 ],
 "metadata": {
  "anaconda-cloud": {},
  "kernelspec": {
   "display_name": "innopolis_ds_venv",
   "language": "python",
   "name": "innopolis_ds_venv"
  },
  "language_info": {
   "codemirror_mode": {
    "name": "ipython",
    "version": 3
   },
   "file_extension": ".py",
   "mimetype": "text/x-python",
   "name": "python",
   "nbconvert_exporter": "python",
   "pygments_lexer": "ipython3",
   "version": "3.9.10"
  }
 },
 "nbformat": 4,
 "nbformat_minor": 4
}
