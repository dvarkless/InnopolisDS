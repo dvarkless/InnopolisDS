{
 "cells": [
  {
   "cell_type": "markdown",
   "metadata": {},
   "source": []
  },
  {
   "cell_type": "code",
   "execution_count": 1,
   "metadata": {
    "jukit_cell_id": "NONE"
   },
   "outputs": [],
   "source": [
    "import numpy as np\n",
    "import matplotlib.pyplot as plt\n",
    "%matplotlib inline\n",
    "\n",
    "from model_knn import KnnModel\n",
    "from model_svm import SVM_Model\n",
    "from model_multilog import MultilogRegression\n",
    "from model_bayes import BayesianClassifier\n",
    "from model_decisiontree import DecisionTreeClassifier\n",
    "from metrics import (return_precision, show_metrics_matrix, return_accuracy, return_recall, \n",
    "                     return_f1, return_roc_auc_ovr)\n",
    "from image_feature_detector import PCA_transform, get_features, get_plain_data, threshold_mid, convert_to_emnist\n",
    "from model_runner import ModelRunner"
   ]
  },
  {
   "cell_type": "code",
   "execution_count": 2,
   "metadata": {
    "jukit_cell_id": "NONE"
   },
   "outputs": [],
   "source": [
    "# Data\n",
    "\n",
    "#lite data\n",
    "training_data_lite = np.genfromtxt(\"datasets/light-train.csv\",\n",
    "                            delimiter=\",\", filling_values=0)\n",
    "evaluation_data_lite = np.genfromtxt(\n",
    "    \"datasets/medium-test.csv\", delimiter=\",\", filling_values=0)\n",
    "evaluation_input_lite = evaluation_data_lite[:, 1:]\n",
    "evaluation_answers_lite = evaluation_data_lite[:, 0]\n",
    "\n",
    "datapack_lite = (training_data_lite, evaluation_input_lite, evaluation_answers_lite)\n",
    "\n",
    "#medium size\n",
    "training_data_mid = np.genfromtxt(\"datasets/light-train.csv\",\n",
    "                            delimiter=\",\", filling_values=0)\n",
    "evaluation_data_mid = np.genfromtxt(\n",
    "    \"datasets/medium-test.csv\", delimiter=\",\", filling_values=0)\n",
    "evaluation_input_mid = evaluation_data_mid[:, 1:]\n",
    "evaluation_answers_mid = evaluation_data_mid[:, 0]\n",
    "\n",
    "datapack_mid = (training_data_mid, evaluation_input_mid, evaluation_answers_mid)\n",
    "\n",
    "# full size\n",
    "training_data = np.genfromtxt(\"datasets/emnist-letters-train.csv\",\n",
    "                            delimiter=\",\", filling_values=0)\n",
    "evaluation_data = np.genfromtxt(\n",
    "    \"datasets/emnist-letters-test.csv\", delimiter=\",\", filling_values=0)\n",
    "evaluation_input = evaluation_data[:, 1:]\n",
    "evaluation_answers = evaluation_data[:, 0]\n",
    "\n",
    "datapack_full = (training_data, evaluation_input, evaluation_answers)"
   ]
  },
  {
   "cell_type": "code",
   "execution_count": 3,
   "metadata": {
    "jukit_cell_id": "NONE"
   },
   "outputs": [],
   "source": [
    "# metrics\n",
    "my_metrics = [return_accuracy, return_recall, return_precision, return_f1]"
   ]
  },
  {
   "cell_type": "markdown",
   "metadata": {},
   "source": [
    "# Сравнение моделей уменьшения размерности данных"
   ]
  },
  {
   "cell_type": "code",
   "execution_count": 4,
   "metadata": {},
   "outputs": [],
   "source": [
    "# get_plain_data --> np.ndarray with shape(784,)\n",
    "\n",
    "# get_features --> np.ndarray with shape(13,)\n",
    "\n",
    "# PCA\n",
    "PCA_extreme = PCA_transform(24).fit(training_data) # x32 - выходной массив имеет в 32 раза меньше размерности\n",
    "\n",
    "PCA_severe = PCA_transform(49).fit(training_data) # x16\n",
    "\n",
    "PCA_rought = PCA_transform(98).fit(training_data) # x8\n",
    "\n",
    "PCA_medium = PCA_transform(196).fit(training_data) # x4\n",
    "\n",
    "PCA_fine = PCA_transform(392).fit(training_data) # x2\n",
    "\n",
    "params_to_change = {\n",
    "    'data_converter': [get_plain_data, get_features, PCA_extreme, PCA_severe, PCA_rought, PCA_medium, PCA_fine],\n",
    "}"
   ]
  },
  {
   "cell_type": "code",
   "execution_count": 5,
   "metadata": {},
   "outputs": [
    {
     "name": "stdout",
     "output_type": "stream",
     "text": [
      "on 0: -----With parameters-----                                                                                         \n",
      "on 0: data_converter = <function get_plain_data at 0x7f923ede8940>                                                      \n",
      "on 0: ~fit complete in                                                                                                  \n",
      "on 300: 8.972s                                                                                                          \n",
      "on 300: ~eval complete in 0.159s                                                                                        \n",
      "on 300:     return_accuracy = 0.560                                                                                     \n",
      "on 300:     return_recall = 0.683                                                                                       \n",
      "on 300:     return_precision = 0.466                                                                                    \n",
      "on 300:     return_f1 = 0.433                                                                                           \n",
      "on 300: -----End with-----                                                                                              \n",
      "on 301: -----With parameters-----                                                                                       \n",
      "on 301: data_converter = <function get_features at 0x7f923ede8550>                                                      \n",
      "on 301: ~fit complete in                                                                                                \n",
      "on 601: 5.401s                                                                                                          \n",
      "on 601: ~eval complete in 2.658s                                                                                        \n",
      "on 601:     return_accuracy = 0.210                                                                                     \n",
      "on 601:     return_recall = 0.423                                                                                       \n",
      "on 601:     return_precision = 0.203                                                                                    \n",
      "on 601:     return_f1 = 0.124                                                                                           \n",
      "on 601: -----End with-----                                                                                              \n",
      "on 602: -----With parameters-----                                                                                       \n",
      "on 602: data_converter = <PCA_transform(24);vector:(784, 24)>                                                           \n",
      "on 602: ~fit complete in                                                                                                \n",
      "on 902: 5.162s                                                                                                          \n",
      "on 902: ~eval complete in 0.176s                                                                                        \n",
      "on 902:     return_accuracy = 0.467                                                                                     \n",
      "on 902:     return_recall = 0.616                                                                                       \n",
      "on 902:     return_precision = 0.418                                                                                    \n",
      "on 902:     return_f1 = 0.350                                                                                           \n",
      "on 902: -----End with-----                                                                                              \n",
      "on 903: -----With parameters-----                                                                                       \n",
      "on 903: data_converter = <PCA_transform(49);vector:(784, 49)>                                                           \n",
      "on 903: ~fit complete in                                                                                                \n",
      "on 1203: 5.385s                                                                                                         \n",
      "on 1203: ~eval complete in 0.196s                                                                                       \n",
      "on 1203:     return_accuracy = 0.465                                                                                    \n",
      "on 1203:     return_recall = 0.616                                                                                      \n",
      "on 1203:     return_precision = 0.404                                                                                   \n",
      "on 1203:     return_f1 = 0.349                                                                                          \n",
      "on 1203: -----End with-----                                                                                             \n",
      "on 1204: -----With parameters-----                                                                                      \n",
      "on 1204: data_converter = <PCA_transform(98);vector:(784, 98)>                                                          \n",
      "on 1204: ~fit complete in                                                                                               \n",
      "on 1504: 5.697s                                                                                                         \n",
      "on 1504: ~eval complete in 0.219s                                                                                       \n",
      "on 1504:     return_accuracy = 0.445                                                                                    \n",
      "on 1504:     return_recall = 0.602                                                                                      \n",
      "on 1504:     return_precision = 0.394                                                                                   \n",
      "on 1504:     return_f1 = 0.339                                                                                          \n",
      "on 1504: -----End with-----                                                                                             \n",
      "on 1505: -----With parameters-----                                                                                      \n",
      "on 1505: data_converter = <PCA_transform(196);vector:(784, 196)>                                                        \n",
      "on 1505: ~fit complete in                                                                                               \n",
      "on 1805: 6.044s                                                                                                         \n",
      "on 1805: ~eval complete in 0.248s                                                                                       \n",
      "on 1805:     return_accuracy = 0.399                                                                                    \n",
      "on 1805:     return_recall = 0.567                                                                                      \n",
      "on 1805:     return_precision = 0.356                                                                                   \n",
      "on 1805:     return_f1 = 0.310                                                                                          \n",
      "on 1805: -----End with-----                                                                                             \n",
      "on 1806: -----With parameters-----                                                                                      \n",
      "on 1806: data_converter = <PCA_transform(392);vector:(784, 392)>                                                        \n",
      "on 1806: ~fit complete in                                                                                               \n",
      "on 2106: 7.575s                                                                                                          \n",
      "on 2106: ~eval complete in 0.328s                                                                                        \n",
      "on 2106:     return_accuracy = 0.346                                                                                     \n",
      "on 2106:     return_recall = 0.528                                                                                       \n"
     ]
    },
    {
     "name": "stdout",
     "output_type": "stream",
     "text": [
      "on 2106:     return_precision = 0.313                                                                                    \n",
      "on 2106:     return_f1 = 0.273                                                                                           \n",
      "on 2106: -----End with-----                                                                                             \n",
      "Проверка модели MultilogRegression |████████████████████████████████████████✗︎ (!) 2107/2100 [100%] in 48.4s (43.55/s)   \n",
      "===============RESULTS=================\n",
      "On iteration 0:\n",
      "With hyperparameters: [<function get_plain_data at 0x7f923ede8940>]\n",
      "Got metrics: [0.5604, 0.6833872922517765, 0.46563957655496757, 0.433005939182378]\n"
     ]
    }
   ],
   "source": [
    "# Logistic\n",
    "\n",
    "hp = {\n",
    "    'data_converter': get_plain_data,\n",
    "    'normalization': True,\n",
    "    'shift_column': True,\n",
    "    'learning_rate': 0.05,\n",
    "    'batch_size': 300,\n",
    "    'epochs': 300,\n",
    "    'num_classes': 26,\n",
    "    'reg': 'l1',\n",
    "    'reg_w': 0.05,\n",
    "}\n",
    "\n",
    "\n",
    "MultilogRunner = ModelRunner(MultilogRegression, defaults=hp, metrics=my_metrics, responsive_bar=True)\n",
    "MultilogRunner.run(*datapack_mid, params_to_change, one_vs_one=True)"
   ]
  },
  {
   "cell_type": "code",
   "execution_count": 6,
   "metadata": {
    "scrolled": false
   },
   "outputs": [
    {
     "name": "stdout",
     "output_type": "stream",
     "text": [
      "on 0: -----With parameters-----                                                                                         \n",
      "on 0: data_converter = <function get_plain_data at 0x7f923ede8940>                                                      \n",
      "on 0: ~fit complete in 0.004s                                                                                           \n",
      "on 0: ~eval complete in                                                                                                 \n",
      "on 5000: 3.505s                                                                                                         \n",
      "on 5000:     return_accuracy = 0.233                                                                                    \n",
      "on 5000:     return_recall = 0.437                                                                                      \n",
      "on 5000:     return_precision = 0.367                                                                                   \n",
      "on 5000:     return_f1 = 0.185                                                                                          \n",
      "on 5000: -----End with-----                                                                                             \n",
      "on 5001: -----With parameters-----                                                                                      \n",
      "on 5001: data_converter = <function get_features at 0x7f923ede8550>                                                     \n",
      "on 5001: ~fit complete in 0.542s                                                                                        \n",
      "on 5001: ~eval complete in                                                                                              \n",
      "on 10001: 3.988s                                                                                                        \n",
      "on 10001:     return_accuracy = 0.202                                                                                   \n",
      "on 10001:     return_recall = 0.416                                                                                     \n",
      "on 10001:     return_precision = 0.187                                                                                  \n",
      "on 10001:     return_f1 = 0.163                                                                                         \n",
      "on 10001: -----End with-----                                                                                            \n",
      "on 10002: -----With parameters-----                                                                                     \n",
      "on 10002: data_converter = <PCA_transform(24);vector:(784, 24)>                                                         \n",
      "on 10002: ~fit complete in 0.017s                                                                                       \n",
      "on 10002: ~eval complete in                                                                                             \n",
      "on 15002: 1.475s                                                                                                        \n",
      "on 15002:     return_accuracy = 0.624                                                                                   \n",
      "on 15002:     return_recall = 0.729                                                                                     \n",
      "on 15002:     return_precision = 0.495                                                                                  \n",
      "on 15002:     return_f1 = 0.474                                                                                         \n",
      "on 15002: -----End with-----                                                                                            \n",
      "on 15003: -----With parameters-----                                                                                     \n",
      "on 15003: data_converter = <PCA_transform(49);vector:(784, 49)>                                                         \n",
      "on 15003: ~fit complete in 0.038s                                                                                       \n",
      "on 15003: ~eval complete in                                                                                             \n",
      "on 20003: 1.693s                                                                                                        \n",
      "on 20003:     return_accuracy = 0.629                                                                                   \n",
      "on 20003:     return_recall = 0.734                                                                                     \n",
      "on 20003:     return_precision = 0.500                                                                                  \n",
      "on 20003:     return_f1 = 0.477                                                                                         \n",
      "on 20003: -----End with-----                                                                                            \n",
      "on 20004: -----With parameters-----                                                                                     \n",
      "on 20004: data_converter = <PCA_transform(98);vector:(784, 98)>                                                         \n",
      "on 20004: ~fit complete in 0.045s                                                                                       \n",
      "on 20004: ~eval complete in                                                                                             \n",
      "on 25004: 2.004s                                                                                                        \n",
      "on 25004:     return_accuracy = 0.615                                                                                   \n",
      "on 25004:     return_recall = 0.724                                                                                     \n",
      "on 25004:     return_precision = 0.493                                                                                  \n",
      "on 25004:     return_f1 = 0.466                                                                                         \n",
      "on 25004: -----End with-----                                                                                            \n",
      "on 25005: -----With parameters-----                                                                                     \n",
      "on 25005: data_converter = <PCA_transform(196);vector:(784, 196)>                                                       \n",
      "on 25005: ~fit complete in 0.035s                                                                                       \n",
      "on 25005: ~eval complete in                                                                                             \n",
      "on 30005: 2.748s                                                                                                        \n",
      "on 30005:     return_accuracy = 0.604                                                                                   \n",
      "on 30005:     return_recall = 0.716                                                                                     \n",
      "on 30005:     return_precision = 0.489                                                                                  \n",
      "on 30005:     return_f1 = 0.458                                                                                         \n",
      "on 30005: -----End with-----                                                                                            \n",
      "on 30006: -----With parameters-----                                                                                     \n",
      "on 30006: data_converter = <PCA_transform(392);vector:(784, 392)>                                                       \n",
      "on 30006: ~fit complete in 0.094s                                                                                       \n",
      "on 30006: ~eval complete in                                                                                             \n",
      "on 35006: 6.424s                                                                                                        \n",
      "on 35006:     return_accuracy = 0.599                                                                                   \n",
      "on 35006:     return_recall = 0.713                                                                                     \n"
     ]
    },
    {
     "name": "stdout",
     "output_type": "stream",
     "text": [
      "on 35006:     return_precision = 0.488                                                                                  \n",
      "on 35006:     return_f1 = 0.454                                                                                         \n",
      "on 35006: -----End with-----                                                                                            \n",
      "Проверка модели KnnModel |████████████████████████████████████████| 35007/35007 [100%] in 22.8s (1535.25/s)             \n",
      "===============RESULTS=================\n",
      "On iteration 3:\n",
      "With hyperparameters: [<PCA_transform(49);vector:(784, 49)>]\n",
      "Got metrics: [0.6292, 0.7339819667849938, 0.49995519026928925, 0.4768180509485743]\n"
     ]
    }
   ],
   "source": [
    "# KNN\n",
    "hp = {\n",
    "    'data_converter': get_plain_data,\n",
    "    'k': 1,\n",
    "}\n",
    "\n",
    "\n",
    "KNNrunner = ModelRunner(KnnModel, defaults=hp, metrics=my_metrics, responsive_bar=True)\n",
    "KNNrunner.run(*datapack_mid, params_to_change, one_vs_one=True)"
   ]
  },
  {
   "cell_type": "code",
   "execution_count": 7,
   "metadata": {},
   "outputs": [
    {
     "name": "stdout",
     "output_type": "stream",
     "text": [
      "on 0: -----With parameters-----                                                                                         \n",
      "on 0: data_converter = <function get_plain_data at 0x7f923ede8940>                                                      \n",
      "on 0: ~fit complete in                                                                                                  \n",
      "on 100: 2.332s                                                                                                          \n",
      "on 100: ~eval complete in 0.077s                                                                                        \n",
      "on 100:     return_accuracy = 0.434                                                                                     \n",
      "on 100:     return_recall = 0.591                                                                                       \n",
      "on 100:     return_precision = 0.424                                                                                    \n",
      "on 100:     return_f1 = 0.330                                                                                           \n",
      "on 100: -----End with-----                                                                                              \n",
      "on 101: -----With parameters-----                                                                                       \n",
      "on 101: data_converter = <function get_features at 0x7f923ede8550>                                                      \n",
      "on 101: ~fit complete in                                                                                                \n",
      "on 201: 1.796s                                                                                                          \n",
      "on 201: ~eval complete in 2.641s                                                                                        \n",
      "on 201:     return_accuracy = 0.211                                                                                     \n",
      "on 201:     return_recall = 0.423                                                                                       \n",
      "on 201:     return_precision = 0.224                                                                                    \n",
      "on 201:     return_f1 = 0.123                                                                                           \n",
      "on 201: -----End with-----                                                                                              \n",
      "on 202: -----With parameters-----                                                                                       \n",
      "on 202: data_converter = <PCA_transform(24);vector:(784, 24)>                                                           \n",
      "on 202: ~fit complete in                                                                                                \n",
      "on 302: 1.422s                                                                                                          \n",
      "on 302: ~eval complete in 0.093s                                                                                        \n",
      "on 302:     return_accuracy = 0.475                                                                                     \n",
      "on 302:     return_recall = 0.622                                                                                       \n",
      "on 302:     return_precision = 0.419                                                                                    \n",
      "on 302:     return_f1 = 0.355                                                                                           \n",
      "on 302: -----End with-----                                                                                              \n",
      "on 303: -----With parameters-----                                                                                       \n",
      "on 303: data_converter = <PCA_transform(49);vector:(784, 49)>                                                           \n",
      "on 303: ~fit complete in                                                                                                \n",
      "on 403: 1.374s                                                                                                          \n",
      "on 403: ~eval complete in 0.105s                                                                                        \n",
      "on 403:     return_accuracy = 0.469                                                                                     \n",
      "on 403:     return_recall = 0.619                                                                                       \n",
      "on 403:     return_precision = 0.404                                                                                    \n",
      "on 403:     return_f1 = 0.352                                                                                           \n",
      "on 403: -----End with-----                                                                                              \n",
      "on 404: -----With parameters-----                                                                                       \n",
      "on 404: data_converter = <PCA_transform(98);vector:(784, 98)>                                                           \n",
      "on 404: ~fit complete in                                                                                                \n",
      "on 504: 1.464s                                                                                                          \n",
      "on 504: ~eval complete in 0.125s                                                                                        \n",
      "on 504:     return_accuracy = 0.442                                                                                     \n",
      "on 504:     return_recall = 0.600                                                                                       \n",
      "on 504:     return_precision = 0.387                                                                                    \n",
      "on 504:     return_f1 = 0.338                                                                                           \n",
      "on 504: -----End with-----                                                                                              \n",
      "on 505: -----With parameters-----                                                                                       \n",
      "on 505: data_converter = <PCA_transform(196);vector:(784, 196)>                                                         \n",
      "on 505: ~fit complete in                                                                                                \n",
      "on 605: 1.642s                                                                                                          \n",
      "on 605: ~eval complete in 0.167s                                                                                        \n",
      "on 605:     return_accuracy = 0.391                                                                                     \n",
      "on 605:     return_recall = 0.561                                                                                       \n",
      "on 605:     return_precision = 0.353                                                                                    \n",
      "on 605:     return_f1 = 0.304                                                                                           \n",
      "on 605: -----End with-----                                                                                              \n",
      "on 606: -----With parameters-----                                                                                       \n",
      "on 606: data_converter = <PCA_transform(392);vector:(784, 392)>                                                         \n",
      "on 606: ~fit complete in                                                                                                \n",
      "on 706: 1.942s                                                                                                           \n",
      "on 706: ~eval complete in 0.234s                                                                                        \n",
      "on 706:     return_accuracy = 0.338                                                                                     \n",
      "on 706:     return_recall = 0.522                                                                                       \n"
     ]
    },
    {
     "name": "stdout",
     "output_type": "stream",
     "text": [
      "on 706:     return_precision = 0.318                                                                                    \n",
      "on 706:     return_f1 = 0.271                                                                                           \n",
      "on 706: -----End with-----                                                                                              \n",
      "Проверка модели SVM_Model |████████████████████████████████████████✗︎ (!) 707/700 [101%] in 15.6s (45.18/s)              \n",
      "===============RESULTS=================\n",
      "On iteration 2:\n",
      "With hyperparameters: [<PCA_transform(24);vector:(784, 24)>]\n",
      "Got metrics: [0.4754, 0.6221787483547424, 0.4192542449065625, 0.3548350002631533]\n"
     ]
    }
   ],
   "source": [
    "# SVM\n",
    "hp = {\n",
    "    'data_converter': get_plain_data,\n",
    "    'num_classes': 26,\n",
    "    'epochs': 100,\n",
    "    'batch_size': 1000,\n",
    "    'learning_rate': 0.01,\n",
    "    'regularization': 0.0005,\n",
    "    'normalization': True,\n",
    "    'shift_column': True,\n",
    "}\n",
    "\n",
    "\n",
    "SVMRunner = ModelRunner(SVM_Model, defaults=hp, metrics=my_metrics, responsive_bar=True)\n",
    "SVMRunner.run(*datapack_mid, params_to_change, one_vs_one=True)"
   ]
  },
  {
   "cell_type": "code",
   "execution_count": 8,
   "metadata": {
    "scrolled": false
   },
   "outputs": [
    {
     "name": "stdout",
     "output_type": "stream",
     "text": [
      "on 0: -----With parameters-----                                                                                         \n",
      "on 0: data_converter = <function get_plain_data at 0x7f923ede8940>                                                      \n",
      "on 0: ~fit complete in 0.010s                                                                                           \n",
      "on 0: ~eval complete in 0.123s                                                                                          \n",
      "on 0:     return_accuracy = 0.270                                                                                       \n",
      "on 0:     return_recall = 0.396                                                                                         \n",
      "on 0:     return_precision = 0.520                                                                                      \n",
      "on 0:     return_f1 = 0.196                                                                                             \n",
      "on 0: -----End with-----                                                                                                \n",
      "                                                                                                                        \r"
     ]
    },
    {
     "name": "stderr",
     "output_type": "stream",
     "text": [
      "on 0: /run/media/dvarkless/LinuxData/Files/Учеба/Data_Science_Course/InnopolisDS/summer-finals/model_bayes.py:37: RuntimeWarning: divide by zero encountered in power\n",
      "        prob_inverse = np.power(prob_in, -1)/10000\n"
     ]
    },
    {
     "name": "stdout",
     "output_type": "stream",
     "text": [
      "on 1: -----With parameters-----                                                                                         \n",
      "on 1: data_converter = <function get_features at 0x7f923ede8550>                                                        \n",
      "on 1: ~fit complete in 0.503s                                                                                           \n",
      "on 1: ~eval complete in 2.549s                                                                                          \n",
      "on 1:     return_accuracy = 0.056                                                                                       \n",
      "on 1:     return_recall = 0.099                                                                                         \n",
      "on 1:     return_precision = 0.809                                                                                      \n",
      "on 1:     return_f1 = 0.006                                                                                             \n",
      "on 1: -----End with-----                                                                                                \n",
      "on 2: -----With parameters-----                                                                                         \n",
      "on 2: data_converter = <PCA_transform(24);vector:(784, 24)>                                                             \n",
      "on 2: ~fit complete in 0.028s                                                                                           \n",
      "on 2: ~eval complete in 0.174s                                                                                          \n",
      "on 2:     return_accuracy = 0.039                                                                                       \n",
      "on 2:     return_recall = 0.087                                                                                         \n",
      "on 2:     return_precision = 0.706                                                                                      \n",
      "on 2:     return_f1 = 0.009                                                                                             \n",
      "on 2: -----End with-----                                                                                                \n",
      "                                                                                                                        \r"
     ]
    },
    {
     "name": "stderr",
     "output_type": "stream",
     "text": [
      "on 2: /run/media/dvarkless/LinuxData/Files/Учеба/Data_Science_Course/InnopolisDS/summer-finals/model_base.py:157: RuntimeWarning: invalid value encountered in divide\n",
      "        softvals = (np.exp(mod_array - np.max(x)).T /\n"
     ]
    },
    {
     "name": "stdout",
     "output_type": "stream",
     "text": [
      "on 3: -----With parameters-----                                                                                         \n",
      "on 3: data_converter = <PCA_transform(49);vector:(784, 49)>                                                             \n",
      "on 3: ~fit complete in 0.047s                                                                                           \n",
      "on 3: ~eval complete in 0.192s                                                                                          \n",
      "on 3:     return_accuracy = 0.036                                                                                       \n",
      "on 3:     return_recall = 0.204                                                                                         \n",
      "on 3:     return_precision = 0.373                                                                                      \n",
      "on 3:     return_f1 = 0.012                                                                                             \n",
      "on 3: -----End with-----                                                                                                \n",
      "                                                                                                                        \r"
     ]
    },
    {
     "name": "stderr",
     "output_type": "stream",
     "text": [
      "on 3: /run/media/dvarkless/LinuxData/Files/Учеба/Data_Science_Course/InnopolisDS/summer-finals/model_base.py:157: RuntimeWarning: invalid value encountered in divide\n",
      "        softvals = (np.exp(mod_array - np.max(x)).T /\n"
     ]
    },
    {
     "name": "stdout",
     "output_type": "stream",
     "text": [
      "on 4: -----With parameters-----                                                                                         \n",
      "on 4: data_converter = <PCA_transform(98);vector:(784, 98)>                                                             \n",
      "on 4: ~fit complete in 0.038s                                                                                           \n",
      "on 4: ~eval complete in 0.285s                                                                                          \n",
      "on 4:     return_accuracy = 0.040                                                                                       \n",
      "on 4:     return_recall = 0.170                                                                                         \n",
      "on 4:     return_precision = 0.288                                                                                      \n",
      "on 4:     return_f1 = 0.009                                                                                             \n",
      "on 4: -----End with-----                                                                                                \n",
      "                                                                                                                        \r"
     ]
    },
    {
     "name": "stderr",
     "output_type": "stream",
     "text": [
      "on 4: /run/media/dvarkless/LinuxData/Files/Учеба/Data_Science_Course/InnopolisDS/summer-finals/model_base.py:157: RuntimeWarning: invalid value encountered in divide\n",
      "        softvals = (np.exp(mod_array - np.max(x)).T /\n"
     ]
    },
    {
     "name": "stdout",
     "output_type": "stream",
     "text": [
      "on 5: -----With parameters-----                                                                                         \n",
      "on 5: data_converter = <PCA_transform(196);vector:(784, 196)>                                                           \n",
      "on 5: ~fit complete in 0.037s                                                                                           \n",
      "on 5: ~eval complete in 0.230s                                                                                          \n",
      "on 5:     return_accuracy = 0.053                                                                                       \n",
      "on 5:     return_recall = 0.143                                                                                         \n",
      "on 5:     return_precision = 0.538                                                                                      \n",
      "on 5:     return_f1 = 0.007                                                                                             \n",
      "on 5: -----End with-----                                                                                                \n",
      "                                                                                                                        \r"
     ]
    },
    {
     "name": "stderr",
     "output_type": "stream",
     "text": [
      "on 5: /run/media/dvarkless/LinuxData/Files/Учеба/Data_Science_Course/InnopolisDS/summer-finals/model_base.py:157: RuntimeWarning: invalid value encountered in divide\n",
      "        softvals = (np.exp(mod_array - np.max(x)).T /\n"
     ]
    },
    {
     "name": "stdout",
     "output_type": "stream",
     "text": [
      "on 6: -----With parameters-----                                                                                         \n",
      "on 6: data_converter = <PCA_transform(392);vector:(784, 392)>                                                           \n",
      "on 6: ~fit complete in 0.057s                                                                                           \n",
      "on 6: ~eval complete in 0.282s                                                                                          \n",
      "on 6:     return_accuracy = 0.053                                                                                       \n",
      "on 6:     return_recall = 0.217                                                                                         \n",
      "on 6:     return_precision = 0.633                                                                                      \n",
      "on 6:     return_f1 = 0.005                                                                                             \n",
      "on 6: -----End with-----                                                                                                \n",
      "                                                                                                                        \r"
     ]
    },
    {
     "name": "stderr",
     "output_type": "stream",
     "text": [
      "on 6: /run/media/dvarkless/LinuxData/Files/Учеба/Data_Science_Course/InnopolisDS/summer-finals/model_base.py:157: RuntimeWarning: invalid value encountered in divide\n",
      "        softvals = (np.exp(mod_array - np.max(x)).T /\n"
     ]
    },
    {
     "name": "stdout",
     "output_type": "stream",
     "text": [
      "Проверка модели BayesianClassifier |████████████████████████████████████████| 7/7 [100%] in 4.9s (1.43/s)               \n",
      "===============RESULTS=================\n",
      "On iteration 0:\n",
      "With hyperparameters: [<function get_plain_data at 0x7f923ede8940>]\n",
      "Got metrics: [0.2702, 0.3956182433071156, 0.5202723933041188, 0.19553933860467618]\n"
     ]
    }
   ],
   "source": [
    "# Bayes\n",
    "\n",
    "hp = {\n",
    "    'data_converter': get_plain_data,\n",
    "    'num_classes': 26,\n",
    "}\n",
    "\n",
    "\n",
    "BayesRunner = ModelRunner(BayesianClassifier, defaults=hp, metrics=my_metrics)\n",
    "BayesRunner.run(*datapack_mid, params_to_change, one_vs_one=True)"
   ]
  },
  {
   "cell_type": "code",
   "execution_count": 9,
   "metadata": {
    "scrolled": false
   },
   "outputs": [
    {
     "name": "stdout",
     "output_type": "stream",
     "text": [
      "on 0: -----With parameters-----                                                                                         \n",
      "on 0: data_converter = <function get_plain_data at 0x7f923ede8940>                                                      \n",
      "on 0: ~fit complete in                                                                                                  \n",
      "                                                                                                                        \r"
     ]
    },
    {
     "name": "stderr",
     "output_type": "stream",
     "text": [
      "on 0: /run/media/dvarkless/LinuxData/Files/Учеба/Data_Science_Course/InnopolisDS/summer-finals/model_decisiontree.py:37: RuntimeWarning: Mean of empty slice.\n",
      "        self.right_mean = data[is_true][:, -1].mean()\n",
      "/run/media/dvarkless/LinuxData/Files/Учеба/Data_Science_Course/Finals1/venv/lib/python3.10/site-packages/numpy/core/_methods.py:190: RuntimeWarning: invalid value encountered in double_scalars\n",
      "        ret = ret.dtype.type(ret / rcount)\n",
      "/run/media/dvarkless/LinuxData/Files/Учеба/Data_Science_Course/InnopolisDS/summer-finals/model_decisiontree.py:40: RuntimeWarning: Mean of empty slice.\n",
      "        self.left_mean = data[is_false][:, -1].mean()\n"
     ]
    },
    {
     "name": "stdout",
     "output_type": "stream",
     "text": [
      "on 26: 5535.868s                                                                                                        \n",
      "on 26: ~eval complete in 0.321s                                                                                         \n",
      "on 26:     return_accuracy = 0.344                                                                                      \n",
      "on 26:     return_recall = 0.521                                                                                        \n",
      "on 26:     return_precision = 0.297                                                                                     \n",
      "on 26:     return_f1 = 0.268                                                                                            \n",
      "on 27: -----End with-----                                                                                               \n",
      "on 27: -----With parameters-----                                                                                        \n",
      "on 27: data_converter = <function get_features at 0x7f923ede8550>                                                       \n",
      "on 27: ~fit complete in                                                                                                 \n",
      "                                                                                                                        \r"
     ]
    },
    {
     "name": "stderr",
     "output_type": "stream",
     "text": [
      "on 27: /run/media/dvarkless/LinuxData/Files/Учеба/Data_Science_Course/InnopolisDS/summer-finals/model_decisiontree.py:40: RuntimeWarning: Mean of empty slice.\n",
      "         self.left_mean = data[is_false][:, -1].mean()\n",
      "/run/media/dvarkless/LinuxData/Files/Учеба/Data_Science_Course/Finals1/venv/lib/python3.10/site-packages/numpy/core/_methods.py:190: RuntimeWarning: invalid value encountered in double_scalars\n",
      "         ret = ret.dtype.type(ret / rcount)\n",
      "/run/media/dvarkless/LinuxData/Files/Учеба/Data_Science_Course/InnopolisDS/summer-finals/model_decisiontree.py:37: RuntimeWarning: Mean of empty slice.\n",
      "         self.right_mean = data[is_true][:, -1].mean()\n"
     ]
    },
    {
     "name": "stdout",
     "output_type": "stream",
     "text": [
      "on 53: 48.067s                                                                                                          \n",
      "on 53: ~eval complete in 2.579s                                                                                         \n",
      "on 53:     return_accuracy = 0.208                                                                                      \n",
      "on 53:     return_recall = 0.424                                                                                        \n",
      "on 53:     return_precision = 0.190                                                                                     \n",
      "on 53:     return_f1 = 0.165                                                                                            \n",
      "on 54: -----End with-----                                                                                               \n",
      "on 54: -----With parameters-----                                                                                        \n",
      "on 54: data_converter = <PCA_transform(24);vector:(784, 24)>                                                            \n",
      "on 54: ~fit complete in                                                                                                 \n",
      "                                                                                                                        \r"
     ]
    },
    {
     "name": "stderr",
     "output_type": "stream",
     "text": [
      "on 54: /run/media/dvarkless/LinuxData/Files/Учеба/Data_Science_Course/InnopolisDS/summer-finals/model_decisiontree.py:37: RuntimeWarning: Mean of empty slice.\n",
      "         self.right_mean = data[is_true][:, -1].mean()\n",
      "/run/media/dvarkless/LinuxData/Files/Учеба/Data_Science_Course/Finals1/venv/lib/python3.10/site-packages/numpy/core/_methods.py:190: RuntimeWarning: invalid value encountered in double_scalars\n",
      "         ret = ret.dtype.type(ret / rcount)\n",
      "/run/media/dvarkless/LinuxData/Files/Учеба/Data_Science_Course/InnopolisDS/summer-finals/model_decisiontree.py:40: RuntimeWarning: Mean of empty slice.\n",
      "         self.left_mean = data[is_false][:, -1].mean()\n"
     ]
    },
    {
     "name": "stdout",
     "output_type": "stream",
     "text": [
      "on 80: 71.243s                                                                                                          \n",
      "on 80: ~eval complete in 0.329s                                                                                         \n",
      "on 80:     return_accuracy = 0.336                                                                                      \n",
      "on 80:     return_recall = 0.518                                                                                        \n",
      "on 80:     return_precision = 0.289                                                                                     \n",
      "on 80:     return_f1 = 0.264                                                                                            \n",
      "on 81: -----End with-----                                                                                               \n",
      "on 81: -----With parameters-----                                                                                        \n",
      "on 81: data_converter = <PCA_transform(49);vector:(784, 49)>                                                            \n",
      "on 81: ~fit complete in                                                                                                 \n",
      "                                                                                                                        \r"
     ]
    },
    {
     "name": "stderr",
     "output_type": "stream",
     "text": [
      "on 81: /run/media/dvarkless/LinuxData/Files/Учеба/Data_Science_Course/InnopolisDS/summer-finals/model_decisiontree.py:37: RuntimeWarning: Mean of empty slice.\n",
      "         self.right_mean = data[is_true][:, -1].mean()\n",
      "/run/media/dvarkless/LinuxData/Files/Учеба/Data_Science_Course/Finals1/venv/lib/python3.10/site-packages/numpy/core/_methods.py:190: RuntimeWarning: invalid value encountered in double_scalars\n",
      "         ret = ret.dtype.type(ret / rcount)\n",
      "/run/media/dvarkless/LinuxData/Files/Учеба/Data_Science_Course/InnopolisDS/summer-finals/model_decisiontree.py:40: RuntimeWarning: Mean of empty slice.\n",
      "         self.left_mean = data[is_false][:, -1].mean()\n"
     ]
    },
    {
     "name": "stdout",
     "output_type": "stream",
     "text": [
      "on 107: 154.429s                                                                                                        \n",
      "on 107: ~eval complete in 0.331s                                                                                        \n",
      "on 107:     return_accuracy = 0.301                                                                                     \n",
      "on 107:     return_recall = 0.493                                                                                       \n",
      "on 107:     return_precision = 0.269                                                                                    \n",
      "on 107:     return_f1 = 0.239                                                                                           \n",
      "on 108: -----End with-----                                                                                              \n",
      "on 108: -----With parameters-----                                                                                       \n",
      "on 108: data_converter = <PCA_transform(98);vector:(784, 98)>                                                           \n",
      "on 108: ~fit complete in                                                                                                \n",
      "                                                                                                                        \r"
     ]
    },
    {
     "name": "stderr",
     "output_type": "stream",
     "text": [
      "on 108: /run/media/dvarkless/LinuxData/Files/Учеба/Data_Science_Course/InnopolisDS/summer-finals/model_decisiontree.py:37: RuntimeWarning: Mean of empty slice.\n",
      "          self.right_mean = data[is_true][:, -1].mean()\n",
      "/run/media/dvarkless/LinuxData/Files/Учеба/Data_Science_Course/Finals1/venv/lib/python3.10/site-packages/numpy/core/_methods.py:190: RuntimeWarning: invalid value encountered in double_scalars\n",
      "          ret = ret.dtype.type(ret / rcount)\n",
      "/run/media/dvarkless/LinuxData/Files/Учеба/Data_Science_Course/InnopolisDS/summer-finals/model_decisiontree.py:40: RuntimeWarning: Mean of empty slice.\n",
      "          self.left_mean = data[is_false][:, -1].mean()\n"
     ]
    },
    {
     "name": "stdout",
     "output_type": "stream",
     "text": [
      "on 134: 295.117s                                                                                                        \n",
      "on 134: ~eval complete in 0.344s                                                                                        \n",
      "on 134:     return_accuracy = 0.289                                                                                     \n",
      "on 134:     return_recall = 0.480                                                                                       \n",
      "on 134:     return_precision = 0.257                                                                                    \n",
      "on 134:     return_f1 = 0.230                                                                                           \n",
      "on 135: -----End with-----                                                                                              \n",
      "on 135: -----With parameters-----                                                                                       \n",
      "on 135: data_converter = <PCA_transform(196);vector:(784, 196)>                                                         \n",
      "on 135: ~fit complete in                                                                                                \n",
      "                                                                                                                        \r"
     ]
    },
    {
     "name": "stderr",
     "output_type": "stream",
     "text": [
      "on 135: /run/media/dvarkless/LinuxData/Files/Учеба/Data_Science_Course/InnopolisDS/summer-finals/model_decisiontree.py:37: RuntimeWarning: Mean of empty slice.\n",
      "          self.right_mean = data[is_true][:, -1].mean()\n",
      "/run/media/dvarkless/LinuxData/Files/Учеба/Data_Science_Course/Finals1/venv/lib/python3.10/site-packages/numpy/core/_methods.py:190: RuntimeWarning: invalid value encountered in double_scalars\n",
      "          ret = ret.dtype.type(ret / rcount)\n",
      "/run/media/dvarkless/LinuxData/Files/Учеба/Data_Science_Course/InnopolisDS/summer-finals/model_decisiontree.py:40: RuntimeWarning: Mean of empty slice.\n",
      "          self.left_mean = data[is_false][:, -1].mean()\n"
     ]
    },
    {
     "name": "stdout",
     "output_type": "stream",
     "text": [
      "on 161: 620.239s                                                                                                        \n",
      "on 161: ~eval complete in 0.375s                                                                                        \n",
      "on 161:     return_accuracy = 0.269                                                                                     \n",
      "on 161:     return_recall = 0.465                                                                                       \n",
      "on 161:     return_precision = 0.248                                                                                    \n",
      "on 161:     return_f1 = 0.216                                                                                           \n",
      "on 162: -----End with-----                                                                                              \n",
      "on 162: -----With parameters-----                                                                                       \n",
      "on 162: data_converter = <PCA_transform(392);vector:(784, 392)>                                                         \n",
      "on 162: ~fit complete in                                                                                                \n",
      "                                                                                                                        \r"
     ]
    },
    {
     "name": "stderr",
     "output_type": "stream",
     "text": [
      "on 162: /run/media/dvarkless/LinuxData/Files/Учеба/Data_Science_Course/InnopolisDS/summer-finals/model_decisiontree.py:37: RuntimeWarning: Mean of empty slice.\n",
      "          self.right_mean = data[is_true][:, -1].mean()\n",
      "/run/media/dvarkless/LinuxData/Files/Учеба/Data_Science_Course/Finals1/venv/lib/python3.10/site-packages/numpy/core/_methods.py:190: RuntimeWarning: invalid value encountered in double_scalars\n",
      "          ret = ret.dtype.type(ret / rcount)\n",
      "/run/media/dvarkless/LinuxData/Files/Учеба/Data_Science_Course/InnopolisDS/summer-finals/model_decisiontree.py:40: RuntimeWarning: Mean of empty slice.\n",
      "          self.left_mean = data[is_false][:, -1].mean()\n"
     ]
    },
    {
     "name": "stdout",
     "output_type": "stream",
     "text": [
      "on 188: 1399.767s                                                                                                        \n",
      "on 188: ~eval complete in 0.454s                                                                                         \n",
      "on 188:     return_accuracy = 0.254                                                                                      \n",
      "on 188:     return_recall = 0.455                                                                                        \n",
      "on 188:     return_precision = 0.223                                                                                     \n",
      "on 188:     return_f1 = 0.198                                                                                            \n",
      "on 189: -----End with-----                                                                                              \n",
      "Проверка модели DecisionTreeClassifier |████████████████████████████████████████✗︎ (!) 189/182 [104%] in 2:15:29.7 (0.02/\n",
      "===============RESULTS=================\n",
      "On iteration 0:\n",
      "With hyperparameters: [<function get_plain_data at 0x7f923ede8940>]\n",
      "Got metrics: [0.3444, 0.52054823407703, 0.29707695788355964, 0.26841014173405536]\n"
     ]
    }
   ],
   "source": [
    "# Decision Tree\n",
    "\n",
    "hp = {\n",
    "        'data_converter': PCA_severe,\n",
    "        'sample_len': 16,\n",
    "        'num_classes': 26,\n",
    "        'window_size': -1,\n",
    "        'min_samples': 4,\n",
    "        'max_depth': 6,\n",
    "        'tree_type': 'multilabel_ovr',\n",
    "}\n",
    "\n",
    "TreeRunner = ModelRunner(DecisionTreeClassifier,\n",
    "                         defaults=hp, metrics=my_metrics, responsive_bar=True)\n",
    "TreeRunner.run(*datapack_mid, params_to_change, one_vs_one=False)"
   ]
  },
  {
   "cell_type": "markdown",
   "metadata": {},
   "source": [
    "# Поиск оптимальных гиперпараметров моделей"
   ]
  },
  {
   "cell_type": "code",
   "execution_count": 10,
   "metadata": {
    "jukit_cell_id": "NONE"
   },
   "outputs": [
    {
     "name": "stdout",
     "output_type": "stream",
     "text": [
      "on 0: -----With parameters-----                                                                                         \n",
      "on 0: learning_rate = 0.1                                                                                               \n",
      "on 0: epochs = 300                                                                                                      \n",
      "on 0: ~fit complete in                                                                                                  \n",
      "on 300: 7.953s                                                                                                          \n",
      "on 300: ~eval complete in 0.191s                                                                                        \n",
      "on 300:     return_accuracy = 0.286                                                                                     \n",
      "on 300:     return_recall = 0.461                                                                                       \n",
      "on 300:     return_precision = 0.394                                                                                    \n",
      "on 300:     return_f1 = 0.219                                                                                           \n",
      "on 300: -----End with-----                                                                                              \n",
      "on 301: -----With parameters-----                                                                                       \n",
      "on 301: learning_rate = 0.1                                                                                             \n",
      "on 301: epochs = 200                                                                                                    \n",
      "on 301: ~fit complete in                                                                                                \n",
      "on 501: 5.282s                                                                                                          \n",
      "on 501: ~eval complete in 0.193s                                                                                        \n",
      "on 501:     return_accuracy = 0.278                                                                                     \n",
      "on 501:     return_recall = 0.476                                                                                       \n",
      "on 501:     return_precision = 0.402                                                                                    \n",
      "on 501:     return_f1 = 0.203                                                                                           \n",
      "on 501: -----End with-----                                                                                              \n",
      "on 502: -----With parameters-----                                                                                       \n",
      "on 502: learning_rate = 0.1                                                                                             \n",
      "on 502: epochs = 100                                                                                                    \n",
      "on 502: ~fit complete in                                                                                                \n",
      "on 602: 2.666s                                                                                                          \n",
      "on 602: ~eval complete in 0.195s                                                                                        \n",
      "on 602:     return_accuracy = 0.226                                                                                     \n",
      "on 602:     return_recall = 0.412                                                                                       \n",
      "on 602:     return_precision = 0.370                                                                                    \n",
      "on 602:     return_f1 = 0.166                                                                                           \n",
      "on 602: -----End with-----                                                                                              \n",
      "on 603: -----With parameters-----                                                                                       \n",
      "on 603: learning_rate = 0.3                                                                                             \n",
      "on 603: epochs = 300                                                                                                    \n",
      "on 603: ~fit complete in                                                                                                \n",
      "on 903: 8.081s                                                                                                          \n",
      "on 903: ~eval complete in 0.215s                                                                                        \n",
      "on 903:     return_accuracy = 0.404                                                                                     \n",
      "on 903:     return_recall = 0.570                                                                                       \n",
      "on 903:     return_precision = 0.384                                                                                    \n",
      "on 903:     return_f1 = 0.309                                                                                           \n",
      "on 903: -----End with-----                                                                                              \n",
      "on 904: -----With parameters-----                                                                                       \n",
      "on 904: learning_rate = 0.3                                                                                             \n",
      "on 904: epochs = 200                                                                                                    \n",
      "on 904: ~fit complete in                                                                                                \n",
      "on 1104: 5.682s                                                                                                         \n",
      "on 1104: ~eval complete in 0.199s                                                                                       \n",
      "on 1104:     return_accuracy = 0.344                                                                                    \n",
      "on 1104:     return_recall = 0.526                                                                                      \n",
      "on 1104:     return_precision = 0.344                                                                                   \n",
      "on 1104:     return_f1 = 0.255                                                                                          \n",
      "on 1104: -----End with-----                                                                                             \n",
      "on 1105: -----With parameters-----                                                                                      \n",
      "on 1105: learning_rate = 0.3                                                                                            \n",
      "on 1105: epochs = 100                                                                                                   \n",
      "on 1105: ~fit complete in                                                                                               \n",
      "on 1205: 2.854s                                                                                                         \n",
      "on 1205: ~eval complete in 0.196s                                                                                       \n",
      "on 1205:     return_accuracy = 0.236                                                                                    \n",
      "on 1205:     return_recall = 0.442                                                                                      \n",
      "on 1205:     return_precision = 0.297                                                                                   \n",
      "on 1205:     return_f1 = 0.162                                                                                          \n",
      "on 1205: -----End with-----                                                                                             \n",
      "on 1206: -----With parameters-----                                                                                      \n"
     ]
    },
    {
     "name": "stdout",
     "output_type": "stream",
     "text": [
      "on 1206: learning_rate = 0.8                                                                                            \n",
      "on 1206: epochs = 300                                                                                                   \n",
      "on 1206: ~fit complete in                                                                                               \n",
      "on 1506: 8.090s                                                                                                         \n",
      "on 1506: ~eval complete in 0.193s                                                                                       \n",
      "on 1506:     return_accuracy = 0.442                                                                                    \n",
      "on 1506:     return_recall = 0.600                                                                                      \n",
      "on 1506:     return_precision = 0.377                                                                                   \n",
      "on 1506:     return_f1 = 0.343                                                                                          \n",
      "on 1506: -----End with-----                                                                                             \n",
      "on 1507: -----With parameters-----                                                                                      \n",
      "on 1507: learning_rate = 0.8                                                                                            \n",
      "on 1507: epochs = 200                                                                                                   \n",
      "on 1507: ~fit complete in                                                                                               \n",
      "on 1707: 5.521s                                                                                                         \n",
      "on 1707: ~eval complete in 0.198s                                                                                       \n",
      "on 1707:     return_accuracy = 0.410                                                                                    \n",
      "on 1707:     return_recall = 0.575                                                                                      \n",
      "on 1707:     return_precision = 0.360                                                                                   \n",
      "on 1707:     return_f1 = 0.318                                                                                          \n",
      "on 1707: -----End with-----                                                                                             \n",
      "on 1708: -----With parameters-----                                                                                      \n",
      "on 1708: learning_rate = 0.8                                                                                            \n",
      "on 1708: epochs = 100                                                                                                   \n",
      "on 1708: ~fit complete in                                                                                               \n",
      "on 1808: 2.939s                                                                                                         \n",
      "on 1808: ~eval complete in 0.193s                                                                                       \n",
      "on 1808:     return_accuracy = 0.322                                                                                    \n",
      "on 1808:     return_recall = 0.511                                                                                      \n",
      "on 1808:     return_precision = 0.307                                                                                   \n",
      "on 1808:     return_f1 = 0.244                                                                                          \n",
      "on 1808: -----End with-----                                                                                             \n",
      "Проверка модели MultilogRegression |██████████████████████████▆⚠︎            | (!) 1809/2700 [67%] in 51.1s (35.43/s)    \n",
      "===============RESULTS=================\n",
      "On iteration 6:\n",
      "With hyperparameters: [0.8, 300]\n",
      "Got metrics: [0.4422, 0.5998281382226082, 0.37740496789172284, 0.34308622851633364]\n"
     ]
    }
   ],
   "source": [
    "# Logistic\n",
    "\n",
    "hp = {\n",
    "    'data_converter': PCA_severe,\n",
    "    'normalization': True,\n",
    "    'shift_column': True,\n",
    "    'learning_rate': 1,\n",
    "    'batch_size': 50,\n",
    "    'epochs': 300,\n",
    "    'num_classes': 26,\n",
    "    'reg': None,\n",
    "    'reg_w': 0.01,\n",
    "}\n",
    "\n",
    "\n",
    "MultilogRunner = ModelRunner(MultilogRegression, defaults=hp, metrics=my_metrics, responsive_bar=True)\n",
    "params_to_change = {\n",
    "    'learning_rate': [0.2, 0.5, 1],\n",
    "    'epochs': [400, 250, 150],\n",
    "}\n",
    "MultilogRunner.run(*datapack_lite, params_to_change, one_vs_one=True)"
   ]
  },
  {
   "cell_type": "code",
   "execution_count": 11,
   "metadata": {
    "scrolled": false
   },
   "outputs": [
    {
     "name": "stdout",
     "output_type": "stream",
     "text": [
      "on 0: -----With parameters-----                                                                                         \n",
      "on 0: reg = None                                                                                                        \n",
      "on 0: reg_w = 0.05                                                                                                      \n",
      "on 0: ~fit complete in                                                                                                  \n",
      "on 300: 8.892s                                                                                                          \n",
      "on 300: ~eval complete in 0.203s                                                                                        \n",
      "on 300:     return_accuracy = 0.387                                                                                     \n",
      "on 300:     return_recall = 0.558                                                                                       \n",
      "on 300:     return_precision = 0.381                                                                                    \n",
      "on 300:     return_f1 = 0.288                                                                                           \n",
      "on 301: -----End with-----                                                                                              \n",
      "on 301: -----With parameters-----                                                                                       \n",
      "on 301: reg = l1                                                                                                        \n",
      "on 301: reg_w = 0.05                                                                                                    \n",
      "on 301: ~fit complete in                                                                                                \n",
      "on 601: 9.358s                                                                                                          \n",
      "on 601: ~eval complete in 0.224s                                                                                        \n",
      "on 601:     return_accuracy = 0.234                                                                                     \n",
      "on 601:     return_recall = 0.443                                                                                       \n",
      "on 601:     return_precision = 0.344                                                                                    \n",
      "on 601:     return_f1 = 0.202                                                                                           \n",
      "on 602: -----End with-----                                                                                              \n",
      "on 602: -----With parameters-----                                                                                       \n",
      "on 602: reg = l2                                                                                                        \n",
      "on 602: reg_w = 0.05                                                                                                    \n",
      "on 602: ~fit complete in                                                                                                \n",
      "on 902: 9.165s                                                                                                          \n",
      "on 902: ~eval complete in 0.194s                                                                                        s\n",
      "on 902:     return_accuracy = 0.270                                                                                     s\n",
      "on 902:     return_recall = 0.471                                                                                       s\n",
      "on 902:     return_precision = 0.342                                                                                    s\n",
      "on 902:     return_f1 = 0.230                                                                                           s\n",
      "on 903: -----End with-----                                                                                              \n",
      "Проверка модели MultilogRegression |████████████████████████████████████████✗︎ (!) 903/900 [100%] in 28.1s (32.12/s)     \n",
      "===============RESULTS=================\n",
      "On iteration 0:\n",
      "With hyperparameters: [0.1, 300]\n",
      "Got metrics: [0.3874, 0.5580211422630731, 0.3808958493989294, 0.28800391564036765]\n"
     ]
    }
   ],
   "source": [
    "params_to_change = {\n",
    "    'reg': [None, 'l1', 'l2'],\n",
    "    'reg_w': [0.05],\n",
    "}\n",
    "MultilogRunner.run(*datapack_lite, params_to_change, one_vs_one=False)"
   ]
  },
  {
   "cell_type": "code",
   "execution_count": 12,
   "metadata": {
    "jukit_cell_id": "NONE"
   },
   "outputs": [
    {
     "name": "stdout",
     "output_type": "stream",
     "text": [
      "on 0: -----With parameters-----                                                                                         \n",
      "on 0: k = 1                                                                                                             \n",
      "on 0: ~fit complete in 0.050s                                                                                           \n",
      "on 0: ~eval complete in                                                                                                 \n",
      "on 5000: 1.709s                                                                                                         \n",
      "on 5000:     return_accuracy = 0.629                                                                                    \n",
      "on 5000:     return_recall = 0.734                                                                                      \n",
      "on 5000:     return_precision = 0.500                                                                                   \n",
      "on 5000:     return_f1 = 0.477                                                                                          \n",
      "on 5000: -----End with-----                                                                                             \n",
      "on 5001: -----With parameters-----                                                                                      \n",
      "on 5001: k = 3                                                                                                          \n",
      "on 5001: ~fit complete in 0.047s                                                                                        \n",
      "on 5001: ~eval complete in                                                                                              \n",
      "on 10001: 1.810s                                                                                                        \n",
      "on 10001:     return_accuracy = 0.626                                                                                   \n",
      "on 10001:     return_recall = 0.730                                                                                     \n",
      "on 10001:     return_precision = 0.488                                                                                  \n",
      "on 10001:     return_f1 = 0.466                                                                                         \n",
      "on 10001: -----End with-----                                                                                            \n",
      "on 10002: -----With parameters-----                                                                                     \n",
      "on 10002: k = 5                                                                                                         \n",
      "on 10002: ~fit complete in 0.048s                                                                                       \n",
      "on 10002: ~eval complete in                                                                                             \n",
      "on 15002: 1.750s                                                                                                        \n",
      "on 15002:     return_accuracy = 0.622                                                                                   \n",
      "on 15002:     return_recall = 0.727                                                                                     \n",
      "on 15002:     return_precision = 0.485                                                                                  \n",
      "on 15002:     return_f1 = 0.463                                                                                         \n",
      "on 15002: -----End with-----                                                                                            \n",
      "on 15003: -----With parameters-----                                                                                     \n",
      "on 15003: k = 7                                                                                                         \n",
      "on 15003: ~fit complete in 0.041s                                                                                       \n",
      "on 15003: ~eval complete in                                                                                             \n",
      "on 20003: 1.712s                                                                                                        \n",
      "on 20003:     return_accuracy = 0.608                                                                                   \n",
      "on 20003:     return_recall = 0.717                                                                                     \n",
      "on 20003:     return_precision = 0.479                                                                                  \n",
      "on 20003:     return_f1 = 0.454                                                                                         \n",
      "on 20003: -----End with-----                                                                                            \n",
      "on 20004: -----With parameters-----                                                                                     \n",
      "on 20004: k = 10                                                                                                        \n",
      "on 20004: ~fit complete in 0.045s                                                                                       \n",
      "on 20004: ~eval complete in                                                                                             \n",
      "on 25004: 1.764s                                                                                                        \n",
      "on 25004:     return_accuracy = 0.602                                                                                   \n",
      "on 25004:     return_recall = 0.711                                                                                     \n",
      "on 25004:     return_precision = 0.478                                                                                  \n",
      "on 25004:     return_f1 = 0.448                                                                                         \n",
      "on 25004: -----End with-----                                                                                            \n",
      "Проверка модели KnnModel |████████████████████████████████████████| 25005/25005 [100%] in 9.1s (2746.59/s)              \n",
      "===============RESULTS=================\n",
      "On iteration 0:\n",
      "With hyperparameters: [1]\n",
      "Got metrics: [0.6292, 0.7339819667849938, 0.49995519026928925, 0.4768180509485743]\n"
     ]
    }
   ],
   "source": [
    "# KNN\n",
    "\n",
    "hp = {\n",
    "    'data_converter': PCA_severe,\n",
    "    'k': 3,\n",
    "}\n",
    "\n",
    "\n",
    "KNNrunner = ModelRunner(KnnModel, defaults=hp, metrics=my_metrics, responsive_bar=True)\n",
    "params_to_change = {\n",
    "    'k': [1,3,5,7,10]\n",
    "}\n",
    "KNNrunner.run(*datapack_lite, params_to_change, one_vs_one=True)"
   ]
  },
  {
   "cell_type": "code",
   "execution_count": 13,
   "metadata": {
    "jukit_cell_id": "NONE"
   },
   "outputs": [
    {
     "name": "stdout",
     "output_type": "stream",
     "text": [
      "on 0: -----With parameters-----                                                                                         \n",
      "on 0: data_converter = <function get_plain_data at 0x7f923ede8940>                                                      \n",
      "on 0: ~fit complete in 0.030s                                                                                           \n",
      "on 0: ~eval complete in 0.122s                                                                                          \n",
      "on 0:     return_accuracy = 0.270                                                                                       \n",
      "on 0:     return_recall = 0.396                                                                                         \n",
      "on 0:     return_precision = 0.520                                                                                      \n",
      "on 0:     return_f1 = 0.196                                                                                             \n",
      "                                                                                                                        \r"
     ]
    },
    {
     "name": "stderr",
     "output_type": "stream",
     "text": [
      "on 0: /run/media/dvarkless/LinuxData/Files/Учеба/Data_Science_Course/InnopolisDS/summer-finals/model_bayes.py:37: RuntimeWarning: divide by zero encountered in power\n",
      "        prob_inverse = np.power(prob_in, -1)/10000\n"
     ]
    },
    {
     "name": "stdout",
     "output_type": "stream",
     "text": [
      "on 1: -----End with-----                                                                                                \n",
      "on 1: -----With parameters-----                                                                                         \n",
      "on 1: data_converter = <function threshold_mid at 0x7f923ede89d0>                                                       \n",
      "on 1: ~fit complete in 0.024s                                                                                           \n",
      "on 1: ~eval complete in 0.184s                                                                                          \n",
      "on 1:     return_accuracy = 0.278                                                                                       \n",
      "on 1:     return_recall = 0.428                                                                                         \n",
      "on 1:     return_precision = 0.433                                                                                      \n",
      "on 1:     return_f1 = 0.198                                                                                             \n",
      "                                                                                                                        \r"
     ]
    },
    {
     "name": "stderr",
     "output_type": "stream",
     "text": [
      "on 1: /run/media/dvarkless/LinuxData/Files/Учеба/Data_Science_Course/InnopolisDS/summer-finals/model_bayes.py:37: RuntimeWarning: divide by zero encountered in power\n",
      "        prob_inverse = np.power(prob_in, -1)/10000\n"
     ]
    },
    {
     "name": "stdout",
     "output_type": "stream",
     "text": [
      "on 2: -----End with-----                                                                                                \n",
      "Проверка модели BayesianClassifier |████████████████████████████████████████| 2/2 [100%] in 0.4s (4.86/s)               \n",
      "===============RESULTS=================\n",
      "On iteration 0:\n",
      "With hyperparameters: [<function get_plain_data at 0x7f923ede8940>]\n",
      "Got metrics: [0.2702, 0.3956182433071156, 0.5202723933041188, 0.19553933860467618]\n"
     ]
    }
   ],
   "source": [
    "# Bayes\n",
    "\n",
    "hp = {\n",
    "    'data_converter': threshold_mid,\n",
    "    'num_classes': 26,\n",
    "}\n",
    "\n",
    "\n",
    "BayesRunner = ModelRunner(BayesianClassifier, defaults=hp, metrics=my_metrics)\n",
    "params_to_change = {\n",
    "    'data_converter': [get_plain_data, threshold_mid],\n",
    "}\n",
    "BayesRunner.run(*datapack_mid, params_to_change, one_vs_one=False)"
   ]
  },
  {
   "cell_type": "code",
   "execution_count": 14,
   "metadata": {
    "jukit_cell_id": "NONE"
   },
   "outputs": [
    {
     "name": "stdout",
     "output_type": "stream",
     "text": [
      "on 0: -----With parameters-----                                                                                         \n",
      "on 0: learning_rate = 0.001                                                                                             \n",
      "on 0: epochs = 50                                                                                                       \n",
      "on 0: ~fit complete in                                                                                                  \n",
      "on 50: 0.758s                                                                                                           \n",
      "on 50: ~eval complete in 0.092s                                                                                         \n",
      "on 50:     return_accuracy = 0.476                                                                                      \n",
      "on 50:     return_recall = 0.623                                                                                        \n",
      "on 50:     return_precision = 0.421                                                                                     \n",
      "on 50:     return_f1 = 0.355                                                                                            \n",
      "on 50: -----End with-----                                                                                               \n",
      "on 51: -----With parameters-----                                                                                        \n",
      "on 51: learning_rate = 0.001                                                                                            \n",
      "on 51: epochs = 150                                                                                                     \n",
      "on 51: ~fit complete in                                                                                                 \n",
      "on 201: 2.156s                                                                                                          \n",
      "on 201: ~eval complete in 0.097s                                                                                        \n",
      "on 201:     return_accuracy = 0.476                                                                                     \n",
      "on 201:     return_recall = 0.623                                                                                       \n",
      "on 201:     return_precision = 0.421                                                                                    \n",
      "on 201:     return_f1 = 0.355                                                                                           \n",
      "on 201: -----End with-----                                                                                              \n",
      "on 202: -----With parameters-----                                                                                       \n",
      "on 202: learning_rate = 0.001                                                                                           \n",
      "on 202: epochs = 450                                                                                                    \n",
      "on 202: ~fit complete in                                                                                                \n",
      "on 652: 6.184s                                                                                                          \n",
      "on 652: ~eval complete in 0.103s                                                                                        \n",
      "on 652:     return_accuracy = 0.477                                                                                     \n",
      "on 652:     return_recall = 0.623                                                                                       \n",
      "on 652:     return_precision = 0.422                                                                                    \n",
      "on 652:     return_f1 = 0.356                                                                                           \n",
      "on 652: -----End with-----                                                                                              \n",
      "on 653: -----With parameters-----                                                                                       \n",
      "on 653: learning_rate = 0.01                                                                                            \n",
      "on 653: epochs = 50                                                                                                     \n",
      "on 653: ~fit complete in                                                                                                \n",
      "on 703: 0.724s                                                                                                          \n",
      "on 703: ~eval complete in 0.091s                                                                                        \n",
      "on 703:     return_accuracy = 0.477                                                                                     \n",
      "on 703:     return_recall = 0.623                                                                                       \n",
      "on 703:     return_precision = 0.420                                                                                    \n",
      "on 703:     return_f1 = 0.356                                                                                           \n",
      "on 703: -----End with-----                                                                                              \n",
      "on 704: -----With parameters-----                                                                                       \n",
      "on 704: learning_rate = 0.01                                                                                            \n",
      "on 704: epochs = 150                                                                                                    \n",
      "on 704: ~fit complete in                                                                                                \n",
      "on 854: 2.156s                                                                                                          \n",
      "on 854: ~eval complete in 0.087s                                                                                        \n",
      "on 854:     return_accuracy = 0.477                                                                                     \n",
      "on 854:     return_recall = 0.623                                                                                       \n",
      "on 854:     return_precision = 0.421                                                                                    \n",
      "on 854:     return_f1 = 0.356                                                                                           \n",
      "on 854: -----End with-----                                                                                              \n",
      "on 855: -----With parameters-----                                                                                       \n",
      "on 855: learning_rate = 0.01                                                                                            \n",
      "on 855: epochs = 450                                                                                                    \n",
      "on 855: ~fit complete in                                                                                                \n",
      "on 1305: 5.952s                                                                                                         \n",
      "on 1305: ~eval complete in 0.094s                                                                                       \n",
      "on 1305:     return_accuracy = 0.476                                                                                    \n",
      "on 1305:     return_recall = 0.622                                                                                      \n",
      "on 1305:     return_precision = 0.420                                                                                   \n",
      "on 1305:     return_f1 = 0.355                                                                                          \n",
      "on 1305: -----End with-----                                                                                             \n",
      "on 1306: -----With parameters-----                                                                                      \n"
     ]
    },
    {
     "name": "stdout",
     "output_type": "stream",
     "text": [
      "on 1306: learning_rate = 0.1                                                                                            \n",
      "on 1306: epochs = 50                                                                                                    \n",
      "on 1306: ~fit complete in                                                                                               \n",
      "on 1356: 0.704s                                                                                                         \n",
      "on 1356: ~eval complete in 0.084s                                                                                       \n",
      "on 1356:     return_accuracy = 0.476                                                                                    \n",
      "on 1356:     return_recall = 0.623                                                                                      \n",
      "on 1356:     return_precision = 0.420                                                                                   \n",
      "on 1356:     return_f1 = 0.356                                                                                          \n",
      "on 1356: -----End with-----                                                                                             \n",
      "on 1357: -----With parameters-----                                                                                      \n",
      "on 1357: learning_rate = 0.1                                                                                            \n",
      "on 1357: epochs = 150                                                                                                   \n",
      "on 1357: ~fit complete in                                                                                               \n",
      "on 1507: 2.006s                                                                                                         \n",
      "on 1507: ~eval complete in 0.088s                                                                                       \n",
      "on 1507:     return_accuracy = 0.480                                                                                    \n",
      "on 1507:     return_recall = 0.624                                                                                      \n",
      "on 1507:     return_precision = 0.429                                                                                   \n",
      "on 1507:     return_f1 = 0.360                                                                                          \n",
      "on 1507: -----End with-----                                                                                             \n",
      "on 1508: -----With parameters-----                                                                                      \n",
      "on 1508: learning_rate = 0.1                                                                                            \n",
      "on 1508: epochs = 450                                                                                                   \n",
      "on 1508: ~fit complete in                                                                                               \n",
      "on 1958: 5.970s                                                                                                          \n",
      "on 1958: ~eval complete in 0.086s                                                                                       \n",
      "on 1958:     return_accuracy = 0.473                                                                                    \n",
      "on 1958:     return_recall = 0.620                                                                                      \n",
      "on 1958:     return_precision = 0.423                                                                                   \n",
      "on 1958:     return_f1 = 0.354                                                                                          \n",
      "on 1958: -----End with-----                                                                                             \n",
      "Проверка модели SVM_Model |████████████████████████████████████████✗︎ (!) 1959/1800 [109%] in 27.8s (70.59/s)            \n",
      "===============RESULTS=================\n",
      "On iteration 7:\n",
      "With hyperparameters: [0.1, 150]\n",
      "Got metrics: [0.4796, 0.6244435862287224, 0.42948725150754774, 0.3602004257835153]\n"
     ]
    }
   ],
   "source": [
    "# SVM\n",
    "\n",
    "hp = {\n",
    "    'data_converter': PCA_extreme,\n",
    "    'num_classes': 26,\n",
    "    'epochs': 200,\n",
    "    'batch_size': 100,\n",
    "    'learning_rate': 0.01,\n",
    "    'regularization': 0.0005,\n",
    "    'normalization': True,\n",
    "    'shift_column': True,\n",
    "}\n",
    "\n",
    "\n",
    "SVMRunner = ModelRunner(SVM_Model, defaults=hp, metrics=my_metrics, responsive_bar=True)\n",
    "params_to_change = {\n",
    "    'learning_rate': [0.001, 0.01, 0.1],\n",
    "    'epochs': [50, 150, 450],\n",
    "}\n",
    "SVMRunner.run(*datapack_mid, params_to_change, one_vs_one=True)"
   ]
  },
  {
   "cell_type": "code",
   "execution_count": null,
   "metadata": {},
   "outputs": [
    {
     "name": "stdout",
     "output_type": "stream",
     "text": [
      "on 0: -----With parameters-----                                                                                         \n",
      "on 0: tree_type = multilabel_ovo                                                                                        \n",
      "on 0: sample_len = 8                                                                                                    \n",
      "on 0: ~fit complete in                                                                                                  \n",
      "                                                                                                                        \r"
     ]
    },
    {
     "name": "stderr",
     "output_type": "stream",
     "text": [
      "on 0: /run/media/dvarkless/LinuxData/Files/Учеба/Data_Science_Course/InnopolisDS/summer-finals/model_decisiontree.py:37: RuntimeWarning: Mean of empty slice.\n",
      "        self.right_mean = data[is_true][:, -1].mean()\n",
      "/run/media/dvarkless/LinuxData/Files/Учеба/Data_Science_Course/Finals1/venv/lib/python3.10/site-packages/numpy/core/_methods.py:190: RuntimeWarning: invalid value encountered in double_scalars\n",
      "        ret = ret.dtype.type(ret / rcount)\n",
      "/run/media/dvarkless/LinuxData/Files/Учеба/Data_Science_Course/InnopolisDS/summer-finals/model_decisiontree.py:40: RuntimeWarning: Mean of empty slice.\n",
      "        self.left_mean = data[is_false][:, -1].mean()\n"
     ]
    },
    {
     "name": "stdout",
     "output_type": "stream",
     "text": [
      "on 325: 632.535s                                                                                                        \n",
      "on 325: ~eval complete in 3.524s                                                                                        \n",
      "on 325:     return_accuracy = 0.344                                                                                     \n",
      "on 325:     return_recall = 0.498                                                                                       \n",
      "on 325:     return_precision = 0.287                                                                                    \n",
      "on 325:     return_f1 = 0.265                                                                                           \n",
      "on 325: -----End with-----                                                                                              \n",
      "on 326: -----With parameters-----                                                                                       \n",
      "on 326: tree_type = multilabel_ovo                                                                                      \n",
      "on 326: sample_len = 64                                                                                                 \n",
      "on 326: ~fit complete in                                                                                                \n",
      "                                                                                                                        \r"
     ]
    },
    {
     "name": "stderr",
     "output_type": "stream",
     "text": [
      "on 326: /run/media/dvarkless/LinuxData/Files/Учеба/Data_Science_Course/InnopolisDS/summer-finals/model_decisiontree.py:37: RuntimeWarning: Mean of empty slice.\n",
      "          self.right_mean = data[is_true][:, -1].mean()\n",
      "/run/media/dvarkless/LinuxData/Files/Учеба/Data_Science_Course/Finals1/venv/lib/python3.10/site-packages/numpy/core/_methods.py:190: RuntimeWarning: invalid value encountered in double_scalars\n",
      "          ret = ret.dtype.type(ret / rcount)\n",
      "/run/media/dvarkless/LinuxData/Files/Учеба/Data_Science_Course/InnopolisDS/summer-finals/model_decisiontree.py:40: RuntimeWarning: Mean of empty slice.\n",
      "          self.left_mean = data[is_false][:, -1].mean()\n"
     ]
    },
    {
     "name": "stdout",
     "output_type": "stream",
     "text": [
      "Проверка модели DecisionTreeClassifier |███████████████████▃                    | ▁▃▅ 629/1300 [48%] in 1:13:15 (0.1/s, "
     ]
    }
   ],
   "source": [
    "# Tree\n",
    "# lite data\n",
    "hp = {\n",
    "        'data_converter': PCA_extreme,\n",
    "        'sample_len': 32,\n",
    "        'num_classes': 26,\n",
    "        'window_size': -1,\n",
    "        'min_samples': 3,\n",
    "        'max_depth': 7,\n",
    "        'tree_type': 'multilabel_ovo',\n",
    "}\n",
    "\n",
    "TreeRunner = ModelRunner(DecisionTreeClassifier,\n",
    "                         defaults=hp, metrics=my_metrics, responsive_bar=True)\n",
    "params_to_change = {\n",
    "    'tree_type': ['multilabel_ovo', 'multilabel_ovr'],\n",
    "    'sample_len': [8, 64],\n",
    "}\n",
    "TreeRunner.run(*datapack_lite, params_to_change, one_vs_one=True)"
   ]
  },
  {
   "cell_type": "code",
   "execution_count": null,
   "metadata": {},
   "outputs": [],
   "source": [
    "params_to_change = {\n",
    "    'window_size': [5, 25],\n",
    "}\n",
    "TreeRunner.run(*datapack_lite, params_to_change, one_vs_one=True)"
   ]
  },
  {
   "cell_type": "code",
   "execution_count": null,
   "metadata": {},
   "outputs": [],
   "source": [
    "# Tree\n",
    "# medium sized data\n",
    "hp = {\n",
    "        'data_converter': PCA_extreme,\n",
    "        'sample_len': 32,\n",
    "        'num_classes': 26,\n",
    "        'window_size': -1,\n",
    "        'min_samples': 4,\n",
    "        'max_depth': 8,\n",
    "        'tree_type': 'multilabel_ovo',\n",
    "}\n",
    "\n",
    "TreeRunner = ModelRunner(DecisionTreeClassifier,\n",
    "                         defaults=hp, metrics=my_metrics, responsive_bar=True)\n",
    "params_to_change = {\n",
    "    'tree_type': ['multilabel_ovo', 'multilabel_ovr'],\n",
    "}\n",
    "TreeRunner.run(*datapack_mid, params_to_change, one_vs_one=False)"
   ]
  },
  {
   "cell_type": "code",
   "execution_count": null,
   "metadata": {},
   "outputs": [],
   "source": [
    "# Tree\n",
    "# full sized data\n",
    "hp = {\n",
    "        'data_converter': PCA_extreme,\n",
    "        'sample_len': 32,\n",
    "        'num_classes': 26,\n",
    "        'window_size': -1,\n",
    "        'min_samples': 5,\n",
    "        'max_depth': 9,\n",
    "        'tree_type': 'multilabel_ovo',\n",
    "}\n",
    "\n",
    "TreeRunner = ModelRunner(DecisionTreeClassifier,\n",
    "                         defaults=hp, metrics=my_metrics, responsive_bar=True)\n",
    "params_to_change = {\n",
    "    'tree_type': ['multilabel_ovo', 'multilabel_ovr'],\n",
    "}\n",
    "TreeRunner.run(*datapack_full, params_to_change, one_vs_one=False)"
   ]
  },
  {
   "cell_type": "markdown",
   "metadata": {},
   "source": [
    "# Проверка моделей с оптимальными параметрами на полном наборе данных"
   ]
  },
  {
   "cell_type": "code",
   "execution_count": null,
   "metadata": {},
   "outputs": [],
   "source": [
    "assert(False)"
   ]
  },
  {
   "cell_type": "markdown",
   "metadata": {},
   "source": [
    "# Получение предсказаний из набора данных промежуточной аттестации"
   ]
  },
  {
   "cell_type": "code",
   "execution_count": null,
   "metadata": {},
   "outputs": [],
   "source": []
  },
  {
   "cell_type": "code",
   "execution_count": null,
   "metadata": {},
   "outputs": [],
   "source": [
    "evaluation_input = np.genfromtxt(\n",
    "    \"datasets/emnist-letters-test-data.csv\", delimiter=\",\", filling_values=0)\n",
    "\n",
    "evaluation_labels = evaluation_input[1:, 0]\n",
    "evaluation_input = evaluation_input[1:, 1:]\n",
    "evaluation_input = np.array(list(map(convert_to_emnist, evaluation_input)))\n",
    "\n",
    "evaluation_answers = evaluation_labels//800 + 1\n",
    "model = KNNrunner.get_models()[3]\n",
    "preds = model.predict(evaluation_input)\n",
    "print(return_accuracy(preds, evaluation_answers))"
   ]
  },
  {
   "cell_type": "code",
   "execution_count": null,
   "metadata": {},
   "outputs": [],
   "source": [
    "import csv\n",
    "\n",
    "header = ['id', 'class']\n",
    "pos = np.arange(20800)[:, np.newaxis].astype(np.uint32)\n",
    "data = np.hstack((pos, preds[:, np.newaxis])).astype(np.uint32)\n",
    "\n",
    "with open('Suleimanov_KNN_predictions.csv','w', newline=\"\") as file:\n",
    "    writer = csv.writer(\n",
    "    file, delimiter=\",\", quotechar=\"|\", quoting=csv.QUOTE_MINIMAL)\n",
    "    writer.writerow(header)\n",
    "    writer.writerows(data)"
   ]
  },
  {
   "cell_type": "code",
   "execution_count": null,
   "metadata": {},
   "outputs": [],
   "source": []
  }
 ],
 "metadata": {
  "anaconda-cloud": {},
  "kernelspec": {
   "display_name": "finals_env",
   "language": "python",
   "name": "finals_env"
  },
  "language_info": {
   "codemirror_mode": {
    "name": "ipython",
    "version": 3
   },
   "file_extension": ".py",
   "mimetype": "text/x-python",
   "name": "python",
   "nbconvert_exporter": "python",
   "pygments_lexer": "ipython3",
   "version": "3.10.5"
  }
 },
 "nbformat": 4,
 "nbformat_minor": 4
}
